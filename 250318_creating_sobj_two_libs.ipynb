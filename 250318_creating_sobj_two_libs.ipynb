{
 "cells": [
  {
   "cell_type": "code",
   "execution_count": 68,
   "metadata": {
    "vscode": {
     "languageId": "r"
    }
   },
   "outputs": [],
   "source": [
    "library(Seurat)\n",
    "library(Signac)\n",
    "library(CellChat)\n",
    "library(patchwork)\n",
    "library(argparse)\n",
    "source(\"/tscc/projects/ps-epigen/users/kdang/eye_final/source_FunFig.R\")\n",
    "library(dplyr)                                                               \n",
    "library(devtools)\n",
    "library(hdf5r)\n",
    "source(\"/tscc/projects/ps-epigen/bpToolbox/utils.R\")"
   ]
  },
  {
   "cell_type": "code",
   "execution_count": 69,
   "metadata": {
    "vscode": {
     "languageId": "r"
    }
   },
   "outputs": [],
   "source": [
    "#sobj.data <- Read10X_h5(\"/tscc/projects/ps-epigen/users/a2jorgensen/sandbox/250225_humanAT2_organoids/data/Cellranger/JB_1466/raw_feature_bc_matrix.h5\")\n",
    "lib1.data <- Read10X(\"/tscc/projects/ps-epigen/10x_output/250311/counts_out/snRNA/JB_1495/outs/raw_feature_bc_matrix/\")\n",
    "# Load Demuxlet best files\n",
    "demux_lib1 <- read.table(\"/tscc/projects/ps-epigen/users/a2jorgensen/sandbox/250225_humanAT2_organoids/data/Demux/250317_AT2_organoid_ZO/popscle_out/JB_1495.best\", header = TRUE, sep = \"\\t\", stringsAsFactors = FALSE)\n"
   ]
  },
  {
   "cell_type": "code",
   "execution_count": 70,
   "metadata": {
    "vscode": {
     "languageId": "r"
    }
   },
   "outputs": [
    {
     "data": {
      "text/html": [
       "<style>\n",
       ".list-inline {list-style: none; margin:0; padding: 0}\n",
       ".list-inline>li {display: inline-block}\n",
       ".list-inline>li:not(:last-child)::after {content: \"\\00b7\"; padding: 0 .5ex}\n",
       "</style>\n",
       "<ol class=list-inline><li>'INT_ID'</li><li>'BARCODE'</li><li>'NUM.SNPS'</li><li>'NUM.READS'</li><li>'DROPLET.TYPE'</li><li>'BEST.GUESS'</li><li>'BEST.LLK'</li><li>'NEXT.GUESS'</li><li>'NEXT.LLK'</li><li>'DIFF.LLK.BEST.NEXT'</li><li>'BEST.POSTERIOR'</li><li>'SNG.POSTERIOR'</li><li>'SNG.BEST.GUESS'</li><li>'SNG.BEST.LLK'</li><li>'SNG.NEXT.GUESS'</li><li>'SNG.NEXT.LLK'</li><li>'SNG.ONLY.POSTERIOR'</li><li>'DBL.BEST.GUESS'</li><li>'DBL.BEST.LLK'</li><li>'DIFF.LLK.SNG.DBL'</li></ol>\n"
      ],
      "text/latex": [
       "\\begin{enumerate*}\n",
       "\\item 'INT\\_ID'\n",
       "\\item 'BARCODE'\n",
       "\\item 'NUM.SNPS'\n",
       "\\item 'NUM.READS'\n",
       "\\item 'DROPLET.TYPE'\n",
       "\\item 'BEST.GUESS'\n",
       "\\item 'BEST.LLK'\n",
       "\\item 'NEXT.GUESS'\n",
       "\\item 'NEXT.LLK'\n",
       "\\item 'DIFF.LLK.BEST.NEXT'\n",
       "\\item 'BEST.POSTERIOR'\n",
       "\\item 'SNG.POSTERIOR'\n",
       "\\item 'SNG.BEST.GUESS'\n",
       "\\item 'SNG.BEST.LLK'\n",
       "\\item 'SNG.NEXT.GUESS'\n",
       "\\item 'SNG.NEXT.LLK'\n",
       "\\item 'SNG.ONLY.POSTERIOR'\n",
       "\\item 'DBL.BEST.GUESS'\n",
       "\\item 'DBL.BEST.LLK'\n",
       "\\item 'DIFF.LLK.SNG.DBL'\n",
       "\\end{enumerate*}\n"
      ],
      "text/markdown": [
       "1. 'INT_ID'\n",
       "2. 'BARCODE'\n",
       "3. 'NUM.SNPS'\n",
       "4. 'NUM.READS'\n",
       "5. 'DROPLET.TYPE'\n",
       "6. 'BEST.GUESS'\n",
       "7. 'BEST.LLK'\n",
       "8. 'NEXT.GUESS'\n",
       "9. 'NEXT.LLK'\n",
       "10. 'DIFF.LLK.BEST.NEXT'\n",
       "11. 'BEST.POSTERIOR'\n",
       "12. 'SNG.POSTERIOR'\n",
       "13. 'SNG.BEST.GUESS'\n",
       "14. 'SNG.BEST.LLK'\n",
       "15. 'SNG.NEXT.GUESS'\n",
       "16. 'SNG.NEXT.LLK'\n",
       "17. 'SNG.ONLY.POSTERIOR'\n",
       "18. 'DBL.BEST.GUESS'\n",
       "19. 'DBL.BEST.LLK'\n",
       "20. 'DIFF.LLK.SNG.DBL'\n",
       "\n",
       "\n"
      ],
      "text/plain": [
       " [1] \"INT_ID\"             \"BARCODE\"            \"NUM.SNPS\"          \n",
       " [4] \"NUM.READS\"          \"DROPLET.TYPE\"       \"BEST.GUESS\"        \n",
       " [7] \"BEST.LLK\"           \"NEXT.GUESS\"         \"NEXT.LLK\"          \n",
       "[10] \"DIFF.LLK.BEST.NEXT\" \"BEST.POSTERIOR\"     \"SNG.POSTERIOR\"     \n",
       "[13] \"SNG.BEST.GUESS\"     \"SNG.BEST.LLK\"       \"SNG.NEXT.GUESS\"    \n",
       "[16] \"SNG.NEXT.LLK\"       \"SNG.ONLY.POSTERIOR\" \"DBL.BEST.GUESS\"    \n",
       "[19] \"DBL.BEST.LLK\"       \"DIFF.LLK.SNG.DBL\"  "
      ]
     },
     "metadata": {},
     "output_type": "display_data"
    }
   ],
   "source": [
    "unique(colnames(demux_lib1))\n"
   ]
  },
  {
   "cell_type": "code",
   "execution_count": 71,
   "metadata": {
    "vscode": {
     "languageId": "r"
    }
   },
   "outputs": [
    {
     "data": {
      "text/plain": [
       "\n",
       "  AMB   DBL   SNG \n",
       "29622   198 10213 "
      ]
     },
     "metadata": {},
     "output_type": "display_data"
    }
   ],
   "source": [
    "table(demux_lib1$DROPLET.TYPE)"
   ]
  },
  {
   "cell_type": "code",
   "execution_count": 72,
   "metadata": {
    "vscode": {
     "languageId": "r"
    }
   },
   "outputs": [],
   "source": [
    "sobj.lib1 <- CreateSeuratObject(counts = lib1.data, project = \"JB_1495_Organoid\")"
   ]
  },
  {
   "cell_type": "code",
   "execution_count": 73,
   "metadata": {
    "vscode": {
     "languageId": "r"
    }
   },
   "outputs": [],
   "source": [
    "rownames(demux_lib1) <- demux_lib1$BARCODE"
   ]
  },
  {
   "cell_type": "code",
   "execution_count": 74,
   "metadata": {
    "vscode": {
     "languageId": "r"
    }
   },
   "outputs": [
    {
     "name": "stdout",
     "output_type": "stream",
     "text": [
      "Seurat Barcodes (first 10):\n",
      " [1] \"AAACCAAAGAACCTAT-1\" \"AAACCAAAGAACCTTG-1\" \"AAACCAAAGAACGATA-1\"\n",
      " [4] \"AAACCAAAGAACGGGC-1\" \"AAACCAAAGAAGCAAC-1\" \"AAACCAAAGAAGCACG-1\"\n",
      " [7] \"AAACCAAAGAAGCCAG-1\" \"AAACCAAAGAAGCCCT-1\" \"AAACCAAAGAAGCTGG-1\"\n",
      "[10] \"AAACCAAAGAAGGACT-1\"\n",
      "Demuxlet Barcodes (first 10):\n",
      " [1] \".\"                  \"AAACCAAAGAAGGGCC-1\" \"AAACCAAAGCCCGTGA-1\"\n",
      " [4] \"AAACCAAAGCGCTCGA-1\" \"AAACCAAAGGAGCTAG-1\" \"AAACCAAAGGCTACCG-1\"\n",
      " [7] \"AAACCAAAGGTGGACA-1\" \"AAACCAAAGGTTAATC-1\" \"AAACCAAAGTATGAAG-1\"\n",
      "[10] \"AAACCATTCACCATGA-1\"\n"
     ]
    }
   ],
   "source": [
    "# Extract barcodes from Seurat object\n",
    "seurat_barcodes <- rownames(sobj.lib1@meta.data)\n",
    "\n",
    "# Extract barcodes from Demuxlet table\n",
    "demux_barcodes <- rownames(demux_lib1)\n",
    "\n",
    "# Print examples of barcodes\n",
    "cat(\"Seurat Barcodes (first 10):\\n\")\n",
    "print(head(seurat_barcodes, 10))\n",
    "\n",
    "cat(\"Demuxlet Barcodes (first 10):\\n\")\n",
    "print(head(demux_barcodes, 10))\n"
   ]
  },
  {
   "cell_type": "code",
   "execution_count": 75,
   "metadata": {
    "vscode": {
     "languageId": "r"
    }
   },
   "outputs": [
    {
     "name": "stdout",
     "output_type": "stream",
     "text": [
      "Matching barcodes after removing '.': 40032 \n"
     ]
    }
   ],
   "source": [
    "# Remove rows with \".\" from Demuxlet metadata\n",
    "demux_lib1 <- demux_lib1[demux_barcodes != \".\", , drop = FALSE]\n",
    "\n",
    "# Re-extract cleaned Demuxlet barcodes\n",
    "demux_barcodes <- rownames(demux_lib1)\n",
    "# Find how many Demuxlet barcodes match Seurat barcodes\n",
    "matching_barcodes <- sum(demux_barcodes %in% seurat_barcodes)\n",
    "cat(\"Matching barcodes after removing '.':\", matching_barcodes, \"\\n\")\n"
   ]
  },
  {
   "cell_type": "code",
   "execution_count": 76,
   "metadata": {
    "vscode": {
     "languageId": "r"
    }
   },
   "outputs": [
    {
     "name": "stdout",
     "output_type": "stream",
     "text": [
      "Barcodes in Demuxlet but not in Seurat:\n",
      "character(0)\n",
      "Barcodes in Seurat but not in Demuxlet:\n",
      " [1] \"AAACCAAAGAACCTAT-1\" \"AAACCAAAGAACCTTG-1\" \"AAACCAAAGAACGATA-1\"\n",
      " [4] \"AAACCAAAGAACGGGC-1\" \"AAACCAAAGAAGCAAC-1\" \"AAACCAAAGAAGCACG-1\"\n",
      " [7] \"AAACCAAAGAAGCCAG-1\" \"AAACCAAAGAAGCCCT-1\" \"AAACCAAAGAAGCTGG-1\"\n",
      "[10] \"AAACCAAAGAAGGACT-1\"\n"
     ]
    }
   ],
   "source": [
    "# Find barcodes in Demuxlet but not in Seurat\n",
    "demux_not_in_seurat <- setdiff(demux_barcodes, seurat_barcodes)\n",
    "\n",
    "# Find barcodes in Seurat but not in Demuxlet\n",
    "seurat_not_in_demux <- setdiff(seurat_barcodes, demux_barcodes)\n",
    "\n",
    "# Print differences\n",
    "cat(\"Barcodes in Demuxlet but not in Seurat:\\n\")\n",
    "print(head(demux_not_in_seurat, 10))  # Show first 10\n",
    "\n",
    "cat(\"Barcodes in Seurat but not in Demuxlet:\\n\")\n",
    "print(head(seurat_not_in_demux, 10))  # Show first 10\n"
   ]
  },
  {
   "cell_type": "code",
   "execution_count": 41,
   "metadata": {
    "vscode": {
     "languageId": "r"
    }
   },
   "outputs": [
    {
     "data": {
      "text/html": [
       "0"
      ],
      "text/latex": [
       "0"
      ],
      "text/markdown": [
       "0"
      ],
      "text/plain": [
       "[1] 0"
      ]
     },
     "metadata": {},
     "output_type": "display_data"
    },
    {
     "data": {
      "text/html": [
       "1400597"
      ],
      "text/latex": [
       "1400597"
      ],
      "text/markdown": [
       "1400597"
      ],
      "text/plain": [
       "[1] 1400597"
      ]
     },
     "metadata": {},
     "output_type": "display_data"
    }
   ],
   "source": [
    "length(demux_not_in_seurat)\n",
    "length(seurat_not_in_demux)"
   ]
  },
  {
   "cell_type": "code",
   "execution_count": 77,
   "metadata": {
    "vscode": {
     "languageId": "r"
    }
   },
   "outputs": [
    {
     "name": "stdout",
     "output_type": "stream",
     "text": [
      "Final number of matching barcodes: 40032 \n"
     ]
    }
   ],
   "source": [
    "# Keep only rows where barcodes match Seurat object\n",
    "demux_lib1_subset <- demux_lib1[demux_barcodes %in% seurat_barcodes, , drop = FALSE]\n",
    "\n",
    "# Verify barcode alignment\n",
    "cat(\"Final number of matching barcodes:\", nrow(demux_lib1_subset), \"\\n\")\n"
   ]
  },
  {
   "cell_type": "code",
   "execution_count": 78,
   "metadata": {
    "vscode": {
     "languageId": "r"
    }
   },
   "outputs": [],
   "source": [
    "# Ensure row names align with Seurat object before adding metadata\n",
    "rownames(demux_lib1_subset) <- seurat_barcodes[match(rownames(demux_lib1_subset), demux_barcodes)]\n"
   ]
  },
  {
   "cell_type": "code",
   "execution_count": 79,
   "metadata": {
    "vscode": {
     "languageId": "r"
    }
   },
   "outputs": [],
   "source": [
    "\n",
    "# Add metadata to Seurat object\n",
    "sobj.lib1 <- AddMetaData(sobj.lib1, metadata = demux_lib1_subset)\n"
   ]
  },
  {
   "cell_type": "code",
   "execution_count": null,
   "metadata": {
    "vscode": {
     "languageId": "r"
    }
   },
   "outputs": [],
   "source": [
    "setwd(\"/tscc/projects/ps-epigen/users/a2jorgensen/sandbox/250225_humanAT2_organoids/data/rds_objs/\")"
   ]
  },
  {
   "cell_type": "code",
   "execution_count": null,
   "metadata": {
    "vscode": {
     "languageId": "r"
    }
   },
   "outputs": [],
   "source": [
    "saveRDS(sobj.lib1, \"\")"
   ]
  },
  {
   "cell_type": "code",
   "execution_count": 45,
   "metadata": {
    "vscode": {
     "languageId": "r"
    }
   },
   "outputs": [],
   "source": [
    "lib2.data <-  Read10X(\"/tscc/projects/ps-epigen/10x_output/250311/counts_out/snRNA/JB_1496/outs/raw_feature_bc_matrix/\")\n",
    "demux_lib2 <- read.table(\"/tscc/projects/ps-epigen/users/a2jorgensen/sandbox/250225_humanAT2_organoids/data/Demux/250317_AT2_organoid_ZO/popscle_out/JB_1496.best\", header = TRUE, sep = \"\\t\", stringsAsFactors = FALSE)"
   ]
  },
  {
   "cell_type": "code",
   "execution_count": 46,
   "metadata": {
    "vscode": {
     "languageId": "r"
    }
   },
   "outputs": [
    {
     "data": {
      "text/plain": [
       "\n",
       "  AMB   DBL   SNG \n",
       "36206   181 10115 "
      ]
     },
     "metadata": {},
     "output_type": "display_data"
    }
   ],
   "source": [
    "table(demux_lib2$DROPLET.TYPE)"
   ]
  },
  {
   "cell_type": "code",
   "execution_count": 47,
   "metadata": {
    "vscode": {
     "languageId": "r"
    }
   },
   "outputs": [
    {
     "data": {
      "text/html": [
       "<table class=\"dataframe\">\n",
       "<caption>A data.frame: 6 × 20</caption>\n",
       "<thead>\n",
       "\t<tr><th></th><th scope=col>INT_ID</th><th scope=col>BARCODE</th><th scope=col>NUM.SNPS</th><th scope=col>NUM.READS</th><th scope=col>DROPLET.TYPE</th><th scope=col>BEST.GUESS</th><th scope=col>BEST.LLK</th><th scope=col>NEXT.GUESS</th><th scope=col>NEXT.LLK</th><th scope=col>DIFF.LLK.BEST.NEXT</th><th scope=col>BEST.POSTERIOR</th><th scope=col>SNG.POSTERIOR</th><th scope=col>SNG.BEST.GUESS</th><th scope=col>SNG.BEST.LLK</th><th scope=col>SNG.NEXT.GUESS</th><th scope=col>SNG.NEXT.LLK</th><th scope=col>SNG.ONLY.POSTERIOR</th><th scope=col>DBL.BEST.GUESS</th><th scope=col>DBL.BEST.LLK</th><th scope=col>DIFF.LLK.SNG.DBL</th></tr>\n",
       "\t<tr><th></th><th scope=col>&lt;int&gt;</th><th scope=col>&lt;chr&gt;</th><th scope=col>&lt;int&gt;</th><th scope=col>&lt;int&gt;</th><th scope=col>&lt;chr&gt;</th><th scope=col>&lt;chr&gt;</th><th scope=col>&lt;dbl&gt;</th><th scope=col>&lt;chr&gt;</th><th scope=col>&lt;dbl&gt;</th><th scope=col>&lt;dbl&gt;</th><th scope=col>&lt;dbl&gt;</th><th scope=col>&lt;dbl&gt;</th><th scope=col>&lt;chr&gt;</th><th scope=col>&lt;dbl&gt;</th><th scope=col>&lt;chr&gt;</th><th scope=col>&lt;dbl&gt;</th><th scope=col>&lt;dbl&gt;</th><th scope=col>&lt;chr&gt;</th><th scope=col>&lt;dbl&gt;</th><th scope=col>&lt;dbl&gt;</th></tr>\n",
       "</thead>\n",
       "<tbody>\n",
       "\t<tr><th scope=row>1</th><td> 0</td><td>.                 </td><td>6386</td><td>23237</td><td>DBL</td><td>0_0_1_ZBC1,0_0_3_ZBC3,0.50</td><td>-3311.17</td><td>0_0_3_ZBC3,0_0_1_ZBC1,0.50</td><td>-3311.17</td><td>0.00</td><td> 0.0</td><td>1.00</td><td>0_0_1_ZBC1</td><td>-4223.35</td><td>0_0_3_ZBC3</td><td>-6005.15</td><td>0.00000</td><td>0_0_1_ZBC1,0_0_3_ZBC3,0.50</td><td>-3311.17</td><td>-912.18</td></tr>\n",
       "\t<tr><th scope=row>2</th><td> 7</td><td>AAACCAAAGAAGGGTT-1</td><td>   1</td><td>    1</td><td>AMB</td><td>0_0_6_ZBl3,0_0_6_ZBl3,0.00</td><td>   -0.06</td><td>0_0_3_ZBC3,0_0_3_ZBC3,0.00</td><td>   -0.71</td><td>0.65</td><td>-2.9</td><td>0.85</td><td>0_0_6_ZBl3</td><td>   -0.06</td><td>0_0_3_ZBC3</td><td>   -0.71</td><td>0.06490</td><td>0_0_3_ZBC3,0_0_6_ZBl3,0.50</td><td>   -0.33</td><td>   0.27</td></tr>\n",
       "\t<tr><th scope=row>3</th><td>10</td><td>AAACCAAAGAATCGTT-1</td><td>   1</td><td>    1</td><td>AMB</td><td>0_0_1_ZBC1,0_0_1_ZBC1,0.00</td><td>   -0.01</td><td>0_0_2_ZBC2,0_0_2_ZBC2,0.00</td><td>   -0.01</td><td>0.00</td><td>-3.1</td><td>0.76</td><td>0_0_1_ZBC1</td><td>   -0.01</td><td>0_0_2_ZBC2</td><td>   -0.01</td><td>0.05666</td><td>0_0_1_ZBC1,0_0_2_ZBC2,0.50</td><td>   -0.01</td><td>   0.00</td></tr>\n",
       "\t<tr><th scope=row>4</th><td>37</td><td>AAACCAAAGCCCTTGC-1</td><td>   1</td><td>    1</td><td>AMB</td><td>0_0_1_ZBC1,0_0_1_ZBC1,0.00</td><td>   -0.02</td><td>0_0_2_ZBC2,0_0_2_ZBC2,0.00</td><td>   -0.02</td><td>0.00</td><td>-3.1</td><td>0.77</td><td>0_0_1_ZBC1</td><td>   -0.02</td><td>0_0_2_ZBC2</td><td>   -0.02</td><td>0.05783</td><td>0_0_1_ZBC1,0_0_2_ZBC2,0.50</td><td>   -0.02</td><td>   0.00</td></tr>\n",
       "\t<tr><th scope=row>5</th><td>56</td><td>AAACCAAAGCTTAGTG-1</td><td>   1</td><td>    1</td><td>AMB</td><td>0_0_1_ZBC1,0_0_1_ZBC1,0.00</td><td>   -0.01</td><td>0_0_2_ZBC2,0_0_2_ZBC2,0.00</td><td>   -0.01</td><td>0.00</td><td>-3.1</td><td>0.76</td><td>0_0_1_ZBC1</td><td>   -0.01</td><td>0_0_2_ZBC2</td><td>   -0.01</td><td>0.05666</td><td>0_0_1_ZBC1,0_0_2_ZBC2,0.50</td><td>   -0.01</td><td>   0.00</td></tr>\n",
       "\t<tr><th scope=row>6</th><td>73</td><td>AAACCAAAGGCTACCG-1</td><td>   2</td><td>    2</td><td>AMB</td><td>0_0_1_ZBC1,0_0_1_ZBC1,0.00</td><td>   -0.03</td><td>0_0_3_ZBC3,0_0_3_ZBC3,0.00</td><td>   -0.03</td><td>0.00</td><td>-3.1</td><td>0.78</td><td>0_0_1_ZBC1</td><td>   -0.03</td><td>0_0_3_ZBC3</td><td>   -0.03</td><td>0.05903</td><td>0_0_1_ZBC1,0_0_3_ZBC3,0.50</td><td>   -0.03</td><td>   0.00</td></tr>\n",
       "</tbody>\n",
       "</table>\n"
      ],
      "text/latex": [
       "A data.frame: 6 × 20\n",
       "\\begin{tabular}{r|llllllllllllllllllll}\n",
       "  & INT\\_ID & BARCODE & NUM.SNPS & NUM.READS & DROPLET.TYPE & BEST.GUESS & BEST.LLK & NEXT.GUESS & NEXT.LLK & DIFF.LLK.BEST.NEXT & BEST.POSTERIOR & SNG.POSTERIOR & SNG.BEST.GUESS & SNG.BEST.LLK & SNG.NEXT.GUESS & SNG.NEXT.LLK & SNG.ONLY.POSTERIOR & DBL.BEST.GUESS & DBL.BEST.LLK & DIFF.LLK.SNG.DBL\\\\\n",
       "  & <int> & <chr> & <int> & <int> & <chr> & <chr> & <dbl> & <chr> & <dbl> & <dbl> & <dbl> & <dbl> & <chr> & <dbl> & <chr> & <dbl> & <dbl> & <chr> & <dbl> & <dbl>\\\\\n",
       "\\hline\n",
       "\t1 &  0 & .                  & 6386 & 23237 & DBL & 0\\_0\\_1\\_ZBC1,0\\_0\\_3\\_ZBC3,0.50 & -3311.17 & 0\\_0\\_3\\_ZBC3,0\\_0\\_1\\_ZBC1,0.50 & -3311.17 & 0.00 &  0.0 & 1.00 & 0\\_0\\_1\\_ZBC1 & -4223.35 & 0\\_0\\_3\\_ZBC3 & -6005.15 & 0.00000 & 0\\_0\\_1\\_ZBC1,0\\_0\\_3\\_ZBC3,0.50 & -3311.17 & -912.18\\\\\n",
       "\t2 &  7 & AAACCAAAGAAGGGTT-1 &    1 &     1 & AMB & 0\\_0\\_6\\_ZBl3,0\\_0\\_6\\_ZBl3,0.00 &    -0.06 & 0\\_0\\_3\\_ZBC3,0\\_0\\_3\\_ZBC3,0.00 &    -0.71 & 0.65 & -2.9 & 0.85 & 0\\_0\\_6\\_ZBl3 &    -0.06 & 0\\_0\\_3\\_ZBC3 &    -0.71 & 0.06490 & 0\\_0\\_3\\_ZBC3,0\\_0\\_6\\_ZBl3,0.50 &    -0.33 &    0.27\\\\\n",
       "\t3 & 10 & AAACCAAAGAATCGTT-1 &    1 &     1 & AMB & 0\\_0\\_1\\_ZBC1,0\\_0\\_1\\_ZBC1,0.00 &    -0.01 & 0\\_0\\_2\\_ZBC2,0\\_0\\_2\\_ZBC2,0.00 &    -0.01 & 0.00 & -3.1 & 0.76 & 0\\_0\\_1\\_ZBC1 &    -0.01 & 0\\_0\\_2\\_ZBC2 &    -0.01 & 0.05666 & 0\\_0\\_1\\_ZBC1,0\\_0\\_2\\_ZBC2,0.50 &    -0.01 &    0.00\\\\\n",
       "\t4 & 37 & AAACCAAAGCCCTTGC-1 &    1 &     1 & AMB & 0\\_0\\_1\\_ZBC1,0\\_0\\_1\\_ZBC1,0.00 &    -0.02 & 0\\_0\\_2\\_ZBC2,0\\_0\\_2\\_ZBC2,0.00 &    -0.02 & 0.00 & -3.1 & 0.77 & 0\\_0\\_1\\_ZBC1 &    -0.02 & 0\\_0\\_2\\_ZBC2 &    -0.02 & 0.05783 & 0\\_0\\_1\\_ZBC1,0\\_0\\_2\\_ZBC2,0.50 &    -0.02 &    0.00\\\\\n",
       "\t5 & 56 & AAACCAAAGCTTAGTG-1 &    1 &     1 & AMB & 0\\_0\\_1\\_ZBC1,0\\_0\\_1\\_ZBC1,0.00 &    -0.01 & 0\\_0\\_2\\_ZBC2,0\\_0\\_2\\_ZBC2,0.00 &    -0.01 & 0.00 & -3.1 & 0.76 & 0\\_0\\_1\\_ZBC1 &    -0.01 & 0\\_0\\_2\\_ZBC2 &    -0.01 & 0.05666 & 0\\_0\\_1\\_ZBC1,0\\_0\\_2\\_ZBC2,0.50 &    -0.01 &    0.00\\\\\n",
       "\t6 & 73 & AAACCAAAGGCTACCG-1 &    2 &     2 & AMB & 0\\_0\\_1\\_ZBC1,0\\_0\\_1\\_ZBC1,0.00 &    -0.03 & 0\\_0\\_3\\_ZBC3,0\\_0\\_3\\_ZBC3,0.00 &    -0.03 & 0.00 & -3.1 & 0.78 & 0\\_0\\_1\\_ZBC1 &    -0.03 & 0\\_0\\_3\\_ZBC3 &    -0.03 & 0.05903 & 0\\_0\\_1\\_ZBC1,0\\_0\\_3\\_ZBC3,0.50 &    -0.03 &    0.00\\\\\n",
       "\\end{tabular}\n"
      ],
      "text/markdown": [
       "\n",
       "A data.frame: 6 × 20\n",
       "\n",
       "| <!--/--> | INT_ID &lt;int&gt; | BARCODE &lt;chr&gt; | NUM.SNPS &lt;int&gt; | NUM.READS &lt;int&gt; | DROPLET.TYPE &lt;chr&gt; | BEST.GUESS &lt;chr&gt; | BEST.LLK &lt;dbl&gt; | NEXT.GUESS &lt;chr&gt; | NEXT.LLK &lt;dbl&gt; | DIFF.LLK.BEST.NEXT &lt;dbl&gt; | BEST.POSTERIOR &lt;dbl&gt; | SNG.POSTERIOR &lt;dbl&gt; | SNG.BEST.GUESS &lt;chr&gt; | SNG.BEST.LLK &lt;dbl&gt; | SNG.NEXT.GUESS &lt;chr&gt; | SNG.NEXT.LLK &lt;dbl&gt; | SNG.ONLY.POSTERIOR &lt;dbl&gt; | DBL.BEST.GUESS &lt;chr&gt; | DBL.BEST.LLK &lt;dbl&gt; | DIFF.LLK.SNG.DBL &lt;dbl&gt; |\n",
       "|---|---|---|---|---|---|---|---|---|---|---|---|---|---|---|---|---|---|---|---|---|\n",
       "| 1 |  0 | .                  | 6386 | 23237 | DBL | 0_0_1_ZBC1,0_0_3_ZBC3,0.50 | -3311.17 | 0_0_3_ZBC3,0_0_1_ZBC1,0.50 | -3311.17 | 0.00 |  0.0 | 1.00 | 0_0_1_ZBC1 | -4223.35 | 0_0_3_ZBC3 | -6005.15 | 0.00000 | 0_0_1_ZBC1,0_0_3_ZBC3,0.50 | -3311.17 | -912.18 |\n",
       "| 2 |  7 | AAACCAAAGAAGGGTT-1 |    1 |     1 | AMB | 0_0_6_ZBl3,0_0_6_ZBl3,0.00 |    -0.06 | 0_0_3_ZBC3,0_0_3_ZBC3,0.00 |    -0.71 | 0.65 | -2.9 | 0.85 | 0_0_6_ZBl3 |    -0.06 | 0_0_3_ZBC3 |    -0.71 | 0.06490 | 0_0_3_ZBC3,0_0_6_ZBl3,0.50 |    -0.33 |    0.27 |\n",
       "| 3 | 10 | AAACCAAAGAATCGTT-1 |    1 |     1 | AMB | 0_0_1_ZBC1,0_0_1_ZBC1,0.00 |    -0.01 | 0_0_2_ZBC2,0_0_2_ZBC2,0.00 |    -0.01 | 0.00 | -3.1 | 0.76 | 0_0_1_ZBC1 |    -0.01 | 0_0_2_ZBC2 |    -0.01 | 0.05666 | 0_0_1_ZBC1,0_0_2_ZBC2,0.50 |    -0.01 |    0.00 |\n",
       "| 4 | 37 | AAACCAAAGCCCTTGC-1 |    1 |     1 | AMB | 0_0_1_ZBC1,0_0_1_ZBC1,0.00 |    -0.02 | 0_0_2_ZBC2,0_0_2_ZBC2,0.00 |    -0.02 | 0.00 | -3.1 | 0.77 | 0_0_1_ZBC1 |    -0.02 | 0_0_2_ZBC2 |    -0.02 | 0.05783 | 0_0_1_ZBC1,0_0_2_ZBC2,0.50 |    -0.02 |    0.00 |\n",
       "| 5 | 56 | AAACCAAAGCTTAGTG-1 |    1 |     1 | AMB | 0_0_1_ZBC1,0_0_1_ZBC1,0.00 |    -0.01 | 0_0_2_ZBC2,0_0_2_ZBC2,0.00 |    -0.01 | 0.00 | -3.1 | 0.76 | 0_0_1_ZBC1 |    -0.01 | 0_0_2_ZBC2 |    -0.01 | 0.05666 | 0_0_1_ZBC1,0_0_2_ZBC2,0.50 |    -0.01 |    0.00 |\n",
       "| 6 | 73 | AAACCAAAGGCTACCG-1 |    2 |     2 | AMB | 0_0_1_ZBC1,0_0_1_ZBC1,0.00 |    -0.03 | 0_0_3_ZBC3,0_0_3_ZBC3,0.00 |    -0.03 | 0.00 | -3.1 | 0.78 | 0_0_1_ZBC1 |    -0.03 | 0_0_3_ZBC3 |    -0.03 | 0.05903 | 0_0_1_ZBC1,0_0_3_ZBC3,0.50 |    -0.03 |    0.00 |\n",
       "\n"
      ],
      "text/plain": [
       "  INT_ID BARCODE            NUM.SNPS NUM.READS DROPLET.TYPE\n",
       "1  0     .                  6386     23237     DBL         \n",
       "2  7     AAACCAAAGAAGGGTT-1    1         1     AMB         \n",
       "3 10     AAACCAAAGAATCGTT-1    1         1     AMB         \n",
       "4 37     AAACCAAAGCCCTTGC-1    1         1     AMB         \n",
       "5 56     AAACCAAAGCTTAGTG-1    1         1     AMB         \n",
       "6 73     AAACCAAAGGCTACCG-1    2         2     AMB         \n",
       "  BEST.GUESS                 BEST.LLK NEXT.GUESS                 NEXT.LLK\n",
       "1 0_0_1_ZBC1,0_0_3_ZBC3,0.50 -3311.17 0_0_3_ZBC3,0_0_1_ZBC1,0.50 -3311.17\n",
       "2 0_0_6_ZBl3,0_0_6_ZBl3,0.00    -0.06 0_0_3_ZBC3,0_0_3_ZBC3,0.00    -0.71\n",
       "3 0_0_1_ZBC1,0_0_1_ZBC1,0.00    -0.01 0_0_2_ZBC2,0_0_2_ZBC2,0.00    -0.01\n",
       "4 0_0_1_ZBC1,0_0_1_ZBC1,0.00    -0.02 0_0_2_ZBC2,0_0_2_ZBC2,0.00    -0.02\n",
       "5 0_0_1_ZBC1,0_0_1_ZBC1,0.00    -0.01 0_0_2_ZBC2,0_0_2_ZBC2,0.00    -0.01\n",
       "6 0_0_1_ZBC1,0_0_1_ZBC1,0.00    -0.03 0_0_3_ZBC3,0_0_3_ZBC3,0.00    -0.03\n",
       "  DIFF.LLK.BEST.NEXT BEST.POSTERIOR SNG.POSTERIOR SNG.BEST.GUESS SNG.BEST.LLK\n",
       "1 0.00                0.0           1.00          0_0_1_ZBC1     -4223.35    \n",
       "2 0.65               -2.9           0.85          0_0_6_ZBl3        -0.06    \n",
       "3 0.00               -3.1           0.76          0_0_1_ZBC1        -0.01    \n",
       "4 0.00               -3.1           0.77          0_0_1_ZBC1        -0.02    \n",
       "5 0.00               -3.1           0.76          0_0_1_ZBC1        -0.01    \n",
       "6 0.00               -3.1           0.78          0_0_1_ZBC1        -0.03    \n",
       "  SNG.NEXT.GUESS SNG.NEXT.LLK SNG.ONLY.POSTERIOR DBL.BEST.GUESS            \n",
       "1 0_0_3_ZBC3     -6005.15     0.00000            0_0_1_ZBC1,0_0_3_ZBC3,0.50\n",
       "2 0_0_3_ZBC3        -0.71     0.06490            0_0_3_ZBC3,0_0_6_ZBl3,0.50\n",
       "3 0_0_2_ZBC2        -0.01     0.05666            0_0_1_ZBC1,0_0_2_ZBC2,0.50\n",
       "4 0_0_2_ZBC2        -0.02     0.05783            0_0_1_ZBC1,0_0_2_ZBC2,0.50\n",
       "5 0_0_2_ZBC2        -0.01     0.05666            0_0_1_ZBC1,0_0_2_ZBC2,0.50\n",
       "6 0_0_3_ZBC3        -0.03     0.05903            0_0_1_ZBC1,0_0_3_ZBC3,0.50\n",
       "  DBL.BEST.LLK DIFF.LLK.SNG.DBL\n",
       "1 -3311.17     -912.18         \n",
       "2    -0.33        0.27         \n",
       "3    -0.01        0.00         \n",
       "4    -0.02        0.00         \n",
       "5    -0.01        0.00         \n",
       "6    -0.03        0.00         "
      ]
     },
     "metadata": {},
     "output_type": "display_data"
    }
   ],
   "source": [
    "head(demux_lib2)"
   ]
  },
  {
   "cell_type": "code",
   "execution_count": 48,
   "metadata": {
    "vscode": {
     "languageId": "r"
    }
   },
   "outputs": [],
   "source": [
    "sobj.lib2 <- CreateSeuratObject(counts = lib2.data, project = \"JB_1496_Organoid\")"
   ]
  },
  {
   "cell_type": "code",
   "execution_count": 49,
   "metadata": {
    "vscode": {
     "languageId": "r"
    }
   },
   "outputs": [
    {
     "name": "stdout",
     "output_type": "stream",
     "text": [
      "Seurat Barcodes (first 10):\n",
      " [1] \"AAACCAAAGAACCAGG-1\" \"AAACCAAAGAACCTAT-1\" \"AAACCAAAGAACCTCA-1\"\n",
      " [4] \"AAACCAAAGAACCTGC-1\" \"AAACCAAAGAACGGCA-1\" \"AAACCAAAGAACGGGC-1\"\n",
      " [7] \"AAACCAAAGAACGGTG-1\" \"AAACCAAAGAAGCAAC-1\" \"AAACCAAAGAAGCACG-1\"\n",
      "[10] \"AAACCAAAGAAGCGAT-1\"\n",
      "Demuxlet Barcodes (first 10):\n",
      " [1] \".\"                  \"AAACCAAAGAAGGGTT-1\" \"AAACCAAAGAATCGTT-1\"\n",
      " [4] \"AAACCAAAGCCCTTGC-1\" \"AAACCAAAGCTTAGTG-1\" \"AAACCAAAGGCTACCG-1\"\n",
      " [7] \"AAACCAAAGGCTCCAG-1\" \"AAACCAAAGGGTGAGC-1\" \"AAACCAAAGTGTCATG-1\"\n",
      "[10] \"AAACCAAAGTTAGTAC-1\"\n"
     ]
    }
   ],
   "source": [
    "rownames(demux_lib2) <- demux_lib2$BARCODE\n",
    "# Extract barcodes from Seurat object\n",
    "seurat_barcodes <- rownames(sobj.lib2@meta.data)\n",
    "\n",
    "# Extract barcodes from Demuxlet table\n",
    "demux_barcodes <- rownames(demux_lib2)\n",
    "\n",
    "# Print examples of barcodes\n",
    "cat(\"Seurat Barcodes (first 10):\\n\")\n",
    "print(head(seurat_barcodes, 10))\n",
    "\n",
    "cat(\"Demuxlet Barcodes (first 10):\\n\")\n",
    "print(head(demux_barcodes, 10))\n"
   ]
  },
  {
   "cell_type": "code",
   "execution_count": 50,
   "metadata": {
    "vscode": {
     "languageId": "r"
    }
   },
   "outputs": [
    {
     "name": "stdout",
     "output_type": "stream",
     "text": [
      "Barcodes in Demuxlet but not in Seurat:\n",
      "[1] \".\"\n",
      "Barcodes in Seurat but not in Demuxlet:\n",
      " [1] \"AAACCAAAGAACCAGG-1\" \"AAACCAAAGAACCTAT-1\" \"AAACCAAAGAACCTCA-1\"\n",
      " [4] \"AAACCAAAGAACCTGC-1\" \"AAACCAAAGAACGGCA-1\" \"AAACCAAAGAACGGGC-1\"\n",
      " [7] \"AAACCAAAGAACGGTG-1\" \"AAACCAAAGAAGCAAC-1\" \"AAACCAAAGAAGCACG-1\"\n",
      "[10] \"AAACCAAAGAAGCGAT-1\"\n"
     ]
    }
   ],
   "source": [
    "# Find barcodes in Demuxlet but not in Seurat\n",
    "demux_not_in_seurat <- setdiff(demux_barcodes, seurat_barcodes)\n",
    "\n",
    "# Find barcodes in Seurat but not in Demuxlet\n",
    "seurat_not_in_demux <- setdiff(seurat_barcodes, demux_barcodes)\n",
    "\n",
    "# Print differences\n",
    "cat(\"Barcodes in Demuxlet but not in Seurat:\\n\")\n",
    "print(head(demux_not_in_seurat, 10))  # Show first 10\n",
    "\n",
    "cat(\"Barcodes in Seurat but not in Demuxlet:\\n\")\n",
    "print(head(seurat_not_in_demux, 10))  # Show first 10"
   ]
  },
  {
   "cell_type": "code",
   "execution_count": 51,
   "metadata": {
    "vscode": {
     "languageId": "r"
    }
   },
   "outputs": [
    {
     "data": {
      "text/html": [
       "1"
      ],
      "text/latex": [
       "1"
      ],
      "text/markdown": [
       "1"
      ],
      "text/plain": [
       "[1] 1"
      ]
     },
     "metadata": {},
     "output_type": "display_data"
    },
    {
     "data": {
      "text/html": [
       "1477353"
      ],
      "text/latex": [
       "1477353"
      ],
      "text/markdown": [
       "1477353"
      ],
      "text/plain": [
       "[1] 1477353"
      ]
     },
     "metadata": {},
     "output_type": "display_data"
    }
   ],
   "source": [
    "length(demux_not_in_seurat)\n",
    "length(seurat_not_in_demux)"
   ]
  },
  {
   "cell_type": "code",
   "execution_count": 52,
   "metadata": {
    "vscode": {
     "languageId": "r"
    }
   },
   "outputs": [
    {
     "name": "stdout",
     "output_type": "stream",
     "text": [
      "Matching barcodes after removing '.': 46501 \n"
     ]
    }
   ],
   "source": [
    "# Remove rows with \".\" from Demuxlet metadata\n",
    "demux_lib2 <- demux_lib2[demux_barcodes != \".\", , drop = FALSE]\n",
    "\n",
    "# Re-extract cleaned Demuxlet barcodes\n",
    "demux_barcodes <- rownames(demux_lib2)\n",
    "\n",
    "# Find how many Demuxlet barcodes match Seurat barcodes\n",
    "matching_barcodes <- sum(demux_barcodes %in% seurat_barcodes)\n",
    "cat(\"Matching barcodes after removing '.':\", matching_barcodes, \"\\n\")\n"
   ]
  },
  {
   "cell_type": "code",
   "execution_count": 53,
   "metadata": {
    "vscode": {
     "languageId": "r"
    }
   },
   "outputs": [
    {
     "name": "stdout",
     "output_type": "stream",
     "text": [
      "Barcodes in Demuxlet but not in Seurat:\n",
      "character(0)\n",
      "Barcodes in Seurat but not in Demuxlet:\n",
      " [1] \"AAACCAAAGAACCAGG-1\" \"AAACCAAAGAACCTAT-1\" \"AAACCAAAGAACCTCA-1\"\n",
      " [4] \"AAACCAAAGAACCTGC-1\" \"AAACCAAAGAACGGCA-1\" \"AAACCAAAGAACGGGC-1\"\n",
      " [7] \"AAACCAAAGAACGGTG-1\" \"AAACCAAAGAAGCAAC-1\" \"AAACCAAAGAAGCACG-1\"\n",
      "[10] \"AAACCAAAGAAGCGAT-1\"\n"
     ]
    }
   ],
   "source": [
    "# Find barcodes in Demuxlet but not in Seurat\n",
    "demux_not_in_seurat <- setdiff(demux_barcodes, seurat_barcodes)\n",
    "\n",
    "# Find barcodes in Seurat but not in Demuxlet\n",
    "seurat_not_in_demux <- setdiff(seurat_barcodes, demux_barcodes)\n",
    "\n",
    "# Print differences\n",
    "cat(\"Barcodes in Demuxlet but not in Seurat:\\n\")\n",
    "print(head(demux_not_in_seurat, 10))  # Show first 10\n",
    "\n",
    "cat(\"Barcodes in Seurat but not in Demuxlet:\\n\")\n",
    "print(head(seurat_not_in_demux, 10))  # Show first 10"
   ]
  },
  {
   "cell_type": "code",
   "execution_count": 54,
   "metadata": {
    "vscode": {
     "languageId": "r"
    }
   },
   "outputs": [
    {
     "data": {
      "text/html": [
       "0"
      ],
      "text/latex": [
       "0"
      ],
      "text/markdown": [
       "0"
      ],
      "text/plain": [
       "[1] 0"
      ]
     },
     "metadata": {},
     "output_type": "display_data"
    },
    {
     "data": {
      "text/html": [
       "1477353"
      ],
      "text/latex": [
       "1477353"
      ],
      "text/markdown": [
       "1477353"
      ],
      "text/plain": [
       "[1] 1477353"
      ]
     },
     "metadata": {},
     "output_type": "display_data"
    }
   ],
   "source": [
    "length(demux_not_in_seurat)\n",
    "length(seurat_not_in_demux)"
   ]
  },
  {
   "cell_type": "code",
   "execution_count": 55,
   "metadata": {
    "vscode": {
     "languageId": "r"
    }
   },
   "outputs": [
    {
     "name": "stdout",
     "output_type": "stream",
     "text": [
      "Final number of matching barcodes: 46501 \n"
     ]
    }
   ],
   "source": [
    "# Keep only rows where barcodes match Seurat object\n",
    "demux_lib2_subset <- demux_lib2[demux_barcodes %in% seurat_barcodes, , drop = FALSE]\n",
    "\n",
    "# Verify barcode alignment\n",
    "cat(\"Final number of matching barcodes:\", nrow(demux_lib2_subset), \"\\n\")\n"
   ]
  },
  {
   "cell_type": "code",
   "execution_count": 56,
   "metadata": {
    "vscode": {
     "languageId": "r"
    }
   },
   "outputs": [],
   "source": [
    "# Ensure row names align with Seurat object before adding metadata\n",
    "rownames(demux_lib2_subset) <- seurat_barcodes[match(rownames(demux_lib2_subset), demux_barcodes)]\n"
   ]
  },
  {
   "cell_type": "code",
   "execution_count": 57,
   "metadata": {
    "vscode": {
     "languageId": "r"
    }
   },
   "outputs": [],
   "source": [
    "# Add metadata to Seurat object\n",
    "sobj.lib2 <- AddMetaData(sobj.lib2, metadata = demux_lib2_subset)\n"
   ]
  },
  {
   "cell_type": "code",
   "execution_count": 58,
   "metadata": {
    "vscode": {
     "languageId": "r"
    }
   },
   "outputs": [],
   "source": [
    "sobj <- merge(sobj.lib1, y = sobj.lib2, add.cell.ids = c(\"JB_1495\", \"JB_1496\"), project = \"AT2_Organoid\")"
   ]
  },
  {
   "cell_type": "code",
   "execution_count": 59,
   "metadata": {
    "vscode": {
     "languageId": "r"
    }
   },
   "outputs": [
    {
     "data": {
      "text/plain": [
       "An object of class Seurat \n",
       "33538 features across 2964483 samples within 1 assay \n",
       "Active assay: RNA (33538 features, 0 variable features)\n",
       " 2 layers present: counts.JB_1495_Organoid, counts.JB_1496_Organoid"
      ]
     },
     "metadata": {},
     "output_type": "display_data"
    }
   ],
   "source": [
    "sobj"
   ]
  },
  {
   "cell_type": "code",
   "execution_count": 60,
   "metadata": {
    "vscode": {
     "languageId": "r"
    }
   },
   "outputs": [
    {
     "data": {
      "text/html": [
       "<table class=\"dataframe\">\n",
       "<caption>A data.frame: 6 × 23</caption>\n",
       "<thead>\n",
       "\t<tr><th></th><th scope=col>orig.ident</th><th scope=col>nCount_RNA</th><th scope=col>nFeature_RNA</th><th scope=col>INT_ID</th><th scope=col>BARCODE</th><th scope=col>NUM.SNPS</th><th scope=col>NUM.READS</th><th scope=col>DROPLET.TYPE</th><th scope=col>BEST.GUESS</th><th scope=col>BEST.LLK</th><th scope=col>⋯</th><th scope=col>BEST.POSTERIOR</th><th scope=col>SNG.POSTERIOR</th><th scope=col>SNG.BEST.GUESS</th><th scope=col>SNG.BEST.LLK</th><th scope=col>SNG.NEXT.GUESS</th><th scope=col>SNG.NEXT.LLK</th><th scope=col>SNG.ONLY.POSTERIOR</th><th scope=col>DBL.BEST.GUESS</th><th scope=col>DBL.BEST.LLK</th><th scope=col>DIFF.LLK.SNG.DBL</th></tr>\n",
       "\t<tr><th></th><th scope=col>&lt;chr&gt;</th><th scope=col>&lt;dbl&gt;</th><th scope=col>&lt;int&gt;</th><th scope=col>&lt;int&gt;</th><th scope=col>&lt;chr&gt;</th><th scope=col>&lt;int&gt;</th><th scope=col>&lt;int&gt;</th><th scope=col>&lt;chr&gt;</th><th scope=col>&lt;chr&gt;</th><th scope=col>&lt;dbl&gt;</th><th scope=col>⋯</th><th scope=col>&lt;dbl&gt;</th><th scope=col>&lt;dbl&gt;</th><th scope=col>&lt;chr&gt;</th><th scope=col>&lt;dbl&gt;</th><th scope=col>&lt;chr&gt;</th><th scope=col>&lt;dbl&gt;</th><th scope=col>&lt;dbl&gt;</th><th scope=col>&lt;chr&gt;</th><th scope=col>&lt;dbl&gt;</th><th scope=col>&lt;dbl&gt;</th></tr>\n",
       "</thead>\n",
       "<tbody>\n",
       "\t<tr><th scope=row>JB_1495_AAACCAAAGAACCTAT-1</th><td>JB_1495_Organoid</td><td>1</td><td>1</td><td> 4</td><td>AAACCAAAGAAGGGCC-1</td><td>21</td><td> 31</td><td>SNG</td><td>0_0_3_ZBC3,0_0_3_ZBC3,0.00</td><td> -7.24</td><td>⋯</td><td> -9.7</td><td>1.00</td><td>0_0_3_ZBC3</td><td> -7.24</td><td>0_0_1_ZBC1</td><td>-12.74</td><td>0.00006</td><td>0_0_1_ZBC1,0_0_3_ZBC3,0.50</td><td> -8.31</td><td>1.07</td></tr>\n",
       "\t<tr><th scope=row>JB_1495_AAACCAAAGAACCTTG-1</th><td>JB_1495_Organoid</td><td>2</td><td>2</td><td>21</td><td>AAACCAAAGCCCGTGA-1</td><td> 1</td><td>  1</td><td>AMB</td><td>0_0_1_ZBC1,0_0_1_ZBC1,0.00</td><td> -0.04</td><td>⋯</td><td> -3.0</td><td>0.82</td><td>0_0_1_ZBC1</td><td> -0.04</td><td>0_0_2_ZBC2</td><td> -0.04</td><td>0.06180</td><td>0_0_1_ZBC1,0_0_2_ZBC2,0.50</td><td> -0.04</td><td>0.00</td></tr>\n",
       "\t<tr><th scope=row>JB_1495_AAACCAAAGAACGATA-1</th><td>JB_1495_Organoid</td><td>1</td><td>1</td><td>34</td><td>AAACCAAAGCGCTCGA-1</td><td> 1</td><td>  1</td><td>AMB</td><td>0_0_1_ZBC1,0_0_1_ZBC1,0.00</td><td> -0.02</td><td>⋯</td><td> -3.1</td><td>0.77</td><td>0_0_1_ZBC1</td><td> -0.02</td><td>0_0_2_ZBC2</td><td> -0.02</td><td>0.05783</td><td>0_0_1_ZBC1,0_0_2_ZBC2,0.50</td><td> -0.02</td><td>0.00</td></tr>\n",
       "\t<tr><th scope=row>JB_1495_AAACCAAAGAACGGGC-1</th><td>JB_1495_Organoid</td><td>0</td><td>0</td><td>43</td><td>AAACCAAAGGAGCTAG-1</td><td>54</td><td>125</td><td>SNG</td><td>0_0_2_ZBC2,0_0_2_ZBC2,0.00</td><td>-13.67</td><td>⋯</td><td>-16.0</td><td>1.00</td><td>0_0_2_ZBC2</td><td>-13.67</td><td>0_0_1_ZBC1</td><td>-49.64</td><td>0.00000</td><td>0_0_1_ZBC1,0_0_2_ZBC2,0.50</td><td>-23.02</td><td>9.35</td></tr>\n",
       "\t<tr><th scope=row>JB_1495_AAACCAAAGAAGCAAC-1</th><td>JB_1495_Organoid</td><td>4</td><td>4</td><td>57</td><td>AAACCAAAGGCTACCG-1</td><td> 1</td><td>  1</td><td>AMB</td><td>0_0_1_ZBC1,0_0_1_ZBC1,0.00</td><td> -0.01</td><td>⋯</td><td> -3.1</td><td>0.76</td><td>0_0_1_ZBC1</td><td> -0.01</td><td>0_0_2_ZBC2</td><td> -0.01</td><td>0.05666</td><td>0_0_1_ZBC1,0_0_2_ZBC2,0.50</td><td> -0.01</td><td>0.00</td></tr>\n",
       "\t<tr><th scope=row>JB_1495_AAACCAAAGAAGCACG-1</th><td>JB_1495_Organoid</td><td>3</td><td>3</td><td>67</td><td>AAACCAAAGGTGGACA-1</td><td> 1</td><td>  1</td><td>AMB</td><td>0_0_1_ZBC1,0_0_1_ZBC1,0.00</td><td> -0.03</td><td>⋯</td><td> -3.1</td><td>0.79</td><td>0_0_1_ZBC1</td><td> -0.03</td><td>0_0_5_ZBl2</td><td> -0.03</td><td>0.05908</td><td>0_0_1_ZBC1,0_0_5_ZBl2,0.50</td><td> -0.03</td><td>0.00</td></tr>\n",
       "</tbody>\n",
       "</table>\n"
      ],
      "text/latex": [
       "A data.frame: 6 × 23\n",
       "\\begin{tabular}{r|lllllllllllllllllllll}\n",
       "  & orig.ident & nCount\\_RNA & nFeature\\_RNA & INT\\_ID & BARCODE & NUM.SNPS & NUM.READS & DROPLET.TYPE & BEST.GUESS & BEST.LLK & ⋯ & BEST.POSTERIOR & SNG.POSTERIOR & SNG.BEST.GUESS & SNG.BEST.LLK & SNG.NEXT.GUESS & SNG.NEXT.LLK & SNG.ONLY.POSTERIOR & DBL.BEST.GUESS & DBL.BEST.LLK & DIFF.LLK.SNG.DBL\\\\\n",
       "  & <chr> & <dbl> & <int> & <int> & <chr> & <int> & <int> & <chr> & <chr> & <dbl> & ⋯ & <dbl> & <dbl> & <chr> & <dbl> & <chr> & <dbl> & <dbl> & <chr> & <dbl> & <dbl>\\\\\n",
       "\\hline\n",
       "\tJB\\_1495\\_AAACCAAAGAACCTAT-1 & JB\\_1495\\_Organoid & 1 & 1 &  4 & AAACCAAAGAAGGGCC-1 & 21 &  31 & SNG & 0\\_0\\_3\\_ZBC3,0\\_0\\_3\\_ZBC3,0.00 &  -7.24 & ⋯ &  -9.7 & 1.00 & 0\\_0\\_3\\_ZBC3 &  -7.24 & 0\\_0\\_1\\_ZBC1 & -12.74 & 0.00006 & 0\\_0\\_1\\_ZBC1,0\\_0\\_3\\_ZBC3,0.50 &  -8.31 & 1.07\\\\\n",
       "\tJB\\_1495\\_AAACCAAAGAACCTTG-1 & JB\\_1495\\_Organoid & 2 & 2 & 21 & AAACCAAAGCCCGTGA-1 &  1 &   1 & AMB & 0\\_0\\_1\\_ZBC1,0\\_0\\_1\\_ZBC1,0.00 &  -0.04 & ⋯ &  -3.0 & 0.82 & 0\\_0\\_1\\_ZBC1 &  -0.04 & 0\\_0\\_2\\_ZBC2 &  -0.04 & 0.06180 & 0\\_0\\_1\\_ZBC1,0\\_0\\_2\\_ZBC2,0.50 &  -0.04 & 0.00\\\\\n",
       "\tJB\\_1495\\_AAACCAAAGAACGATA-1 & JB\\_1495\\_Organoid & 1 & 1 & 34 & AAACCAAAGCGCTCGA-1 &  1 &   1 & AMB & 0\\_0\\_1\\_ZBC1,0\\_0\\_1\\_ZBC1,0.00 &  -0.02 & ⋯ &  -3.1 & 0.77 & 0\\_0\\_1\\_ZBC1 &  -0.02 & 0\\_0\\_2\\_ZBC2 &  -0.02 & 0.05783 & 0\\_0\\_1\\_ZBC1,0\\_0\\_2\\_ZBC2,0.50 &  -0.02 & 0.00\\\\\n",
       "\tJB\\_1495\\_AAACCAAAGAACGGGC-1 & JB\\_1495\\_Organoid & 0 & 0 & 43 & AAACCAAAGGAGCTAG-1 & 54 & 125 & SNG & 0\\_0\\_2\\_ZBC2,0\\_0\\_2\\_ZBC2,0.00 & -13.67 & ⋯ & -16.0 & 1.00 & 0\\_0\\_2\\_ZBC2 & -13.67 & 0\\_0\\_1\\_ZBC1 & -49.64 & 0.00000 & 0\\_0\\_1\\_ZBC1,0\\_0\\_2\\_ZBC2,0.50 & -23.02 & 9.35\\\\\n",
       "\tJB\\_1495\\_AAACCAAAGAAGCAAC-1 & JB\\_1495\\_Organoid & 4 & 4 & 57 & AAACCAAAGGCTACCG-1 &  1 &   1 & AMB & 0\\_0\\_1\\_ZBC1,0\\_0\\_1\\_ZBC1,0.00 &  -0.01 & ⋯ &  -3.1 & 0.76 & 0\\_0\\_1\\_ZBC1 &  -0.01 & 0\\_0\\_2\\_ZBC2 &  -0.01 & 0.05666 & 0\\_0\\_1\\_ZBC1,0\\_0\\_2\\_ZBC2,0.50 &  -0.01 & 0.00\\\\\n",
       "\tJB\\_1495\\_AAACCAAAGAAGCACG-1 & JB\\_1495\\_Organoid & 3 & 3 & 67 & AAACCAAAGGTGGACA-1 &  1 &   1 & AMB & 0\\_0\\_1\\_ZBC1,0\\_0\\_1\\_ZBC1,0.00 &  -0.03 & ⋯ &  -3.1 & 0.79 & 0\\_0\\_1\\_ZBC1 &  -0.03 & 0\\_0\\_5\\_ZBl2 &  -0.03 & 0.05908 & 0\\_0\\_1\\_ZBC1,0\\_0\\_5\\_ZBl2,0.50 &  -0.03 & 0.00\\\\\n",
       "\\end{tabular}\n"
      ],
      "text/markdown": [
       "\n",
       "A data.frame: 6 × 23\n",
       "\n",
       "| <!--/--> | orig.ident &lt;chr&gt; | nCount_RNA &lt;dbl&gt; | nFeature_RNA &lt;int&gt; | INT_ID &lt;int&gt; | BARCODE &lt;chr&gt; | NUM.SNPS &lt;int&gt; | NUM.READS &lt;int&gt; | DROPLET.TYPE &lt;chr&gt; | BEST.GUESS &lt;chr&gt; | BEST.LLK &lt;dbl&gt; | ⋯ ⋯ | BEST.POSTERIOR &lt;dbl&gt; | SNG.POSTERIOR &lt;dbl&gt; | SNG.BEST.GUESS &lt;chr&gt; | SNG.BEST.LLK &lt;dbl&gt; | SNG.NEXT.GUESS &lt;chr&gt; | SNG.NEXT.LLK &lt;dbl&gt; | SNG.ONLY.POSTERIOR &lt;dbl&gt; | DBL.BEST.GUESS &lt;chr&gt; | DBL.BEST.LLK &lt;dbl&gt; | DIFF.LLK.SNG.DBL &lt;dbl&gt; |\n",
       "|---|---|---|---|---|---|---|---|---|---|---|---|---|---|---|---|---|---|---|---|---|---|\n",
       "| JB_1495_AAACCAAAGAACCTAT-1 | JB_1495_Organoid | 1 | 1 |  4 | AAACCAAAGAAGGGCC-1 | 21 |  31 | SNG | 0_0_3_ZBC3,0_0_3_ZBC3,0.00 |  -7.24 | ⋯ |  -9.7 | 1.00 | 0_0_3_ZBC3 |  -7.24 | 0_0_1_ZBC1 | -12.74 | 0.00006 | 0_0_1_ZBC1,0_0_3_ZBC3,0.50 |  -8.31 | 1.07 |\n",
       "| JB_1495_AAACCAAAGAACCTTG-1 | JB_1495_Organoid | 2 | 2 | 21 | AAACCAAAGCCCGTGA-1 |  1 |   1 | AMB | 0_0_1_ZBC1,0_0_1_ZBC1,0.00 |  -0.04 | ⋯ |  -3.0 | 0.82 | 0_0_1_ZBC1 |  -0.04 | 0_0_2_ZBC2 |  -0.04 | 0.06180 | 0_0_1_ZBC1,0_0_2_ZBC2,0.50 |  -0.04 | 0.00 |\n",
       "| JB_1495_AAACCAAAGAACGATA-1 | JB_1495_Organoid | 1 | 1 | 34 | AAACCAAAGCGCTCGA-1 |  1 |   1 | AMB | 0_0_1_ZBC1,0_0_1_ZBC1,0.00 |  -0.02 | ⋯ |  -3.1 | 0.77 | 0_0_1_ZBC1 |  -0.02 | 0_0_2_ZBC2 |  -0.02 | 0.05783 | 0_0_1_ZBC1,0_0_2_ZBC2,0.50 |  -0.02 | 0.00 |\n",
       "| JB_1495_AAACCAAAGAACGGGC-1 | JB_1495_Organoid | 0 | 0 | 43 | AAACCAAAGGAGCTAG-1 | 54 | 125 | SNG | 0_0_2_ZBC2,0_0_2_ZBC2,0.00 | -13.67 | ⋯ | -16.0 | 1.00 | 0_0_2_ZBC2 | -13.67 | 0_0_1_ZBC1 | -49.64 | 0.00000 | 0_0_1_ZBC1,0_0_2_ZBC2,0.50 | -23.02 | 9.35 |\n",
       "| JB_1495_AAACCAAAGAAGCAAC-1 | JB_1495_Organoid | 4 | 4 | 57 | AAACCAAAGGCTACCG-1 |  1 |   1 | AMB | 0_0_1_ZBC1,0_0_1_ZBC1,0.00 |  -0.01 | ⋯ |  -3.1 | 0.76 | 0_0_1_ZBC1 |  -0.01 | 0_0_2_ZBC2 |  -0.01 | 0.05666 | 0_0_1_ZBC1,0_0_2_ZBC2,0.50 |  -0.01 | 0.00 |\n",
       "| JB_1495_AAACCAAAGAAGCACG-1 | JB_1495_Organoid | 3 | 3 | 67 | AAACCAAAGGTGGACA-1 |  1 |   1 | AMB | 0_0_1_ZBC1,0_0_1_ZBC1,0.00 |  -0.03 | ⋯ |  -3.1 | 0.79 | 0_0_1_ZBC1 |  -0.03 | 0_0_5_ZBl2 |  -0.03 | 0.05908 | 0_0_1_ZBC1,0_0_5_ZBl2,0.50 |  -0.03 | 0.00 |\n",
       "\n"
      ],
      "text/plain": [
       "                           orig.ident       nCount_RNA nFeature_RNA INT_ID\n",
       "JB_1495_AAACCAAAGAACCTAT-1 JB_1495_Organoid 1          1             4    \n",
       "JB_1495_AAACCAAAGAACCTTG-1 JB_1495_Organoid 2          2            21    \n",
       "JB_1495_AAACCAAAGAACGATA-1 JB_1495_Organoid 1          1            34    \n",
       "JB_1495_AAACCAAAGAACGGGC-1 JB_1495_Organoid 0          0            43    \n",
       "JB_1495_AAACCAAAGAAGCAAC-1 JB_1495_Organoid 4          4            57    \n",
       "JB_1495_AAACCAAAGAAGCACG-1 JB_1495_Organoid 3          3            67    \n",
       "                           BARCODE            NUM.SNPS NUM.READS DROPLET.TYPE\n",
       "JB_1495_AAACCAAAGAACCTAT-1 AAACCAAAGAAGGGCC-1 21        31       SNG         \n",
       "JB_1495_AAACCAAAGAACCTTG-1 AAACCAAAGCCCGTGA-1  1         1       AMB         \n",
       "JB_1495_AAACCAAAGAACGATA-1 AAACCAAAGCGCTCGA-1  1         1       AMB         \n",
       "JB_1495_AAACCAAAGAACGGGC-1 AAACCAAAGGAGCTAG-1 54       125       SNG         \n",
       "JB_1495_AAACCAAAGAAGCAAC-1 AAACCAAAGGCTACCG-1  1         1       AMB         \n",
       "JB_1495_AAACCAAAGAAGCACG-1 AAACCAAAGGTGGACA-1  1         1       AMB         \n",
       "                           BEST.GUESS                 BEST.LLK ⋯ BEST.POSTERIOR\n",
       "JB_1495_AAACCAAAGAACCTAT-1 0_0_3_ZBC3,0_0_3_ZBC3,0.00  -7.24   ⋯  -9.7         \n",
       "JB_1495_AAACCAAAGAACCTTG-1 0_0_1_ZBC1,0_0_1_ZBC1,0.00  -0.04   ⋯  -3.0         \n",
       "JB_1495_AAACCAAAGAACGATA-1 0_0_1_ZBC1,0_0_1_ZBC1,0.00  -0.02   ⋯  -3.1         \n",
       "JB_1495_AAACCAAAGAACGGGC-1 0_0_2_ZBC2,0_0_2_ZBC2,0.00 -13.67   ⋯ -16.0         \n",
       "JB_1495_AAACCAAAGAAGCAAC-1 0_0_1_ZBC1,0_0_1_ZBC1,0.00  -0.01   ⋯  -3.1         \n",
       "JB_1495_AAACCAAAGAAGCACG-1 0_0_1_ZBC1,0_0_1_ZBC1,0.00  -0.03   ⋯  -3.1         \n",
       "                           SNG.POSTERIOR SNG.BEST.GUESS SNG.BEST.LLK\n",
       "JB_1495_AAACCAAAGAACCTAT-1 1.00          0_0_3_ZBC3      -7.24      \n",
       "JB_1495_AAACCAAAGAACCTTG-1 0.82          0_0_1_ZBC1      -0.04      \n",
       "JB_1495_AAACCAAAGAACGATA-1 0.77          0_0_1_ZBC1      -0.02      \n",
       "JB_1495_AAACCAAAGAACGGGC-1 1.00          0_0_2_ZBC2     -13.67      \n",
       "JB_1495_AAACCAAAGAAGCAAC-1 0.76          0_0_1_ZBC1      -0.01      \n",
       "JB_1495_AAACCAAAGAAGCACG-1 0.79          0_0_1_ZBC1      -0.03      \n",
       "                           SNG.NEXT.GUESS SNG.NEXT.LLK SNG.ONLY.POSTERIOR\n",
       "JB_1495_AAACCAAAGAACCTAT-1 0_0_1_ZBC1     -12.74       0.00006           \n",
       "JB_1495_AAACCAAAGAACCTTG-1 0_0_2_ZBC2      -0.04       0.06180           \n",
       "JB_1495_AAACCAAAGAACGATA-1 0_0_2_ZBC2      -0.02       0.05783           \n",
       "JB_1495_AAACCAAAGAACGGGC-1 0_0_1_ZBC1     -49.64       0.00000           \n",
       "JB_1495_AAACCAAAGAAGCAAC-1 0_0_2_ZBC2      -0.01       0.05666           \n",
       "JB_1495_AAACCAAAGAAGCACG-1 0_0_5_ZBl2      -0.03       0.05908           \n",
       "                           DBL.BEST.GUESS             DBL.BEST.LLK\n",
       "JB_1495_AAACCAAAGAACCTAT-1 0_0_1_ZBC1,0_0_3_ZBC3,0.50  -8.31      \n",
       "JB_1495_AAACCAAAGAACCTTG-1 0_0_1_ZBC1,0_0_2_ZBC2,0.50  -0.04      \n",
       "JB_1495_AAACCAAAGAACGATA-1 0_0_1_ZBC1,0_0_2_ZBC2,0.50  -0.02      \n",
       "JB_1495_AAACCAAAGAACGGGC-1 0_0_1_ZBC1,0_0_2_ZBC2,0.50 -23.02      \n",
       "JB_1495_AAACCAAAGAAGCAAC-1 0_0_1_ZBC1,0_0_2_ZBC2,0.50  -0.01      \n",
       "JB_1495_AAACCAAAGAAGCACG-1 0_0_1_ZBC1,0_0_5_ZBl2,0.50  -0.03      \n",
       "                           DIFF.LLK.SNG.DBL\n",
       "JB_1495_AAACCAAAGAACCTAT-1 1.07            \n",
       "JB_1495_AAACCAAAGAACCTTG-1 0.00            \n",
       "JB_1495_AAACCAAAGAACGATA-1 0.00            \n",
       "JB_1495_AAACCAAAGAACGGGC-1 9.35            \n",
       "JB_1495_AAACCAAAGAAGCAAC-1 0.00            \n",
       "JB_1495_AAACCAAAGAAGCACG-1 0.00            "
      ]
     },
     "metadata": {},
     "output_type": "display_data"
    }
   ],
   "source": [
    "head(sobj@meta.data)"
   ]
  },
  {
   "cell_type": "code",
   "execution_count": 61,
   "metadata": {
    "vscode": {
     "languageId": "r"
    }
   },
   "outputs": [
    {
     "data": {
      "text/plain": [
       "\n",
       "  AMB   DBL   SNG \n",
       "65828   377 20328 "
      ]
     },
     "metadata": {},
     "output_type": "display_data"
    }
   ],
   "source": [
    "table(sobj$DROPLET.TYPE)"
   ]
  },
  {
   "cell_type": "code",
   "execution_count": 62,
   "metadata": {
    "vscode": {
     "languageId": "r"
    }
   },
   "outputs": [],
   "source": [
    "setwd(\"/tscc/projects/ps-epigen/users/a2jorgensen/sandbox/250225_humanAT2_organoids/data/rds_objs/\")"
   ]
  },
  {
   "cell_type": "code",
   "execution_count": 64,
   "metadata": {
    "vscode": {
     "languageId": "r"
    }
   },
   "outputs": [],
   "source": [
    "saveRDS(sobj, \"250318_JB1495_JB1496_w_demux_meta.RDS\")"
   ]
  }
 ],
 "metadata": {
  "kernelspec": {
   "display_name": "R",
   "language": "R",
   "name": "ir"
  },
  "language_info": {
   "codemirror_mode": "r",
   "file_extension": ".r",
   "mimetype": "text/x-r-source",
   "name": "R",
   "pygments_lexer": "r",
   "version": "4.4.1"
  }
 },
 "nbformat": 4,
 "nbformat_minor": 2
}
