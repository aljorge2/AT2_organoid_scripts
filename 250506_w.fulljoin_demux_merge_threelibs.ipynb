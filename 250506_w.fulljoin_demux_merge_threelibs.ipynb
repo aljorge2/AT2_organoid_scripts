{
 "cells": [
  {
   "cell_type": "code",
   "execution_count": 1,
   "id": "a2985cbc",
   "metadata": {
    "vscode": {
     "languageId": "r"
    }
   },
   "outputs": [
    {
     "name": "stderr",
     "output_type": "stream",
     "text": [
      "Loading required package: SeuratObject\n",
      "\n",
      "Loading required package: sp\n",
      "\n"
     ]
    },
    {
     "name": "stderr",
     "output_type": "stream",
     "text": [
      "\n",
      "Attaching package: ‘SeuratObject’\n",
      "\n",
      "\n",
      "The following objects are masked from ‘package:base’:\n",
      "\n",
      "    intersect, t\n",
      "\n",
      "\n",
      "Loading required package: dplyr\n",
      "\n",
      "\n",
      "Attaching package: ‘dplyr’\n",
      "\n",
      "\n",
      "The following objects are masked from ‘package:stats’:\n",
      "\n",
      "    filter, lag\n",
      "\n",
      "\n",
      "The following objects are masked from ‘package:base’:\n",
      "\n",
      "    intersect, setdiff, setequal, union\n",
      "\n",
      "\n",
      "Loading required package: igraph\n",
      "\n",
      "\n",
      "Attaching package: ‘igraph’\n",
      "\n",
      "\n",
      "The following objects are masked from ‘package:dplyr’:\n",
      "\n",
      "    as_data_frame, groups, union\n",
      "\n",
      "\n",
      "The following object is masked from ‘package:Seurat’:\n",
      "\n",
      "    components\n",
      "\n",
      "\n",
      "The following objects are masked from ‘package:stats’:\n",
      "\n",
      "    decompose, spectrum\n",
      "\n",
      "\n",
      "The following object is masked from ‘package:base’:\n",
      "\n",
      "    union\n",
      "\n",
      "\n",
      "Loading required package: ggplot2\n",
      "\n",
      "Loading required package: usethis\n",
      "\n",
      "Warning message:\n",
      "“package ‘hdf5r’ was built under R version 4.4.2”\n"
     ]
    }
   ],
   "source": [
    "library(Seurat)\n",
    "library(Signac)\n",
    "library(CellChat)\n",
    "library(patchwork)\n",
    "library(argparse)\n",
    "source(\"/tscc/projects/ps-epigen/users/kdang/eye_final/source_FunFig.R\")\n",
    "library(dplyr)                                                               \n",
    "library(devtools)\n",
    "library(hdf5r)\n",
    "source(\"/tscc/projects/ps-epigen/bpToolbox/utils.R\")"
   ]
  },
  {
   "cell_type": "markdown",
   "id": "dc0d5706",
   "metadata": {},
   "source": [
    "## Adding data JB_1495"
   ]
  },
  {
   "cell_type": "code",
   "execution_count": 2,
   "id": "a00eb2ea",
   "metadata": {
    "vscode": {
     "languageId": "r"
    }
   },
   "outputs": [
    {
     "data": {
      "text/html": [
       "<style>\n",
       ".list-inline {list-style: none; margin:0; padding: 0}\n",
       ".list-inline>li {display: inline-block}\n",
       ".list-inline>li:not(:last-child)::after {content: \"\\00b7\"; padding: 0 .5ex}\n",
       "</style>\n",
       "<ol class=list-inline><li>'INT_ID'</li><li>'BARCODE'</li><li>'NUM.SNPS'</li><li>'NUM.READS'</li><li>'DROPLET.TYPE'</li><li>'BEST.GUESS'</li><li>'BEST.LLK'</li><li>'NEXT.GUESS'</li><li>'NEXT.LLK'</li><li>'DIFF.LLK.BEST.NEXT'</li><li>'BEST.POSTERIOR'</li><li>'SNG.POSTERIOR'</li><li>'SNG.BEST.GUESS'</li><li>'SNG.BEST.LLK'</li><li>'SNG.NEXT.GUESS'</li><li>'SNG.NEXT.LLK'</li><li>'SNG.ONLY.POSTERIOR'</li><li>'DBL.BEST.GUESS'</li><li>'DBL.BEST.LLK'</li><li>'DIFF.LLK.SNG.DBL'</li></ol>\n"
      ],
      "text/latex": [
       "\\begin{enumerate*}\n",
       "\\item 'INT\\_ID'\n",
       "\\item 'BARCODE'\n",
       "\\item 'NUM.SNPS'\n",
       "\\item 'NUM.READS'\n",
       "\\item 'DROPLET.TYPE'\n",
       "\\item 'BEST.GUESS'\n",
       "\\item 'BEST.LLK'\n",
       "\\item 'NEXT.GUESS'\n",
       "\\item 'NEXT.LLK'\n",
       "\\item 'DIFF.LLK.BEST.NEXT'\n",
       "\\item 'BEST.POSTERIOR'\n",
       "\\item 'SNG.POSTERIOR'\n",
       "\\item 'SNG.BEST.GUESS'\n",
       "\\item 'SNG.BEST.LLK'\n",
       "\\item 'SNG.NEXT.GUESS'\n",
       "\\item 'SNG.NEXT.LLK'\n",
       "\\item 'SNG.ONLY.POSTERIOR'\n",
       "\\item 'DBL.BEST.GUESS'\n",
       "\\item 'DBL.BEST.LLK'\n",
       "\\item 'DIFF.LLK.SNG.DBL'\n",
       "\\end{enumerate*}\n"
      ],
      "text/markdown": [
       "1. 'INT_ID'\n",
       "2. 'BARCODE'\n",
       "3. 'NUM.SNPS'\n",
       "4. 'NUM.READS'\n",
       "5. 'DROPLET.TYPE'\n",
       "6. 'BEST.GUESS'\n",
       "7. 'BEST.LLK'\n",
       "8. 'NEXT.GUESS'\n",
       "9. 'NEXT.LLK'\n",
       "10. 'DIFF.LLK.BEST.NEXT'\n",
       "11. 'BEST.POSTERIOR'\n",
       "12. 'SNG.POSTERIOR'\n",
       "13. 'SNG.BEST.GUESS'\n",
       "14. 'SNG.BEST.LLK'\n",
       "15. 'SNG.NEXT.GUESS'\n",
       "16. 'SNG.NEXT.LLK'\n",
       "17. 'SNG.ONLY.POSTERIOR'\n",
       "18. 'DBL.BEST.GUESS'\n",
       "19. 'DBL.BEST.LLK'\n",
       "20. 'DIFF.LLK.SNG.DBL'\n",
       "\n",
       "\n"
      ],
      "text/plain": [
       " [1] \"INT_ID\"             \"BARCODE\"            \"NUM.SNPS\"          \n",
       " [4] \"NUM.READS\"          \"DROPLET.TYPE\"       \"BEST.GUESS\"        \n",
       " [7] \"BEST.LLK\"           \"NEXT.GUESS\"         \"NEXT.LLK\"          \n",
       "[10] \"DIFF.LLK.BEST.NEXT\" \"BEST.POSTERIOR\"     \"SNG.POSTERIOR\"     \n",
       "[13] \"SNG.BEST.GUESS\"     \"SNG.BEST.LLK\"       \"SNG.NEXT.GUESS\"    \n",
       "[16] \"SNG.NEXT.LLK\"       \"SNG.ONLY.POSTERIOR\" \"DBL.BEST.GUESS\"    \n",
       "[19] \"DBL.BEST.LLK\"       \"DIFF.LLK.SNG.DBL\"  "
      ]
     },
     "metadata": {},
     "output_type": "display_data"
    }
   ],
   "source": [
    "#sobj.data <- Read10X_h5(\"/tscc/projects/ps-epigen/users/a2jorgensen/sandbox/250225_humanAT2_organoids/data/Cellranger/JB_1466/raw_feature_bc_matrix.h5\")\n",
    "lib1.data <- Read10X(\"/tscc/projects/ps-epigen/10x_output/250311/counts_out/snRNA/JB_1495/outs/raw_feature_bc_matrix/\")\n",
    "# Load Demuxlet best files\n",
    "demux_lib1 <- read.table(\"/tscc/projects/ps-epigen/users/a2jorgensen/sandbox/250225_humanAT2_organoids/data/Demux/250317_AT2_organoid_ZO/popscle_out/JB_1495.best\", header = TRUE, sep = \"\\t\", stringsAsFactors = FALSE)\n",
    "\n",
    "unique(colnames(demux_lib1))"
   ]
  },
  {
   "cell_type": "code",
   "execution_count": 3,
   "id": "bec7c064",
   "metadata": {
    "vscode": {
     "languageId": "r"
    }
   },
   "outputs": [
    {
     "data": {
      "text/plain": [
       "\n",
       "  AMB   DBL   SNG \n",
       "29622   198 10213 "
      ]
     },
     "metadata": {},
     "output_type": "display_data"
    }
   ],
   "source": [
    "table(demux_lib1$DROPLET.TYPE)\n",
    "rownames(demux_lib1) <- demux_lib1$BARCODE"
   ]
  },
  {
   "cell_type": "code",
   "execution_count": 4,
   "id": "da55c0fc",
   "metadata": {
    "vscode": {
     "languageId": "r"
    }
   },
   "outputs": [],
   "source": [
    "sobj.lib1 <- CreateSeuratObject(counts = lib1.data, project = \"JB_1495_Organoid\")\n",
    "\n",
    "# Extract barcodes from Seurat object\n",
    "seurat_barcodes <- rownames(sobj.lib1@meta.data)\n",
    "\n",
    "# Extract barcodes from Demuxlet table\n",
    "demux_barcodes <- rownames(demux_lib1)"
   ]
  },
  {
   "cell_type": "code",
   "execution_count": 5,
   "id": "13a81f23",
   "metadata": {
    "vscode": {
     "languageId": "r"
    }
   },
   "outputs": [
    {
     "name": "stdout",
     "output_type": "stream",
     "text": [
      "Seurat Barcodes (first 10):\n",
      " [1] \"AAACCAAAGAACCTAT-1\" \"AAACCAAAGAACCTTG-1\" \"AAACCAAAGAACGATA-1\"\n",
      " [4] \"AAACCAAAGAACGGGC-1\" \"AAACCAAAGAAGCAAC-1\" \"AAACCAAAGAAGCACG-1\"\n",
      " [7] \"AAACCAAAGAAGCCAG-1\" \"AAACCAAAGAAGCCCT-1\" \"AAACCAAAGAAGCTGG-1\"\n",
      "[10] \"AAACCAAAGAAGGACT-1\"\n",
      "Demuxlet Barcodes (first 10):\n",
      " [1] \".\"                  \"AAACCAAAGAAGGGCC-1\" \"AAACCAAAGCCCGTGA-1\"\n",
      " [4] \"AAACCAAAGCGCTCGA-1\" \"AAACCAAAGGAGCTAG-1\" \"AAACCAAAGGCTACCG-1\"\n",
      " [7] \"AAACCAAAGGTGGACA-1\" \"AAACCAAAGGTTAATC-1\" \"AAACCAAAGTATGAAG-1\"\n",
      "[10] \"AAACCATTCACCATGA-1\"\n"
     ]
    }
   ],
   "source": [
    "# Print examples of barcodes\n",
    "cat(\"Seurat Barcodes (first 10):\\n\")\n",
    "print(head(seurat_barcodes, 10))\n",
    "\n",
    "cat(\"Demuxlet Barcodes (first 10):\\n\")\n",
    "print(head(demux_barcodes, 10))"
   ]
  },
  {
   "cell_type": "code",
   "execution_count": 6,
   "id": "ec708127",
   "metadata": {
    "vscode": {
     "languageId": "r"
    }
   },
   "outputs": [
    {
     "name": "stdout",
     "output_type": "stream",
     "text": [
      "Matching barcodes after removing '.': 40032 \n"
     ]
    }
   ],
   "source": [
    "# Remove rows with \".\" from Demuxlet metadata\n",
    "demux_lib1 <- demux_lib1[demux_barcodes != \".\", , drop = FALSE]\n",
    "\n",
    "# Re-extract cleaned Demuxlet barcodes\n",
    "demux_barcodes <- rownames(demux_lib1)\n",
    "# Find how many Demuxlet barcodes match Seurat barcodes\n",
    "matching_barcodes <- sum(demux_barcodes %in% seurat_barcodes)\n",
    "cat(\"Matching barcodes after removing '.':\", matching_barcodes, \"\\n\")"
   ]
  },
  {
   "cell_type": "code",
   "execution_count": 7,
   "id": "31d00d7e",
   "metadata": {
    "vscode": {
     "languageId": "r"
    }
   },
   "outputs": [
    {
     "name": "stdout",
     "output_type": "stream",
     "text": [
      "Barcodes in Demuxlet but not in Seurat:\n",
      "character(0)\n",
      "Barcodes in Seurat but not in Demuxlet:\n",
      " [1] \"AAACCAAAGAACCTAT-1\" \"AAACCAAAGAACCTTG-1\" \"AAACCAAAGAACGATA-1\"\n",
      " [4] \"AAACCAAAGAACGGGC-1\" \"AAACCAAAGAAGCAAC-1\" \"AAACCAAAGAAGCACG-1\"\n",
      " [7] \"AAACCAAAGAAGCCAG-1\" \"AAACCAAAGAAGCCCT-1\" \"AAACCAAAGAAGCTGG-1\"\n",
      "[10] \"AAACCAAAGAAGGACT-1\"\n",
      "Number of barcodes in Demuxlet but not in Seurat: 0 \n",
      "Number of barcodes in Seurat but not in Demuxlet: 1400597 \n"
     ]
    }
   ],
   "source": [
    "# Find barcodes in Demuxlet but not in Seurat\n",
    "demux_not_in_seurat <- setdiff(demux_barcodes, seurat_barcodes)\n",
    "\n",
    "# Find barcodes in Seurat but not in Demuxlet\n",
    "seurat_not_in_demux <- setdiff(seurat_barcodes, demux_barcodes)\n",
    "\n",
    "# Print differences\n",
    "cat(\"Barcodes in Demuxlet but not in Seurat:\\n\")\n",
    "print(head(demux_not_in_seurat, 10))  # Show first 10\n",
    "\n",
    "cat(\"Barcodes in Seurat but not in Demuxlet:\\n\")\n",
    "print(head(seurat_not_in_demux, 10))  # Show first 10\n",
    "\n",
    "# Count differences\n",
    "cat(\"Number of barcodes in Demuxlet but not in Seurat:\", length(demux_not_in_seurat), \"\\n\")\n",
    "cat(\"Number of barcodes in Seurat but not in Demuxlet:\", length(seurat_not_in_demux), \"\\n\")\n"
   ]
  },
  {
   "cell_type": "code",
   "execution_count": 8,
   "id": "a8f697d7",
   "metadata": {
    "vscode": {
     "languageId": "r"
    }
   },
   "outputs": [
    {
     "name": "stdout",
     "output_type": "stream",
     "text": [
      "Final number of matching barcodes: 40032 \n"
     ]
    }
   ],
   "source": [
    "# Keep only rows where barcodes match Seurat object\n",
    "demux_lib1_subset <- demux_lib1[demux_barcodes %in% seurat_barcodes, , drop = FALSE]\n",
    "\n",
    "# Verify barcode alignment\n",
    "cat(\"Final number of matching barcodes:\", nrow(demux_lib1_subset), \"\\n\")\n"
   ]
  },
  {
   "cell_type": "code",
   "execution_count": 9,
   "id": "61df22f2",
   "metadata": {
    "vscode": {
     "languageId": "r"
    }
   },
   "outputs": [],
   "source": [
    "demux_barcodes <-rownames(demux_lib1_subset)"
   ]
  },
  {
   "cell_type": "code",
   "execution_count": 10,
   "id": "dddaade0",
   "metadata": {
    "vscode": {
     "languageId": "r"
    }
   },
   "outputs": [
    {
     "name": "stdout",
     "output_type": "stream",
     "text": [
      "Barcodes in Demuxlet but not in Seurat:\n",
      "character(0)\n",
      "Barcodes in Seurat but not in Demuxlet:\n",
      " [1] \"AAACCAAAGAACCTAT-1\" \"AAACCAAAGAACCTTG-1\" \"AAACCAAAGAACGATA-1\"\n",
      " [4] \"AAACCAAAGAACGGGC-1\" \"AAACCAAAGAAGCAAC-1\" \"AAACCAAAGAAGCACG-1\"\n",
      " [7] \"AAACCAAAGAAGCCAG-1\" \"AAACCAAAGAAGCCCT-1\" \"AAACCAAAGAAGCTGG-1\"\n",
      "[10] \"AAACCAAAGAAGGACT-1\"\n",
      "Number of barcodes in Demuxlet but not in Seurat: 0 \n",
      "Number of barcodes in Seurat but not in Demuxlet: 1400597 \n"
     ]
    }
   ],
   "source": [
    "# Find barcodes in Demuxlet but not in Seurat\n",
    "demux_not_in_seurat <- setdiff(demux_barcodes, seurat_barcodes)\n",
    "\n",
    "# Find barcodes in Seurat but not in Demuxlet\n",
    "seurat_not_in_demux <- setdiff(seurat_barcodes, demux_barcodes)\n",
    "\n",
    "# Print differences\n",
    "cat(\"Barcodes in Demuxlet but not in Seurat:\\n\")\n",
    "print(head(demux_not_in_seurat, 10))  # Show first 10\n",
    "\n",
    "cat(\"Barcodes in Seurat but not in Demuxlet:\\n\")\n",
    "print(head(seurat_not_in_demux, 10))  # Show first 10\n",
    "\n",
    "# Count differences\n",
    "cat(\"Number of barcodes in Demuxlet but not in Seurat:\", length(demux_not_in_seurat), \"\\n\")\n",
    "cat(\"Number of barcodes in Seurat but not in Demuxlet:\", length(seurat_not_in_demux), \"\\n\")"
   ]
  },
  {
   "cell_type": "code",
   "execution_count": 11,
   "id": "7a43f9ac",
   "metadata": {
    "vscode": {
     "languageId": "r"
    }
   },
   "outputs": [
    {
     "data": {
      "text/html": [
       "<table class=\"dataframe\">\n",
       "<caption>A data.frame: 6 × 1</caption>\n",
       "<thead>\n",
       "\t<tr><th></th><th scope=col>barcode</th></tr>\n",
       "\t<tr><th></th><th scope=col>&lt;chr&gt;</th></tr>\n",
       "</thead>\n",
       "<tbody>\n",
       "\t<tr><th scope=row>1</th><td>AAACCAAAGAACCTAT-1</td></tr>\n",
       "\t<tr><th scope=row>2</th><td>AAACCAAAGAACCTTG-1</td></tr>\n",
       "\t<tr><th scope=row>3</th><td>AAACCAAAGAACGATA-1</td></tr>\n",
       "\t<tr><th scope=row>4</th><td>AAACCAAAGAACGGGC-1</td></tr>\n",
       "\t<tr><th scope=row>5</th><td>AAACCAAAGAAGCAAC-1</td></tr>\n",
       "\t<tr><th scope=row>6</th><td>AAACCAAAGAAGCACG-1</td></tr>\n",
       "</tbody>\n",
       "</table>\n"
      ],
      "text/latex": [
       "A data.frame: 6 × 1\n",
       "\\begin{tabular}{r|l}\n",
       "  & barcode\\\\\n",
       "  & <chr>\\\\\n",
       "\\hline\n",
       "\t1 & AAACCAAAGAACCTAT-1\\\\\n",
       "\t2 & AAACCAAAGAACCTTG-1\\\\\n",
       "\t3 & AAACCAAAGAACGATA-1\\\\\n",
       "\t4 & AAACCAAAGAACGGGC-1\\\\\n",
       "\t5 & AAACCAAAGAAGCAAC-1\\\\\n",
       "\t6 & AAACCAAAGAAGCACG-1\\\\\n",
       "\\end{tabular}\n"
      ],
      "text/markdown": [
       "\n",
       "A data.frame: 6 × 1\n",
       "\n",
       "| <!--/--> | barcode &lt;chr&gt; |\n",
       "|---|---|\n",
       "| 1 | AAACCAAAGAACCTAT-1 |\n",
       "| 2 | AAACCAAAGAACCTTG-1 |\n",
       "| 3 | AAACCAAAGAACGATA-1 |\n",
       "| 4 | AAACCAAAGAACGGGC-1 |\n",
       "| 5 | AAACCAAAGAAGCAAC-1 |\n",
       "| 6 | AAACCAAAGAAGCACG-1 |\n",
       "\n"
      ],
      "text/plain": [
       "  barcode           \n",
       "1 AAACCAAAGAACCTAT-1\n",
       "2 AAACCAAAGAACCTTG-1\n",
       "3 AAACCAAAGAACGATA-1\n",
       "4 AAACCAAAGAACGGGC-1\n",
       "5 AAACCAAAGAAGCAAC-1\n",
       "6 AAACCAAAGAAGCACG-1"
      ]
     },
     "metadata": {},
     "output_type": "display_data"
    }
   ],
   "source": [
    "seurat_barcodes<- as.data.frame(seurat_barcodes)\n",
    "colnames(seurat_barcodes) <- \"barcode\"\n",
    "head(seurat_barcodes)"
   ]
  },
  {
   "cell_type": "code",
   "execution_count": 12,
   "id": "00c43ea4",
   "metadata": {
    "vscode": {
     "languageId": "r"
    }
   },
   "outputs": [
    {
     "data": {
      "text/html": [
       "<table class=\"dataframe\">\n",
       "<caption>A data.frame: 6 × 20</caption>\n",
       "<thead>\n",
       "\t<tr><th></th><th scope=col>INT_ID</th><th scope=col>barcode</th><th scope=col>NUM.SNPS</th><th scope=col>NUM.READS</th><th scope=col>DROPLET.TYPE</th><th scope=col>BEST.GUESS</th><th scope=col>BEST.LLK</th><th scope=col>NEXT.GUESS</th><th scope=col>NEXT.LLK</th><th scope=col>DIFF.LLK.BEST.NEXT</th><th scope=col>BEST.POSTERIOR</th><th scope=col>SNG.POSTERIOR</th><th scope=col>SNG.BEST.GUESS</th><th scope=col>SNG.BEST.LLK</th><th scope=col>SNG.NEXT.GUESS</th><th scope=col>SNG.NEXT.LLK</th><th scope=col>SNG.ONLY.POSTERIOR</th><th scope=col>DBL.BEST.GUESS</th><th scope=col>DBL.BEST.LLK</th><th scope=col>DIFF.LLK.SNG.DBL</th></tr>\n",
       "\t<tr><th></th><th scope=col>&lt;int&gt;</th><th scope=col>&lt;chr&gt;</th><th scope=col>&lt;int&gt;</th><th scope=col>&lt;int&gt;</th><th scope=col>&lt;chr&gt;</th><th scope=col>&lt;chr&gt;</th><th scope=col>&lt;dbl&gt;</th><th scope=col>&lt;chr&gt;</th><th scope=col>&lt;dbl&gt;</th><th scope=col>&lt;dbl&gt;</th><th scope=col>&lt;dbl&gt;</th><th scope=col>&lt;dbl&gt;</th><th scope=col>&lt;chr&gt;</th><th scope=col>&lt;dbl&gt;</th><th scope=col>&lt;chr&gt;</th><th scope=col>&lt;dbl&gt;</th><th scope=col>&lt;dbl&gt;</th><th scope=col>&lt;chr&gt;</th><th scope=col>&lt;dbl&gt;</th><th scope=col>&lt;dbl&gt;</th></tr>\n",
       "</thead>\n",
       "<tbody>\n",
       "\t<tr><th scope=row>AAACCAAAGAAGGGCC-1</th><td> 4</td><td>AAACCAAAGAAGGGCC-1</td><td>21</td><td> 31</td><td>SNG</td><td>0_0_3_ZBC3,0_0_3_ZBC3,0.00</td><td> -7.24</td><td>0_0_1_ZBC1,0_0_3_ZBC3,0.50</td><td> -8.31</td><td>1.07</td><td> -9.7</td><td>1.00</td><td>0_0_3_ZBC3</td><td> -7.24</td><td>0_0_1_ZBC1</td><td>-12.74</td><td>0.00006</td><td>0_0_1_ZBC1,0_0_3_ZBC3,0.50</td><td> -8.31</td><td>1.07</td></tr>\n",
       "\t<tr><th scope=row>AAACCAAAGCCCGTGA-1</th><td>21</td><td>AAACCAAAGCCCGTGA-1</td><td> 1</td><td>  1</td><td>AMB</td><td>0_0_1_ZBC1,0_0_1_ZBC1,0.00</td><td> -0.04</td><td>0_0_2_ZBC2,0_0_2_ZBC2,0.00</td><td> -0.04</td><td>0.00</td><td> -3.0</td><td>0.82</td><td>0_0_1_ZBC1</td><td> -0.04</td><td>0_0_2_ZBC2</td><td> -0.04</td><td>0.06180</td><td>0_0_1_ZBC1,0_0_2_ZBC2,0.50</td><td> -0.04</td><td>0.00</td></tr>\n",
       "\t<tr><th scope=row>AAACCAAAGCGCTCGA-1</th><td>34</td><td>AAACCAAAGCGCTCGA-1</td><td> 1</td><td>  1</td><td>AMB</td><td>0_0_1_ZBC1,0_0_1_ZBC1,0.00</td><td> -0.02</td><td>0_0_2_ZBC2,0_0_2_ZBC2,0.00</td><td> -0.02</td><td>0.00</td><td> -3.1</td><td>0.77</td><td>0_0_1_ZBC1</td><td> -0.02</td><td>0_0_2_ZBC2</td><td> -0.02</td><td>0.05783</td><td>0_0_1_ZBC1,0_0_2_ZBC2,0.50</td><td> -0.02</td><td>0.00</td></tr>\n",
       "\t<tr><th scope=row>AAACCAAAGGAGCTAG-1</th><td>43</td><td>AAACCAAAGGAGCTAG-1</td><td>54</td><td>125</td><td>SNG</td><td>0_0_2_ZBC2,0_0_2_ZBC2,0.00</td><td>-13.67</td><td>0_0_1_ZBC1,0_0_2_ZBC2,0.50</td><td>-23.02</td><td>9.35</td><td>-16.0</td><td>1.00</td><td>0_0_2_ZBC2</td><td>-13.67</td><td>0_0_1_ZBC1</td><td>-49.64</td><td>0.00000</td><td>0_0_1_ZBC1,0_0_2_ZBC2,0.50</td><td>-23.02</td><td>9.35</td></tr>\n",
       "\t<tr><th scope=row>AAACCAAAGGCTACCG-1</th><td>57</td><td>AAACCAAAGGCTACCG-1</td><td> 1</td><td>  1</td><td>AMB</td><td>0_0_1_ZBC1,0_0_1_ZBC1,0.00</td><td> -0.01</td><td>0_0_2_ZBC2,0_0_2_ZBC2,0.00</td><td> -0.01</td><td>0.00</td><td> -3.1</td><td>0.76</td><td>0_0_1_ZBC1</td><td> -0.01</td><td>0_0_2_ZBC2</td><td> -0.01</td><td>0.05666</td><td>0_0_1_ZBC1,0_0_2_ZBC2,0.50</td><td> -0.01</td><td>0.00</td></tr>\n",
       "\t<tr><th scope=row>AAACCAAAGGTGGACA-1</th><td>67</td><td>AAACCAAAGGTGGACA-1</td><td> 1</td><td>  1</td><td>AMB</td><td>0_0_1_ZBC1,0_0_1_ZBC1,0.00</td><td> -0.03</td><td>0_0_5_ZBl2,0_0_5_ZBl2,0.00</td><td> -0.03</td><td>0.00</td><td> -3.1</td><td>0.79</td><td>0_0_1_ZBC1</td><td> -0.03</td><td>0_0_5_ZBl2</td><td> -0.03</td><td>0.05908</td><td>0_0_1_ZBC1,0_0_5_ZBl2,0.50</td><td> -0.03</td><td>0.00</td></tr>\n",
       "</tbody>\n",
       "</table>\n"
      ],
      "text/latex": [
       "A data.frame: 6 × 20\n",
       "\\begin{tabular}{r|llllllllllllllllllll}\n",
       "  & INT\\_ID & barcode & NUM.SNPS & NUM.READS & DROPLET.TYPE & BEST.GUESS & BEST.LLK & NEXT.GUESS & NEXT.LLK & DIFF.LLK.BEST.NEXT & BEST.POSTERIOR & SNG.POSTERIOR & SNG.BEST.GUESS & SNG.BEST.LLK & SNG.NEXT.GUESS & SNG.NEXT.LLK & SNG.ONLY.POSTERIOR & DBL.BEST.GUESS & DBL.BEST.LLK & DIFF.LLK.SNG.DBL\\\\\n",
       "  & <int> & <chr> & <int> & <int> & <chr> & <chr> & <dbl> & <chr> & <dbl> & <dbl> & <dbl> & <dbl> & <chr> & <dbl> & <chr> & <dbl> & <dbl> & <chr> & <dbl> & <dbl>\\\\\n",
       "\\hline\n",
       "\tAAACCAAAGAAGGGCC-1 &  4 & AAACCAAAGAAGGGCC-1 & 21 &  31 & SNG & 0\\_0\\_3\\_ZBC3,0\\_0\\_3\\_ZBC3,0.00 &  -7.24 & 0\\_0\\_1\\_ZBC1,0\\_0\\_3\\_ZBC3,0.50 &  -8.31 & 1.07 &  -9.7 & 1.00 & 0\\_0\\_3\\_ZBC3 &  -7.24 & 0\\_0\\_1\\_ZBC1 & -12.74 & 0.00006 & 0\\_0\\_1\\_ZBC1,0\\_0\\_3\\_ZBC3,0.50 &  -8.31 & 1.07\\\\\n",
       "\tAAACCAAAGCCCGTGA-1 & 21 & AAACCAAAGCCCGTGA-1 &  1 &   1 & AMB & 0\\_0\\_1\\_ZBC1,0\\_0\\_1\\_ZBC1,0.00 &  -0.04 & 0\\_0\\_2\\_ZBC2,0\\_0\\_2\\_ZBC2,0.00 &  -0.04 & 0.00 &  -3.0 & 0.82 & 0\\_0\\_1\\_ZBC1 &  -0.04 & 0\\_0\\_2\\_ZBC2 &  -0.04 & 0.06180 & 0\\_0\\_1\\_ZBC1,0\\_0\\_2\\_ZBC2,0.50 &  -0.04 & 0.00\\\\\n",
       "\tAAACCAAAGCGCTCGA-1 & 34 & AAACCAAAGCGCTCGA-1 &  1 &   1 & AMB & 0\\_0\\_1\\_ZBC1,0\\_0\\_1\\_ZBC1,0.00 &  -0.02 & 0\\_0\\_2\\_ZBC2,0\\_0\\_2\\_ZBC2,0.00 &  -0.02 & 0.00 &  -3.1 & 0.77 & 0\\_0\\_1\\_ZBC1 &  -0.02 & 0\\_0\\_2\\_ZBC2 &  -0.02 & 0.05783 & 0\\_0\\_1\\_ZBC1,0\\_0\\_2\\_ZBC2,0.50 &  -0.02 & 0.00\\\\\n",
       "\tAAACCAAAGGAGCTAG-1 & 43 & AAACCAAAGGAGCTAG-1 & 54 & 125 & SNG & 0\\_0\\_2\\_ZBC2,0\\_0\\_2\\_ZBC2,0.00 & -13.67 & 0\\_0\\_1\\_ZBC1,0\\_0\\_2\\_ZBC2,0.50 & -23.02 & 9.35 & -16.0 & 1.00 & 0\\_0\\_2\\_ZBC2 & -13.67 & 0\\_0\\_1\\_ZBC1 & -49.64 & 0.00000 & 0\\_0\\_1\\_ZBC1,0\\_0\\_2\\_ZBC2,0.50 & -23.02 & 9.35\\\\\n",
       "\tAAACCAAAGGCTACCG-1 & 57 & AAACCAAAGGCTACCG-1 &  1 &   1 & AMB & 0\\_0\\_1\\_ZBC1,0\\_0\\_1\\_ZBC1,0.00 &  -0.01 & 0\\_0\\_2\\_ZBC2,0\\_0\\_2\\_ZBC2,0.00 &  -0.01 & 0.00 &  -3.1 & 0.76 & 0\\_0\\_1\\_ZBC1 &  -0.01 & 0\\_0\\_2\\_ZBC2 &  -0.01 & 0.05666 & 0\\_0\\_1\\_ZBC1,0\\_0\\_2\\_ZBC2,0.50 &  -0.01 & 0.00\\\\\n",
       "\tAAACCAAAGGTGGACA-1 & 67 & AAACCAAAGGTGGACA-1 &  1 &   1 & AMB & 0\\_0\\_1\\_ZBC1,0\\_0\\_1\\_ZBC1,0.00 &  -0.03 & 0\\_0\\_5\\_ZBl2,0\\_0\\_5\\_ZBl2,0.00 &  -0.03 & 0.00 &  -3.1 & 0.79 & 0\\_0\\_1\\_ZBC1 &  -0.03 & 0\\_0\\_5\\_ZBl2 &  -0.03 & 0.05908 & 0\\_0\\_1\\_ZBC1,0\\_0\\_5\\_ZBl2,0.50 &  -0.03 & 0.00\\\\\n",
       "\\end{tabular}\n"
      ],
      "text/markdown": [
       "\n",
       "A data.frame: 6 × 20\n",
       "\n",
       "| <!--/--> | INT_ID &lt;int&gt; | barcode &lt;chr&gt; | NUM.SNPS &lt;int&gt; | NUM.READS &lt;int&gt; | DROPLET.TYPE &lt;chr&gt; | BEST.GUESS &lt;chr&gt; | BEST.LLK &lt;dbl&gt; | NEXT.GUESS &lt;chr&gt; | NEXT.LLK &lt;dbl&gt; | DIFF.LLK.BEST.NEXT &lt;dbl&gt; | BEST.POSTERIOR &lt;dbl&gt; | SNG.POSTERIOR &lt;dbl&gt; | SNG.BEST.GUESS &lt;chr&gt; | SNG.BEST.LLK &lt;dbl&gt; | SNG.NEXT.GUESS &lt;chr&gt; | SNG.NEXT.LLK &lt;dbl&gt; | SNG.ONLY.POSTERIOR &lt;dbl&gt; | DBL.BEST.GUESS &lt;chr&gt; | DBL.BEST.LLK &lt;dbl&gt; | DIFF.LLK.SNG.DBL &lt;dbl&gt; |\n",
       "|---|---|---|---|---|---|---|---|---|---|---|---|---|---|---|---|---|---|---|---|---|\n",
       "| AAACCAAAGAAGGGCC-1 |  4 | AAACCAAAGAAGGGCC-1 | 21 |  31 | SNG | 0_0_3_ZBC3,0_0_3_ZBC3,0.00 |  -7.24 | 0_0_1_ZBC1,0_0_3_ZBC3,0.50 |  -8.31 | 1.07 |  -9.7 | 1.00 | 0_0_3_ZBC3 |  -7.24 | 0_0_1_ZBC1 | -12.74 | 0.00006 | 0_0_1_ZBC1,0_0_3_ZBC3,0.50 |  -8.31 | 1.07 |\n",
       "| AAACCAAAGCCCGTGA-1 | 21 | AAACCAAAGCCCGTGA-1 |  1 |   1 | AMB | 0_0_1_ZBC1,0_0_1_ZBC1,0.00 |  -0.04 | 0_0_2_ZBC2,0_0_2_ZBC2,0.00 |  -0.04 | 0.00 |  -3.0 | 0.82 | 0_0_1_ZBC1 |  -0.04 | 0_0_2_ZBC2 |  -0.04 | 0.06180 | 0_0_1_ZBC1,0_0_2_ZBC2,0.50 |  -0.04 | 0.00 |\n",
       "| AAACCAAAGCGCTCGA-1 | 34 | AAACCAAAGCGCTCGA-1 |  1 |   1 | AMB | 0_0_1_ZBC1,0_0_1_ZBC1,0.00 |  -0.02 | 0_0_2_ZBC2,0_0_2_ZBC2,0.00 |  -0.02 | 0.00 |  -3.1 | 0.77 | 0_0_1_ZBC1 |  -0.02 | 0_0_2_ZBC2 |  -0.02 | 0.05783 | 0_0_1_ZBC1,0_0_2_ZBC2,0.50 |  -0.02 | 0.00 |\n",
       "| AAACCAAAGGAGCTAG-1 | 43 | AAACCAAAGGAGCTAG-1 | 54 | 125 | SNG | 0_0_2_ZBC2,0_0_2_ZBC2,0.00 | -13.67 | 0_0_1_ZBC1,0_0_2_ZBC2,0.50 | -23.02 | 9.35 | -16.0 | 1.00 | 0_0_2_ZBC2 | -13.67 | 0_0_1_ZBC1 | -49.64 | 0.00000 | 0_0_1_ZBC1,0_0_2_ZBC2,0.50 | -23.02 | 9.35 |\n",
       "| AAACCAAAGGCTACCG-1 | 57 | AAACCAAAGGCTACCG-1 |  1 |   1 | AMB | 0_0_1_ZBC1,0_0_1_ZBC1,0.00 |  -0.01 | 0_0_2_ZBC2,0_0_2_ZBC2,0.00 |  -0.01 | 0.00 |  -3.1 | 0.76 | 0_0_1_ZBC1 |  -0.01 | 0_0_2_ZBC2 |  -0.01 | 0.05666 | 0_0_1_ZBC1,0_0_2_ZBC2,0.50 |  -0.01 | 0.00 |\n",
       "| AAACCAAAGGTGGACA-1 | 67 | AAACCAAAGGTGGACA-1 |  1 |   1 | AMB | 0_0_1_ZBC1,0_0_1_ZBC1,0.00 |  -0.03 | 0_0_5_ZBl2,0_0_5_ZBl2,0.00 |  -0.03 | 0.00 |  -3.1 | 0.79 | 0_0_1_ZBC1 |  -0.03 | 0_0_5_ZBl2 |  -0.03 | 0.05908 | 0_0_1_ZBC1,0_0_5_ZBl2,0.50 |  -0.03 | 0.00 |\n",
       "\n"
      ],
      "text/plain": [
       "                   INT_ID barcode            NUM.SNPS NUM.READS DROPLET.TYPE\n",
       "AAACCAAAGAAGGGCC-1  4     AAACCAAAGAAGGGCC-1 21        31       SNG         \n",
       "AAACCAAAGCCCGTGA-1 21     AAACCAAAGCCCGTGA-1  1         1       AMB         \n",
       "AAACCAAAGCGCTCGA-1 34     AAACCAAAGCGCTCGA-1  1         1       AMB         \n",
       "AAACCAAAGGAGCTAG-1 43     AAACCAAAGGAGCTAG-1 54       125       SNG         \n",
       "AAACCAAAGGCTACCG-1 57     AAACCAAAGGCTACCG-1  1         1       AMB         \n",
       "AAACCAAAGGTGGACA-1 67     AAACCAAAGGTGGACA-1  1         1       AMB         \n",
       "                   BEST.GUESS                 BEST.LLK\n",
       "AAACCAAAGAAGGGCC-1 0_0_3_ZBC3,0_0_3_ZBC3,0.00  -7.24  \n",
       "AAACCAAAGCCCGTGA-1 0_0_1_ZBC1,0_0_1_ZBC1,0.00  -0.04  \n",
       "AAACCAAAGCGCTCGA-1 0_0_1_ZBC1,0_0_1_ZBC1,0.00  -0.02  \n",
       "AAACCAAAGGAGCTAG-1 0_0_2_ZBC2,0_0_2_ZBC2,0.00 -13.67  \n",
       "AAACCAAAGGCTACCG-1 0_0_1_ZBC1,0_0_1_ZBC1,0.00  -0.01  \n",
       "AAACCAAAGGTGGACA-1 0_0_1_ZBC1,0_0_1_ZBC1,0.00  -0.03  \n",
       "                   NEXT.GUESS                 NEXT.LLK DIFF.LLK.BEST.NEXT\n",
       "AAACCAAAGAAGGGCC-1 0_0_1_ZBC1,0_0_3_ZBC3,0.50  -8.31   1.07              \n",
       "AAACCAAAGCCCGTGA-1 0_0_2_ZBC2,0_0_2_ZBC2,0.00  -0.04   0.00              \n",
       "AAACCAAAGCGCTCGA-1 0_0_2_ZBC2,0_0_2_ZBC2,0.00  -0.02   0.00              \n",
       "AAACCAAAGGAGCTAG-1 0_0_1_ZBC1,0_0_2_ZBC2,0.50 -23.02   9.35              \n",
       "AAACCAAAGGCTACCG-1 0_0_2_ZBC2,0_0_2_ZBC2,0.00  -0.01   0.00              \n",
       "AAACCAAAGGTGGACA-1 0_0_5_ZBl2,0_0_5_ZBl2,0.00  -0.03   0.00              \n",
       "                   BEST.POSTERIOR SNG.POSTERIOR SNG.BEST.GUESS SNG.BEST.LLK\n",
       "AAACCAAAGAAGGGCC-1  -9.7          1.00          0_0_3_ZBC3      -7.24      \n",
       "AAACCAAAGCCCGTGA-1  -3.0          0.82          0_0_1_ZBC1      -0.04      \n",
       "AAACCAAAGCGCTCGA-1  -3.1          0.77          0_0_1_ZBC1      -0.02      \n",
       "AAACCAAAGGAGCTAG-1 -16.0          1.00          0_0_2_ZBC2     -13.67      \n",
       "AAACCAAAGGCTACCG-1  -3.1          0.76          0_0_1_ZBC1      -0.01      \n",
       "AAACCAAAGGTGGACA-1  -3.1          0.79          0_0_1_ZBC1      -0.03      \n",
       "                   SNG.NEXT.GUESS SNG.NEXT.LLK SNG.ONLY.POSTERIOR\n",
       "AAACCAAAGAAGGGCC-1 0_0_1_ZBC1     -12.74       0.00006           \n",
       "AAACCAAAGCCCGTGA-1 0_0_2_ZBC2      -0.04       0.06180           \n",
       "AAACCAAAGCGCTCGA-1 0_0_2_ZBC2      -0.02       0.05783           \n",
       "AAACCAAAGGAGCTAG-1 0_0_1_ZBC1     -49.64       0.00000           \n",
       "AAACCAAAGGCTACCG-1 0_0_2_ZBC2      -0.01       0.05666           \n",
       "AAACCAAAGGTGGACA-1 0_0_5_ZBl2      -0.03       0.05908           \n",
       "                   DBL.BEST.GUESS             DBL.BEST.LLK DIFF.LLK.SNG.DBL\n",
       "AAACCAAAGAAGGGCC-1 0_0_1_ZBC1,0_0_3_ZBC3,0.50  -8.31       1.07            \n",
       "AAACCAAAGCCCGTGA-1 0_0_1_ZBC1,0_0_2_ZBC2,0.50  -0.04       0.00            \n",
       "AAACCAAAGCGCTCGA-1 0_0_1_ZBC1,0_0_2_ZBC2,0.50  -0.02       0.00            \n",
       "AAACCAAAGGAGCTAG-1 0_0_1_ZBC1,0_0_2_ZBC2,0.50 -23.02       9.35            \n",
       "AAACCAAAGGCTACCG-1 0_0_1_ZBC1,0_0_2_ZBC2,0.50  -0.01       0.00            \n",
       "AAACCAAAGGTGGACA-1 0_0_1_ZBC1,0_0_5_ZBl2,0.50  -0.03       0.00            "
      ]
     },
     "metadata": {},
     "output_type": "display_data"
    }
   ],
   "source": [
    "colnames(demux_lib1_subset)[colnames(demux_lib1_subset) == \"BARCODE\"] <- \"barcode\"\n",
    "\n",
    "\n",
    "head(demux_lib1_subset)"
   ]
  },
  {
   "cell_type": "code",
   "execution_count": 13,
   "id": "b18f7ea2",
   "metadata": {
    "vscode": {
     "languageId": "r"
    }
   },
   "outputs": [
    {
     "data": {
      "text/html": [
       "<style>\n",
       ".list-inline {list-style: none; margin:0; padding: 0}\n",
       ".list-inline>li {display: inline-block}\n",
       ".list-inline>li:not(:last-child)::after {content: \"\\00b7\"; padding: 0 .5ex}\n",
       "</style>\n",
       "<ol class=list-inline><li>'orig.ident'</li><li>'nCount_RNA'</li><li>'nFeature_RNA'</li></ol>\n"
      ],
      "text/latex": [
       "\\begin{enumerate*}\n",
       "\\item 'orig.ident'\n",
       "\\item 'nCount\\_RNA'\n",
       "\\item 'nFeature\\_RNA'\n",
       "\\end{enumerate*}\n"
      ],
      "text/markdown": [
       "1. 'orig.ident'\n",
       "2. 'nCount_RNA'\n",
       "3. 'nFeature_RNA'\n",
       "\n",
       "\n"
      ],
      "text/plain": [
       "[1] \"orig.ident\"   \"nCount_RNA\"   \"nFeature_RNA\""
      ]
     },
     "metadata": {},
     "output_type": "display_data"
    }
   ],
   "source": [
    "unique(colnames(sobj.lib1@meta.data))"
   ]
  },
  {
   "cell_type": "code",
   "execution_count": 14,
   "id": "a9a3c7ca",
   "metadata": {
    "vscode": {
     "languageId": "r"
    }
   },
   "outputs": [
    {
     "data": {
      "text/html": [
       "<style>\n",
       ".list-inline {list-style: none; margin:0; padding: 0}\n",
       ".list-inline>li {display: inline-block}\n",
       ".list-inline>li:not(:last-child)::after {content: \"\\00b7\"; padding: 0 .5ex}\n",
       "</style>\n",
       "<ol class=list-inline><li>'orig.ident'</li><li>'nCount_RNA'</li><li>'nFeature_RNA'</li><li>'INT_ID'</li><li>'NUM.SNPS'</li><li>'NUM.READS'</li><li>'DROPLET.TYPE'</li><li>'BEST.GUESS'</li><li>'BEST.LLK'</li><li>'NEXT.GUESS'</li><li>'NEXT.LLK'</li><li>'DIFF.LLK.BEST.NEXT'</li><li>'BEST.POSTERIOR'</li><li>'SNG.POSTERIOR'</li><li>'SNG.BEST.GUESS'</li><li>'SNG.BEST.LLK'</li><li>'SNG.NEXT.GUESS'</li><li>'SNG.NEXT.LLK'</li><li>'SNG.ONLY.POSTERIOR'</li><li>'DBL.BEST.GUESS'</li><li>'DBL.BEST.LLK'</li><li>'DIFF.LLK.SNG.DBL'</li></ol>\n"
      ],
      "text/latex": [
       "\\begin{enumerate*}\n",
       "\\item 'orig.ident'\n",
       "\\item 'nCount\\_RNA'\n",
       "\\item 'nFeature\\_RNA'\n",
       "\\item 'INT\\_ID'\n",
       "\\item 'NUM.SNPS'\n",
       "\\item 'NUM.READS'\n",
       "\\item 'DROPLET.TYPE'\n",
       "\\item 'BEST.GUESS'\n",
       "\\item 'BEST.LLK'\n",
       "\\item 'NEXT.GUESS'\n",
       "\\item 'NEXT.LLK'\n",
       "\\item 'DIFF.LLK.BEST.NEXT'\n",
       "\\item 'BEST.POSTERIOR'\n",
       "\\item 'SNG.POSTERIOR'\n",
       "\\item 'SNG.BEST.GUESS'\n",
       "\\item 'SNG.BEST.LLK'\n",
       "\\item 'SNG.NEXT.GUESS'\n",
       "\\item 'SNG.NEXT.LLK'\n",
       "\\item 'SNG.ONLY.POSTERIOR'\n",
       "\\item 'DBL.BEST.GUESS'\n",
       "\\item 'DBL.BEST.LLK'\n",
       "\\item 'DIFF.LLK.SNG.DBL'\n",
       "\\end{enumerate*}\n"
      ],
      "text/markdown": [
       "1. 'orig.ident'\n",
       "2. 'nCount_RNA'\n",
       "3. 'nFeature_RNA'\n",
       "4. 'INT_ID'\n",
       "5. 'NUM.SNPS'\n",
       "6. 'NUM.READS'\n",
       "7. 'DROPLET.TYPE'\n",
       "8. 'BEST.GUESS'\n",
       "9. 'BEST.LLK'\n",
       "10. 'NEXT.GUESS'\n",
       "11. 'NEXT.LLK'\n",
       "12. 'DIFF.LLK.BEST.NEXT'\n",
       "13. 'BEST.POSTERIOR'\n",
       "14. 'SNG.POSTERIOR'\n",
       "15. 'SNG.BEST.GUESS'\n",
       "16. 'SNG.BEST.LLK'\n",
       "17. 'SNG.NEXT.GUESS'\n",
       "18. 'SNG.NEXT.LLK'\n",
       "19. 'SNG.ONLY.POSTERIOR'\n",
       "20. 'DBL.BEST.GUESS'\n",
       "21. 'DBL.BEST.LLK'\n",
       "22. 'DIFF.LLK.SNG.DBL'\n",
       "\n",
       "\n"
      ],
      "text/plain": [
       " [1] \"orig.ident\"         \"nCount_RNA\"         \"nFeature_RNA\"      \n",
       " [4] \"INT_ID\"             \"NUM.SNPS\"           \"NUM.READS\"         \n",
       " [7] \"DROPLET.TYPE\"       \"BEST.GUESS\"         \"BEST.LLK\"          \n",
       "[10] \"NEXT.GUESS\"         \"NEXT.LLK\"           \"DIFF.LLK.BEST.NEXT\"\n",
       "[13] \"BEST.POSTERIOR\"     \"SNG.POSTERIOR\"      \"SNG.BEST.GUESS\"    \n",
       "[16] \"SNG.BEST.LLK\"       \"SNG.NEXT.GUESS\"     \"SNG.NEXT.LLK\"      \n",
       "[19] \"SNG.ONLY.POSTERIOR\" \"DBL.BEST.GUESS\"     \"DBL.BEST.LLK\"      \n",
       "[22] \"DIFF.LLK.SNG.DBL\"  "
      ]
     },
     "metadata": {},
     "output_type": "display_data"
    }
   ],
   "source": [
    "\n",
    "# Join metadata into Seurat object using dplyr's left_join (ensuring alignment)\n",
    "new_metadata <- sobj.lib1@meta.data %>%\n",
    "  tibble::rownames_to_column(var = \"barcode\") %>%\n",
    "  full_join(demux_lib1_subset, by = \"barcode\") %>%\n",
    "  tibble::column_to_rownames(var = \"barcode\")\n",
    "\n",
    "# Assign updated metadata back to Seurat object\n",
    "sobj.lib1 <- AddMetaData(sobj.lib1, new_metadata)\n",
    "\n",
    "# Check if metadata was added correctly\n",
    "unique(colnames(sobj.lib1@meta.data))"
   ]
  },
  {
   "cell_type": "code",
   "execution_count": 15,
   "id": "c0e13e86",
   "metadata": {
    "vscode": {
     "languageId": "r"
    }
   },
   "outputs": [
    {
     "data": {
      "text/plain": [
       "An object of class Seurat \n",
       "33538 features across 1440629 samples within 1 assay \n",
       "Active assay: RNA (33538 features, 0 variable features)\n",
       " 1 layer present: counts"
      ]
     },
     "metadata": {},
     "output_type": "display_data"
    }
   ],
   "source": [
    "sobj.lib1"
   ]
  },
  {
   "cell_type": "code",
   "execution_count": 16,
   "id": "ddc7bf70",
   "metadata": {
    "vscode": {
     "languageId": "r"
    }
   },
   "outputs": [
    {
     "data": {
      "text/plain": [
       "\n",
       "  AMB   DBL   SNG \n",
       "29622   197 10213 "
      ]
     },
     "metadata": {},
     "output_type": "display_data"
    }
   ],
   "source": [
    "table(sobj.lib1$DROPLET.TYPE)"
   ]
  },
  {
   "cell_type": "markdown",
   "id": "dccbb398",
   "metadata": {},
   "source": [
    "## Adding data JB_1496"
   ]
  },
  {
   "cell_type": "code",
   "execution_count": 17,
   "id": "7777f0bc",
   "metadata": {
    "vscode": {
     "languageId": "r"
    }
   },
   "outputs": [],
   "source": [
    "lib2.data <-  Read10X(\"/tscc/projects/ps-epigen/10x_output/250311/counts_out/snRNA/JB_1496/outs/raw_feature_bc_matrix/\")\n",
    "demux_lib2 <- read.table(\"/tscc/projects/ps-epigen/users/a2jorgensen/sandbox/250225_humanAT2_organoids/data/Demux/250317_AT2_organoid_ZO/popscle_out/JB_1496.best\", header = TRUE, sep = \"\\t\", stringsAsFactors = FALSE)"
   ]
  },
  {
   "cell_type": "code",
   "execution_count": 18,
   "id": "970d3699",
   "metadata": {
    "vscode": {
     "languageId": "r"
    }
   },
   "outputs": [
    {
     "data": {
      "text/plain": [
       "\n",
       "  AMB   DBL   SNG \n",
       "36206   181 10115 "
      ]
     },
     "metadata": {},
     "output_type": "display_data"
    }
   ],
   "source": [
    "table(demux_lib2$DROPLET.TYPE)"
   ]
  },
  {
   "cell_type": "code",
   "execution_count": 19,
   "id": "ffac573b",
   "metadata": {
    "vscode": {
     "languageId": "r"
    }
   },
   "outputs": [
    {
     "data": {
      "text/html": [
       "<table class=\"dataframe\">\n",
       "<caption>A data.frame: 6 × 20</caption>\n",
       "<thead>\n",
       "\t<tr><th></th><th scope=col>INT_ID</th><th scope=col>BARCODE</th><th scope=col>NUM.SNPS</th><th scope=col>NUM.READS</th><th scope=col>DROPLET.TYPE</th><th scope=col>BEST.GUESS</th><th scope=col>BEST.LLK</th><th scope=col>NEXT.GUESS</th><th scope=col>NEXT.LLK</th><th scope=col>DIFF.LLK.BEST.NEXT</th><th scope=col>BEST.POSTERIOR</th><th scope=col>SNG.POSTERIOR</th><th scope=col>SNG.BEST.GUESS</th><th scope=col>SNG.BEST.LLK</th><th scope=col>SNG.NEXT.GUESS</th><th scope=col>SNG.NEXT.LLK</th><th scope=col>SNG.ONLY.POSTERIOR</th><th scope=col>DBL.BEST.GUESS</th><th scope=col>DBL.BEST.LLK</th><th scope=col>DIFF.LLK.SNG.DBL</th></tr>\n",
       "\t<tr><th></th><th scope=col>&lt;int&gt;</th><th scope=col>&lt;chr&gt;</th><th scope=col>&lt;int&gt;</th><th scope=col>&lt;int&gt;</th><th scope=col>&lt;chr&gt;</th><th scope=col>&lt;chr&gt;</th><th scope=col>&lt;dbl&gt;</th><th scope=col>&lt;chr&gt;</th><th scope=col>&lt;dbl&gt;</th><th scope=col>&lt;dbl&gt;</th><th scope=col>&lt;dbl&gt;</th><th scope=col>&lt;dbl&gt;</th><th scope=col>&lt;chr&gt;</th><th scope=col>&lt;dbl&gt;</th><th scope=col>&lt;chr&gt;</th><th scope=col>&lt;dbl&gt;</th><th scope=col>&lt;dbl&gt;</th><th scope=col>&lt;chr&gt;</th><th scope=col>&lt;dbl&gt;</th><th scope=col>&lt;dbl&gt;</th></tr>\n",
       "</thead>\n",
       "<tbody>\n",
       "\t<tr><th scope=row>1</th><td> 0</td><td>.                 </td><td>6386</td><td>23237</td><td>DBL</td><td>0_0_1_ZBC1,0_0_3_ZBC3,0.50</td><td>-3311.17</td><td>0_0_3_ZBC3,0_0_1_ZBC1,0.50</td><td>-3311.17</td><td>0.00</td><td> 0.0</td><td>1.00</td><td>0_0_1_ZBC1</td><td>-4223.35</td><td>0_0_3_ZBC3</td><td>-6005.15</td><td>0.00000</td><td>0_0_1_ZBC1,0_0_3_ZBC3,0.50</td><td>-3311.17</td><td>-912.18</td></tr>\n",
       "\t<tr><th scope=row>2</th><td> 7</td><td>AAACCAAAGAAGGGTT-1</td><td>   1</td><td>    1</td><td>AMB</td><td>0_0_6_ZBl3,0_0_6_ZBl3,0.00</td><td>   -0.06</td><td>0_0_3_ZBC3,0_0_3_ZBC3,0.00</td><td>   -0.71</td><td>0.65</td><td>-2.9</td><td>0.85</td><td>0_0_6_ZBl3</td><td>   -0.06</td><td>0_0_3_ZBC3</td><td>   -0.71</td><td>0.06490</td><td>0_0_3_ZBC3,0_0_6_ZBl3,0.50</td><td>   -0.33</td><td>   0.27</td></tr>\n",
       "\t<tr><th scope=row>3</th><td>10</td><td>AAACCAAAGAATCGTT-1</td><td>   1</td><td>    1</td><td>AMB</td><td>0_0_1_ZBC1,0_0_1_ZBC1,0.00</td><td>   -0.01</td><td>0_0_2_ZBC2,0_0_2_ZBC2,0.00</td><td>   -0.01</td><td>0.00</td><td>-3.1</td><td>0.76</td><td>0_0_1_ZBC1</td><td>   -0.01</td><td>0_0_2_ZBC2</td><td>   -0.01</td><td>0.05666</td><td>0_0_1_ZBC1,0_0_2_ZBC2,0.50</td><td>   -0.01</td><td>   0.00</td></tr>\n",
       "\t<tr><th scope=row>4</th><td>37</td><td>AAACCAAAGCCCTTGC-1</td><td>   1</td><td>    1</td><td>AMB</td><td>0_0_1_ZBC1,0_0_1_ZBC1,0.00</td><td>   -0.02</td><td>0_0_2_ZBC2,0_0_2_ZBC2,0.00</td><td>   -0.02</td><td>0.00</td><td>-3.1</td><td>0.77</td><td>0_0_1_ZBC1</td><td>   -0.02</td><td>0_0_2_ZBC2</td><td>   -0.02</td><td>0.05783</td><td>0_0_1_ZBC1,0_0_2_ZBC2,0.50</td><td>   -0.02</td><td>   0.00</td></tr>\n",
       "\t<tr><th scope=row>5</th><td>56</td><td>AAACCAAAGCTTAGTG-1</td><td>   1</td><td>    1</td><td>AMB</td><td>0_0_1_ZBC1,0_0_1_ZBC1,0.00</td><td>   -0.01</td><td>0_0_2_ZBC2,0_0_2_ZBC2,0.00</td><td>   -0.01</td><td>0.00</td><td>-3.1</td><td>0.76</td><td>0_0_1_ZBC1</td><td>   -0.01</td><td>0_0_2_ZBC2</td><td>   -0.01</td><td>0.05666</td><td>0_0_1_ZBC1,0_0_2_ZBC2,0.50</td><td>   -0.01</td><td>   0.00</td></tr>\n",
       "\t<tr><th scope=row>6</th><td>73</td><td>AAACCAAAGGCTACCG-1</td><td>   2</td><td>    2</td><td>AMB</td><td>0_0_1_ZBC1,0_0_1_ZBC1,0.00</td><td>   -0.03</td><td>0_0_3_ZBC3,0_0_3_ZBC3,0.00</td><td>   -0.03</td><td>0.00</td><td>-3.1</td><td>0.78</td><td>0_0_1_ZBC1</td><td>   -0.03</td><td>0_0_3_ZBC3</td><td>   -0.03</td><td>0.05903</td><td>0_0_1_ZBC1,0_0_3_ZBC3,0.50</td><td>   -0.03</td><td>   0.00</td></tr>\n",
       "</tbody>\n",
       "</table>\n"
      ],
      "text/latex": [
       "A data.frame: 6 × 20\n",
       "\\begin{tabular}{r|llllllllllllllllllll}\n",
       "  & INT\\_ID & BARCODE & NUM.SNPS & NUM.READS & DROPLET.TYPE & BEST.GUESS & BEST.LLK & NEXT.GUESS & NEXT.LLK & DIFF.LLK.BEST.NEXT & BEST.POSTERIOR & SNG.POSTERIOR & SNG.BEST.GUESS & SNG.BEST.LLK & SNG.NEXT.GUESS & SNG.NEXT.LLK & SNG.ONLY.POSTERIOR & DBL.BEST.GUESS & DBL.BEST.LLK & DIFF.LLK.SNG.DBL\\\\\n",
       "  & <int> & <chr> & <int> & <int> & <chr> & <chr> & <dbl> & <chr> & <dbl> & <dbl> & <dbl> & <dbl> & <chr> & <dbl> & <chr> & <dbl> & <dbl> & <chr> & <dbl> & <dbl>\\\\\n",
       "\\hline\n",
       "\t1 &  0 & .                  & 6386 & 23237 & DBL & 0\\_0\\_1\\_ZBC1,0\\_0\\_3\\_ZBC3,0.50 & -3311.17 & 0\\_0\\_3\\_ZBC3,0\\_0\\_1\\_ZBC1,0.50 & -3311.17 & 0.00 &  0.0 & 1.00 & 0\\_0\\_1\\_ZBC1 & -4223.35 & 0\\_0\\_3\\_ZBC3 & -6005.15 & 0.00000 & 0\\_0\\_1\\_ZBC1,0\\_0\\_3\\_ZBC3,0.50 & -3311.17 & -912.18\\\\\n",
       "\t2 &  7 & AAACCAAAGAAGGGTT-1 &    1 &     1 & AMB & 0\\_0\\_6\\_ZBl3,0\\_0\\_6\\_ZBl3,0.00 &    -0.06 & 0\\_0\\_3\\_ZBC3,0\\_0\\_3\\_ZBC3,0.00 &    -0.71 & 0.65 & -2.9 & 0.85 & 0\\_0\\_6\\_ZBl3 &    -0.06 & 0\\_0\\_3\\_ZBC3 &    -0.71 & 0.06490 & 0\\_0\\_3\\_ZBC3,0\\_0\\_6\\_ZBl3,0.50 &    -0.33 &    0.27\\\\\n",
       "\t3 & 10 & AAACCAAAGAATCGTT-1 &    1 &     1 & AMB & 0\\_0\\_1\\_ZBC1,0\\_0\\_1\\_ZBC1,0.00 &    -0.01 & 0\\_0\\_2\\_ZBC2,0\\_0\\_2\\_ZBC2,0.00 &    -0.01 & 0.00 & -3.1 & 0.76 & 0\\_0\\_1\\_ZBC1 &    -0.01 & 0\\_0\\_2\\_ZBC2 &    -0.01 & 0.05666 & 0\\_0\\_1\\_ZBC1,0\\_0\\_2\\_ZBC2,0.50 &    -0.01 &    0.00\\\\\n",
       "\t4 & 37 & AAACCAAAGCCCTTGC-1 &    1 &     1 & AMB & 0\\_0\\_1\\_ZBC1,0\\_0\\_1\\_ZBC1,0.00 &    -0.02 & 0\\_0\\_2\\_ZBC2,0\\_0\\_2\\_ZBC2,0.00 &    -0.02 & 0.00 & -3.1 & 0.77 & 0\\_0\\_1\\_ZBC1 &    -0.02 & 0\\_0\\_2\\_ZBC2 &    -0.02 & 0.05783 & 0\\_0\\_1\\_ZBC1,0\\_0\\_2\\_ZBC2,0.50 &    -0.02 &    0.00\\\\\n",
       "\t5 & 56 & AAACCAAAGCTTAGTG-1 &    1 &     1 & AMB & 0\\_0\\_1\\_ZBC1,0\\_0\\_1\\_ZBC1,0.00 &    -0.01 & 0\\_0\\_2\\_ZBC2,0\\_0\\_2\\_ZBC2,0.00 &    -0.01 & 0.00 & -3.1 & 0.76 & 0\\_0\\_1\\_ZBC1 &    -0.01 & 0\\_0\\_2\\_ZBC2 &    -0.01 & 0.05666 & 0\\_0\\_1\\_ZBC1,0\\_0\\_2\\_ZBC2,0.50 &    -0.01 &    0.00\\\\\n",
       "\t6 & 73 & AAACCAAAGGCTACCG-1 &    2 &     2 & AMB & 0\\_0\\_1\\_ZBC1,0\\_0\\_1\\_ZBC1,0.00 &    -0.03 & 0\\_0\\_3\\_ZBC3,0\\_0\\_3\\_ZBC3,0.00 &    -0.03 & 0.00 & -3.1 & 0.78 & 0\\_0\\_1\\_ZBC1 &    -0.03 & 0\\_0\\_3\\_ZBC3 &    -0.03 & 0.05903 & 0\\_0\\_1\\_ZBC1,0\\_0\\_3\\_ZBC3,0.50 &    -0.03 &    0.00\\\\\n",
       "\\end{tabular}\n"
      ],
      "text/markdown": [
       "\n",
       "A data.frame: 6 × 20\n",
       "\n",
       "| <!--/--> | INT_ID &lt;int&gt; | BARCODE &lt;chr&gt; | NUM.SNPS &lt;int&gt; | NUM.READS &lt;int&gt; | DROPLET.TYPE &lt;chr&gt; | BEST.GUESS &lt;chr&gt; | BEST.LLK &lt;dbl&gt; | NEXT.GUESS &lt;chr&gt; | NEXT.LLK &lt;dbl&gt; | DIFF.LLK.BEST.NEXT &lt;dbl&gt; | BEST.POSTERIOR &lt;dbl&gt; | SNG.POSTERIOR &lt;dbl&gt; | SNG.BEST.GUESS &lt;chr&gt; | SNG.BEST.LLK &lt;dbl&gt; | SNG.NEXT.GUESS &lt;chr&gt; | SNG.NEXT.LLK &lt;dbl&gt; | SNG.ONLY.POSTERIOR &lt;dbl&gt; | DBL.BEST.GUESS &lt;chr&gt; | DBL.BEST.LLK &lt;dbl&gt; | DIFF.LLK.SNG.DBL &lt;dbl&gt; |\n",
       "|---|---|---|---|---|---|---|---|---|---|---|---|---|---|---|---|---|---|---|---|---|\n",
       "| 1 |  0 | .                  | 6386 | 23237 | DBL | 0_0_1_ZBC1,0_0_3_ZBC3,0.50 | -3311.17 | 0_0_3_ZBC3,0_0_1_ZBC1,0.50 | -3311.17 | 0.00 |  0.0 | 1.00 | 0_0_1_ZBC1 | -4223.35 | 0_0_3_ZBC3 | -6005.15 | 0.00000 | 0_0_1_ZBC1,0_0_3_ZBC3,0.50 | -3311.17 | -912.18 |\n",
       "| 2 |  7 | AAACCAAAGAAGGGTT-1 |    1 |     1 | AMB | 0_0_6_ZBl3,0_0_6_ZBl3,0.00 |    -0.06 | 0_0_3_ZBC3,0_0_3_ZBC3,0.00 |    -0.71 | 0.65 | -2.9 | 0.85 | 0_0_6_ZBl3 |    -0.06 | 0_0_3_ZBC3 |    -0.71 | 0.06490 | 0_0_3_ZBC3,0_0_6_ZBl3,0.50 |    -0.33 |    0.27 |\n",
       "| 3 | 10 | AAACCAAAGAATCGTT-1 |    1 |     1 | AMB | 0_0_1_ZBC1,0_0_1_ZBC1,0.00 |    -0.01 | 0_0_2_ZBC2,0_0_2_ZBC2,0.00 |    -0.01 | 0.00 | -3.1 | 0.76 | 0_0_1_ZBC1 |    -0.01 | 0_0_2_ZBC2 |    -0.01 | 0.05666 | 0_0_1_ZBC1,0_0_2_ZBC2,0.50 |    -0.01 |    0.00 |\n",
       "| 4 | 37 | AAACCAAAGCCCTTGC-1 |    1 |     1 | AMB | 0_0_1_ZBC1,0_0_1_ZBC1,0.00 |    -0.02 | 0_0_2_ZBC2,0_0_2_ZBC2,0.00 |    -0.02 | 0.00 | -3.1 | 0.77 | 0_0_1_ZBC1 |    -0.02 | 0_0_2_ZBC2 |    -0.02 | 0.05783 | 0_0_1_ZBC1,0_0_2_ZBC2,0.50 |    -0.02 |    0.00 |\n",
       "| 5 | 56 | AAACCAAAGCTTAGTG-1 |    1 |     1 | AMB | 0_0_1_ZBC1,0_0_1_ZBC1,0.00 |    -0.01 | 0_0_2_ZBC2,0_0_2_ZBC2,0.00 |    -0.01 | 0.00 | -3.1 | 0.76 | 0_0_1_ZBC1 |    -0.01 | 0_0_2_ZBC2 |    -0.01 | 0.05666 | 0_0_1_ZBC1,0_0_2_ZBC2,0.50 |    -0.01 |    0.00 |\n",
       "| 6 | 73 | AAACCAAAGGCTACCG-1 |    2 |     2 | AMB | 0_0_1_ZBC1,0_0_1_ZBC1,0.00 |    -0.03 | 0_0_3_ZBC3,0_0_3_ZBC3,0.00 |    -0.03 | 0.00 | -3.1 | 0.78 | 0_0_1_ZBC1 |    -0.03 | 0_0_3_ZBC3 |    -0.03 | 0.05903 | 0_0_1_ZBC1,0_0_3_ZBC3,0.50 |    -0.03 |    0.00 |\n",
       "\n"
      ],
      "text/plain": [
       "  INT_ID BARCODE            NUM.SNPS NUM.READS DROPLET.TYPE\n",
       "1  0     .                  6386     23237     DBL         \n",
       "2  7     AAACCAAAGAAGGGTT-1    1         1     AMB         \n",
       "3 10     AAACCAAAGAATCGTT-1    1         1     AMB         \n",
       "4 37     AAACCAAAGCCCTTGC-1    1         1     AMB         \n",
       "5 56     AAACCAAAGCTTAGTG-1    1         1     AMB         \n",
       "6 73     AAACCAAAGGCTACCG-1    2         2     AMB         \n",
       "  BEST.GUESS                 BEST.LLK NEXT.GUESS                 NEXT.LLK\n",
       "1 0_0_1_ZBC1,0_0_3_ZBC3,0.50 -3311.17 0_0_3_ZBC3,0_0_1_ZBC1,0.50 -3311.17\n",
       "2 0_0_6_ZBl3,0_0_6_ZBl3,0.00    -0.06 0_0_3_ZBC3,0_0_3_ZBC3,0.00    -0.71\n",
       "3 0_0_1_ZBC1,0_0_1_ZBC1,0.00    -0.01 0_0_2_ZBC2,0_0_2_ZBC2,0.00    -0.01\n",
       "4 0_0_1_ZBC1,0_0_1_ZBC1,0.00    -0.02 0_0_2_ZBC2,0_0_2_ZBC2,0.00    -0.02\n",
       "5 0_0_1_ZBC1,0_0_1_ZBC1,0.00    -0.01 0_0_2_ZBC2,0_0_2_ZBC2,0.00    -0.01\n",
       "6 0_0_1_ZBC1,0_0_1_ZBC1,0.00    -0.03 0_0_3_ZBC3,0_0_3_ZBC3,0.00    -0.03\n",
       "  DIFF.LLK.BEST.NEXT BEST.POSTERIOR SNG.POSTERIOR SNG.BEST.GUESS SNG.BEST.LLK\n",
       "1 0.00                0.0           1.00          0_0_1_ZBC1     -4223.35    \n",
       "2 0.65               -2.9           0.85          0_0_6_ZBl3        -0.06    \n",
       "3 0.00               -3.1           0.76          0_0_1_ZBC1        -0.01    \n",
       "4 0.00               -3.1           0.77          0_0_1_ZBC1        -0.02    \n",
       "5 0.00               -3.1           0.76          0_0_1_ZBC1        -0.01    \n",
       "6 0.00               -3.1           0.78          0_0_1_ZBC1        -0.03    \n",
       "  SNG.NEXT.GUESS SNG.NEXT.LLK SNG.ONLY.POSTERIOR DBL.BEST.GUESS            \n",
       "1 0_0_3_ZBC3     -6005.15     0.00000            0_0_1_ZBC1,0_0_3_ZBC3,0.50\n",
       "2 0_0_3_ZBC3        -0.71     0.06490            0_0_3_ZBC3,0_0_6_ZBl3,0.50\n",
       "3 0_0_2_ZBC2        -0.01     0.05666            0_0_1_ZBC1,0_0_2_ZBC2,0.50\n",
       "4 0_0_2_ZBC2        -0.02     0.05783            0_0_1_ZBC1,0_0_2_ZBC2,0.50\n",
       "5 0_0_2_ZBC2        -0.01     0.05666            0_0_1_ZBC1,0_0_2_ZBC2,0.50\n",
       "6 0_0_3_ZBC3        -0.03     0.05903            0_0_1_ZBC1,0_0_3_ZBC3,0.50\n",
       "  DBL.BEST.LLK DIFF.LLK.SNG.DBL\n",
       "1 -3311.17     -912.18         \n",
       "2    -0.33        0.27         \n",
       "3    -0.01        0.00         \n",
       "4    -0.02        0.00         \n",
       "5    -0.01        0.00         \n",
       "6    -0.03        0.00         "
      ]
     },
     "metadata": {},
     "output_type": "display_data"
    }
   ],
   "source": [
    "head(demux_lib2)"
   ]
  },
  {
   "cell_type": "code",
   "execution_count": 20,
   "id": "d2b96f21",
   "metadata": {
    "vscode": {
     "languageId": "r"
    }
   },
   "outputs": [],
   "source": [
    "rownames(demux_lib2) <- demux_lib2$BARCODE\n",
    "\n",
    "sobj.lib2 <- CreateSeuratObject(counts = lib2.data, project = \"JB_1496_Organoid\")"
   ]
  },
  {
   "cell_type": "code",
   "execution_count": 21,
   "id": "b12dde23",
   "metadata": {
    "vscode": {
     "languageId": "r"
    }
   },
   "outputs": [
    {
     "name": "stdout",
     "output_type": "stream",
     "text": [
      "Seurat Barcodes (first 10):\n",
      " [1] \"AAACCAAAGAACCAGG-1\" \"AAACCAAAGAACCTAT-1\" \"AAACCAAAGAACCTCA-1\"\n",
      " [4] \"AAACCAAAGAACCTGC-1\" \"AAACCAAAGAACGGCA-1\" \"AAACCAAAGAACGGGC-1\"\n",
      " [7] \"AAACCAAAGAACGGTG-1\" \"AAACCAAAGAAGCAAC-1\" \"AAACCAAAGAAGCACG-1\"\n",
      "[10] \"AAACCAAAGAAGCGAT-1\"\n",
      "Demuxlet Barcodes (first 10):\n",
      " [1] \".\"                  \"AAACCAAAGAAGGGTT-1\" \"AAACCAAAGAATCGTT-1\"\n",
      " [4] \"AAACCAAAGCCCTTGC-1\" \"AAACCAAAGCTTAGTG-1\" \"AAACCAAAGGCTACCG-1\"\n",
      " [7] \"AAACCAAAGGCTCCAG-1\" \"AAACCAAAGGGTGAGC-1\" \"AAACCAAAGTGTCATG-1\"\n",
      "[10] \"AAACCAAAGTTAGTAC-1\"\n"
     ]
    }
   ],
   "source": [
    "rownames(demux_lib2) <- demux_lib2$BARCODE\n",
    "# Extract barcodes from Seurat object\n",
    "seurat_barcodes <- rownames(sobj.lib2@meta.data)\n",
    "\n",
    "# Extract barcodes from Demuxlet table\n",
    "demux_barcodes <- rownames(demux_lib2)\n",
    "\n",
    "# Print examples of barcodes\n",
    "cat(\"Seurat Barcodes (first 10):\\n\")\n",
    "print(head(seurat_barcodes, 10))\n",
    "\n",
    "cat(\"Demuxlet Barcodes (first 10):\\n\")\n",
    "print(head(demux_barcodes, 10))"
   ]
  },
  {
   "cell_type": "code",
   "execution_count": 22,
   "id": "da3be680",
   "metadata": {
    "vscode": {
     "languageId": "r"
    }
   },
   "outputs": [
    {
     "name": "stdout",
     "output_type": "stream",
     "text": [
      "Barcodes in Demuxlet but not in Seurat:\n",
      "[1] \".\"\n",
      "Barcodes in Seurat but not in Demuxlet:\n",
      " [1] \"AAACCAAAGAACCAGG-1\" \"AAACCAAAGAACCTAT-1\" \"AAACCAAAGAACCTCA-1\"\n",
      " [4] \"AAACCAAAGAACCTGC-1\" \"AAACCAAAGAACGGCA-1\" \"AAACCAAAGAACGGGC-1\"\n",
      " [7] \"AAACCAAAGAACGGTG-1\" \"AAACCAAAGAAGCAAC-1\" \"AAACCAAAGAAGCACG-1\"\n",
      "[10] \"AAACCAAAGAAGCGAT-1\"\n",
      "Number of barcodes in Demuxlet but not in Seurat: 1 \n",
      "Number of barcodes in Seurat but not in Demuxlet: 1477353 \n"
     ]
    }
   ],
   "source": [
    "# Find barcodes in Demuxlet but not in Seurat\n",
    "demux_not_in_seurat <- setdiff(demux_barcodes, seurat_barcodes)\n",
    "\n",
    "# Find barcodes in Seurat but not in Demuxlet\n",
    "seurat_not_in_demux <- setdiff(seurat_barcodes, demux_barcodes)\n",
    "\n",
    "# Print differences\n",
    "cat(\"Barcodes in Demuxlet but not in Seurat:\\n\")\n",
    "print(head(demux_not_in_seurat, 10))  # Show first 10\n",
    "\n",
    "cat(\"Barcodes in Seurat but not in Demuxlet:\\n\")\n",
    "print(head(seurat_not_in_demux, 10))  # Show first 10\n",
    "\n",
    "# Count differences\n",
    "cat(\"Number of barcodes in Demuxlet but not in Seurat:\", length(demux_not_in_seurat), \"\\n\")\n",
    "cat(\"Number of barcodes in Seurat but not in Demuxlet:\", length(seurat_not_in_demux), \"\\n\")"
   ]
  },
  {
   "cell_type": "code",
   "execution_count": 23,
   "id": "f113bbbf",
   "metadata": {
    "vscode": {
     "languageId": "r"
    }
   },
   "outputs": [
    {
     "name": "stdout",
     "output_type": "stream",
     "text": [
      "Final number of matching barcodes: 46501 \n"
     ]
    }
   ],
   "source": [
    "# Keep only rows where barcodes match Seurat object\n",
    "demux_lib2_subset <- demux_lib2[demux_barcodes %in% seurat_barcodes, , drop = FALSE]\n",
    "\n",
    "# Verify barcode alignment\n",
    "cat(\"Final number of matching barcodes:\", nrow(demux_lib2_subset), \"\\n\")"
   ]
  },
  {
   "cell_type": "code",
   "execution_count": 24,
   "id": "0ca449c4",
   "metadata": {
    "vscode": {
     "languageId": "r"
    }
   },
   "outputs": [
    {
     "name": "stdout",
     "output_type": "stream",
     "text": [
      "Barcodes in Demuxlet but not in Seurat:\n",
      "character(0)\n",
      "Barcodes in Seurat but not in Demuxlet:\n",
      " [1] \"AAACCAAAGAACCAGG-1\" \"AAACCAAAGAACCTAT-1\" \"AAACCAAAGAACCTCA-1\"\n",
      " [4] \"AAACCAAAGAACCTGC-1\" \"AAACCAAAGAACGGCA-1\" \"AAACCAAAGAACGGGC-1\"\n",
      " [7] \"AAACCAAAGAACGGTG-1\" \"AAACCAAAGAAGCAAC-1\" \"AAACCAAAGAAGCACG-1\"\n",
      "[10] \"AAACCAAAGAAGCGAT-1\"\n",
      "Number of barcodes in Demuxlet but not in Seurat: 0 \n",
      "Number of barcodes in Seurat but not in Demuxlet: 1477353 \n"
     ]
    }
   ],
   "source": [
    "demux_barcodes <-rownames(demux_lib2_subset)\n",
    "\n",
    "# Find barcodes in Demuxlet but not in Seurat\n",
    "demux_not_in_seurat <- setdiff(demux_barcodes, seurat_barcodes)\n",
    "\n",
    "# Find barcodes in Seurat but not in Demuxlet\n",
    "seurat_not_in_demux <- setdiff(seurat_barcodes, demux_barcodes)\n",
    "\n",
    "# Print differences\n",
    "cat(\"Barcodes in Demuxlet but not in Seurat:\\n\")\n",
    "print(head(demux_not_in_seurat, 10))  # Show first 10\n",
    "\n",
    "cat(\"Barcodes in Seurat but not in Demuxlet:\\n\")\n",
    "print(head(seurat_not_in_demux, 10))  # Show first 10\n",
    "\n",
    "# Count differences\n",
    "cat(\"Number of barcodes in Demuxlet but not in Seurat:\", length(demux_not_in_seurat), \"\\n\")\n",
    "cat(\"Number of barcodes in Seurat but not in Demuxlet:\", length(seurat_not_in_demux), \"\\n\")"
   ]
  },
  {
   "cell_type": "code",
   "execution_count": 25,
   "id": "daaa12b5",
   "metadata": {
    "vscode": {
     "languageId": "r"
    }
   },
   "outputs": [
    {
     "data": {
      "text/html": [
       "<table class=\"dataframe\">\n",
       "<caption>A data.frame: 6 × 1</caption>\n",
       "<thead>\n",
       "\t<tr><th></th><th scope=col>barcode</th></tr>\n",
       "\t<tr><th></th><th scope=col>&lt;chr&gt;</th></tr>\n",
       "</thead>\n",
       "<tbody>\n",
       "\t<tr><th scope=row>1</th><td>AAACCAAAGAACCAGG-1</td></tr>\n",
       "\t<tr><th scope=row>2</th><td>AAACCAAAGAACCTAT-1</td></tr>\n",
       "\t<tr><th scope=row>3</th><td>AAACCAAAGAACCTCA-1</td></tr>\n",
       "\t<tr><th scope=row>4</th><td>AAACCAAAGAACCTGC-1</td></tr>\n",
       "\t<tr><th scope=row>5</th><td>AAACCAAAGAACGGCA-1</td></tr>\n",
       "\t<tr><th scope=row>6</th><td>AAACCAAAGAACGGGC-1</td></tr>\n",
       "</tbody>\n",
       "</table>\n"
      ],
      "text/latex": [
       "A data.frame: 6 × 1\n",
       "\\begin{tabular}{r|l}\n",
       "  & barcode\\\\\n",
       "  & <chr>\\\\\n",
       "\\hline\n",
       "\t1 & AAACCAAAGAACCAGG-1\\\\\n",
       "\t2 & AAACCAAAGAACCTAT-1\\\\\n",
       "\t3 & AAACCAAAGAACCTCA-1\\\\\n",
       "\t4 & AAACCAAAGAACCTGC-1\\\\\n",
       "\t5 & AAACCAAAGAACGGCA-1\\\\\n",
       "\t6 & AAACCAAAGAACGGGC-1\\\\\n",
       "\\end{tabular}\n"
      ],
      "text/markdown": [
       "\n",
       "A data.frame: 6 × 1\n",
       "\n",
       "| <!--/--> | barcode &lt;chr&gt; |\n",
       "|---|---|\n",
       "| 1 | AAACCAAAGAACCAGG-1 |\n",
       "| 2 | AAACCAAAGAACCTAT-1 |\n",
       "| 3 | AAACCAAAGAACCTCA-1 |\n",
       "| 4 | AAACCAAAGAACCTGC-1 |\n",
       "| 5 | AAACCAAAGAACGGCA-1 |\n",
       "| 6 | AAACCAAAGAACGGGC-1 |\n",
       "\n"
      ],
      "text/plain": [
       "  barcode           \n",
       "1 AAACCAAAGAACCAGG-1\n",
       "2 AAACCAAAGAACCTAT-1\n",
       "3 AAACCAAAGAACCTCA-1\n",
       "4 AAACCAAAGAACCTGC-1\n",
       "5 AAACCAAAGAACGGCA-1\n",
       "6 AAACCAAAGAACGGGC-1"
      ]
     },
     "metadata": {},
     "output_type": "display_data"
    }
   ],
   "source": [
    "seurat_barcodes<- as.data.frame(seurat_barcodes)\n",
    "colnames(seurat_barcodes) <- \"barcode\"\n",
    "head(seurat_barcodes)"
   ]
  },
  {
   "cell_type": "code",
   "execution_count": 26,
   "id": "704ff1ea",
   "metadata": {
    "vscode": {
     "languageId": "r"
    }
   },
   "outputs": [
    {
     "data": {
      "text/html": [
       "<table class=\"dataframe\">\n",
       "<caption>A data.frame: 6 × 20</caption>\n",
       "<thead>\n",
       "\t<tr><th></th><th scope=col>INT_ID</th><th scope=col>barcode</th><th scope=col>NUM.SNPS</th><th scope=col>NUM.READS</th><th scope=col>DROPLET.TYPE</th><th scope=col>BEST.GUESS</th><th scope=col>BEST.LLK</th><th scope=col>NEXT.GUESS</th><th scope=col>NEXT.LLK</th><th scope=col>DIFF.LLK.BEST.NEXT</th><th scope=col>BEST.POSTERIOR</th><th scope=col>SNG.POSTERIOR</th><th scope=col>SNG.BEST.GUESS</th><th scope=col>SNG.BEST.LLK</th><th scope=col>SNG.NEXT.GUESS</th><th scope=col>SNG.NEXT.LLK</th><th scope=col>SNG.ONLY.POSTERIOR</th><th scope=col>DBL.BEST.GUESS</th><th scope=col>DBL.BEST.LLK</th><th scope=col>DIFF.LLK.SNG.DBL</th></tr>\n",
       "\t<tr><th></th><th scope=col>&lt;int&gt;</th><th scope=col>&lt;chr&gt;</th><th scope=col>&lt;int&gt;</th><th scope=col>&lt;int&gt;</th><th scope=col>&lt;chr&gt;</th><th scope=col>&lt;chr&gt;</th><th scope=col>&lt;dbl&gt;</th><th scope=col>&lt;chr&gt;</th><th scope=col>&lt;dbl&gt;</th><th scope=col>&lt;dbl&gt;</th><th scope=col>&lt;dbl&gt;</th><th scope=col>&lt;dbl&gt;</th><th scope=col>&lt;chr&gt;</th><th scope=col>&lt;dbl&gt;</th><th scope=col>&lt;chr&gt;</th><th scope=col>&lt;dbl&gt;</th><th scope=col>&lt;dbl&gt;</th><th scope=col>&lt;chr&gt;</th><th scope=col>&lt;dbl&gt;</th><th scope=col>&lt;dbl&gt;</th></tr>\n",
       "</thead>\n",
       "<tbody>\n",
       "\t<tr><th scope=row>AAACCAAAGAAGGGTT-1</th><td> 7</td><td>AAACCAAAGAAGGGTT-1</td><td>1</td><td>1</td><td>AMB</td><td>0_0_6_ZBl3,0_0_6_ZBl3,0.00</td><td>-0.06</td><td>0_0_3_ZBC3,0_0_3_ZBC3,0.00</td><td>-0.71</td><td>0.65</td><td>-2.9</td><td>0.85</td><td>0_0_6_ZBl3</td><td>-0.06</td><td>0_0_3_ZBC3</td><td>-0.71</td><td>0.06490</td><td>0_0_3_ZBC3,0_0_6_ZBl3,0.50</td><td>-0.33</td><td>0.27</td></tr>\n",
       "\t<tr><th scope=row>AAACCAAAGAATCGTT-1</th><td>10</td><td>AAACCAAAGAATCGTT-1</td><td>1</td><td>1</td><td>AMB</td><td>0_0_1_ZBC1,0_0_1_ZBC1,0.00</td><td>-0.01</td><td>0_0_2_ZBC2,0_0_2_ZBC2,0.00</td><td>-0.01</td><td>0.00</td><td>-3.1</td><td>0.76</td><td>0_0_1_ZBC1</td><td>-0.01</td><td>0_0_2_ZBC2</td><td>-0.01</td><td>0.05666</td><td>0_0_1_ZBC1,0_0_2_ZBC2,0.50</td><td>-0.01</td><td>0.00</td></tr>\n",
       "\t<tr><th scope=row>AAACCAAAGCCCTTGC-1</th><td>37</td><td>AAACCAAAGCCCTTGC-1</td><td>1</td><td>1</td><td>AMB</td><td>0_0_1_ZBC1,0_0_1_ZBC1,0.00</td><td>-0.02</td><td>0_0_2_ZBC2,0_0_2_ZBC2,0.00</td><td>-0.02</td><td>0.00</td><td>-3.1</td><td>0.77</td><td>0_0_1_ZBC1</td><td>-0.02</td><td>0_0_2_ZBC2</td><td>-0.02</td><td>0.05783</td><td>0_0_1_ZBC1,0_0_2_ZBC2,0.50</td><td>-0.02</td><td>0.00</td></tr>\n",
       "\t<tr><th scope=row>AAACCAAAGCTTAGTG-1</th><td>56</td><td>AAACCAAAGCTTAGTG-1</td><td>1</td><td>1</td><td>AMB</td><td>0_0_1_ZBC1,0_0_1_ZBC1,0.00</td><td>-0.01</td><td>0_0_2_ZBC2,0_0_2_ZBC2,0.00</td><td>-0.01</td><td>0.00</td><td>-3.1</td><td>0.76</td><td>0_0_1_ZBC1</td><td>-0.01</td><td>0_0_2_ZBC2</td><td>-0.01</td><td>0.05666</td><td>0_0_1_ZBC1,0_0_2_ZBC2,0.50</td><td>-0.01</td><td>0.00</td></tr>\n",
       "\t<tr><th scope=row>AAACCAAAGGCTACCG-1</th><td>73</td><td>AAACCAAAGGCTACCG-1</td><td>2</td><td>2</td><td>AMB</td><td>0_0_1_ZBC1,0_0_1_ZBC1,0.00</td><td>-0.03</td><td>0_0_3_ZBC3,0_0_3_ZBC3,0.00</td><td>-0.03</td><td>0.00</td><td>-3.1</td><td>0.78</td><td>0_0_1_ZBC1</td><td>-0.03</td><td>0_0_3_ZBC3</td><td>-0.03</td><td>0.05903</td><td>0_0_1_ZBC1,0_0_3_ZBC3,0.50</td><td>-0.03</td><td>0.00</td></tr>\n",
       "\t<tr><th scope=row>AAACCAAAGGCTCCAG-1</th><td>74</td><td>AAACCAAAGGCTCCAG-1</td><td>1</td><td>2</td><td>AMB</td><td>0_0_1_ZBC1,0_0_1_ZBC1,0.00</td><td>-0.01</td><td>0_0_2_ZBC2,0_0_2_ZBC2,0.00</td><td>-0.01</td><td>0.00</td><td>-3.1</td><td>0.77</td><td>0_0_1_ZBC1</td><td>-0.01</td><td>0_0_2_ZBC2</td><td>-0.01</td><td>0.05724</td><td>0_0_1_ZBC1,0_0_2_ZBC2,0.50</td><td>-0.01</td><td>0.00</td></tr>\n",
       "</tbody>\n",
       "</table>\n"
      ],
      "text/latex": [
       "A data.frame: 6 × 20\n",
       "\\begin{tabular}{r|llllllllllllllllllll}\n",
       "  & INT\\_ID & barcode & NUM.SNPS & NUM.READS & DROPLET.TYPE & BEST.GUESS & BEST.LLK & NEXT.GUESS & NEXT.LLK & DIFF.LLK.BEST.NEXT & BEST.POSTERIOR & SNG.POSTERIOR & SNG.BEST.GUESS & SNG.BEST.LLK & SNG.NEXT.GUESS & SNG.NEXT.LLK & SNG.ONLY.POSTERIOR & DBL.BEST.GUESS & DBL.BEST.LLK & DIFF.LLK.SNG.DBL\\\\\n",
       "  & <int> & <chr> & <int> & <int> & <chr> & <chr> & <dbl> & <chr> & <dbl> & <dbl> & <dbl> & <dbl> & <chr> & <dbl> & <chr> & <dbl> & <dbl> & <chr> & <dbl> & <dbl>\\\\\n",
       "\\hline\n",
       "\tAAACCAAAGAAGGGTT-1 &  7 & AAACCAAAGAAGGGTT-1 & 1 & 1 & AMB & 0\\_0\\_6\\_ZBl3,0\\_0\\_6\\_ZBl3,0.00 & -0.06 & 0\\_0\\_3\\_ZBC3,0\\_0\\_3\\_ZBC3,0.00 & -0.71 & 0.65 & -2.9 & 0.85 & 0\\_0\\_6\\_ZBl3 & -0.06 & 0\\_0\\_3\\_ZBC3 & -0.71 & 0.06490 & 0\\_0\\_3\\_ZBC3,0\\_0\\_6\\_ZBl3,0.50 & -0.33 & 0.27\\\\\n",
       "\tAAACCAAAGAATCGTT-1 & 10 & AAACCAAAGAATCGTT-1 & 1 & 1 & AMB & 0\\_0\\_1\\_ZBC1,0\\_0\\_1\\_ZBC1,0.00 & -0.01 & 0\\_0\\_2\\_ZBC2,0\\_0\\_2\\_ZBC2,0.00 & -0.01 & 0.00 & -3.1 & 0.76 & 0\\_0\\_1\\_ZBC1 & -0.01 & 0\\_0\\_2\\_ZBC2 & -0.01 & 0.05666 & 0\\_0\\_1\\_ZBC1,0\\_0\\_2\\_ZBC2,0.50 & -0.01 & 0.00\\\\\n",
       "\tAAACCAAAGCCCTTGC-1 & 37 & AAACCAAAGCCCTTGC-1 & 1 & 1 & AMB & 0\\_0\\_1\\_ZBC1,0\\_0\\_1\\_ZBC1,0.00 & -0.02 & 0\\_0\\_2\\_ZBC2,0\\_0\\_2\\_ZBC2,0.00 & -0.02 & 0.00 & -3.1 & 0.77 & 0\\_0\\_1\\_ZBC1 & -0.02 & 0\\_0\\_2\\_ZBC2 & -0.02 & 0.05783 & 0\\_0\\_1\\_ZBC1,0\\_0\\_2\\_ZBC2,0.50 & -0.02 & 0.00\\\\\n",
       "\tAAACCAAAGCTTAGTG-1 & 56 & AAACCAAAGCTTAGTG-1 & 1 & 1 & AMB & 0\\_0\\_1\\_ZBC1,0\\_0\\_1\\_ZBC1,0.00 & -0.01 & 0\\_0\\_2\\_ZBC2,0\\_0\\_2\\_ZBC2,0.00 & -0.01 & 0.00 & -3.1 & 0.76 & 0\\_0\\_1\\_ZBC1 & -0.01 & 0\\_0\\_2\\_ZBC2 & -0.01 & 0.05666 & 0\\_0\\_1\\_ZBC1,0\\_0\\_2\\_ZBC2,0.50 & -0.01 & 0.00\\\\\n",
       "\tAAACCAAAGGCTACCG-1 & 73 & AAACCAAAGGCTACCG-1 & 2 & 2 & AMB & 0\\_0\\_1\\_ZBC1,0\\_0\\_1\\_ZBC1,0.00 & -0.03 & 0\\_0\\_3\\_ZBC3,0\\_0\\_3\\_ZBC3,0.00 & -0.03 & 0.00 & -3.1 & 0.78 & 0\\_0\\_1\\_ZBC1 & -0.03 & 0\\_0\\_3\\_ZBC3 & -0.03 & 0.05903 & 0\\_0\\_1\\_ZBC1,0\\_0\\_3\\_ZBC3,0.50 & -0.03 & 0.00\\\\\n",
       "\tAAACCAAAGGCTCCAG-1 & 74 & AAACCAAAGGCTCCAG-1 & 1 & 2 & AMB & 0\\_0\\_1\\_ZBC1,0\\_0\\_1\\_ZBC1,0.00 & -0.01 & 0\\_0\\_2\\_ZBC2,0\\_0\\_2\\_ZBC2,0.00 & -0.01 & 0.00 & -3.1 & 0.77 & 0\\_0\\_1\\_ZBC1 & -0.01 & 0\\_0\\_2\\_ZBC2 & -0.01 & 0.05724 & 0\\_0\\_1\\_ZBC1,0\\_0\\_2\\_ZBC2,0.50 & -0.01 & 0.00\\\\\n",
       "\\end{tabular}\n"
      ],
      "text/markdown": [
       "\n",
       "A data.frame: 6 × 20\n",
       "\n",
       "| <!--/--> | INT_ID &lt;int&gt; | barcode &lt;chr&gt; | NUM.SNPS &lt;int&gt; | NUM.READS &lt;int&gt; | DROPLET.TYPE &lt;chr&gt; | BEST.GUESS &lt;chr&gt; | BEST.LLK &lt;dbl&gt; | NEXT.GUESS &lt;chr&gt; | NEXT.LLK &lt;dbl&gt; | DIFF.LLK.BEST.NEXT &lt;dbl&gt; | BEST.POSTERIOR &lt;dbl&gt; | SNG.POSTERIOR &lt;dbl&gt; | SNG.BEST.GUESS &lt;chr&gt; | SNG.BEST.LLK &lt;dbl&gt; | SNG.NEXT.GUESS &lt;chr&gt; | SNG.NEXT.LLK &lt;dbl&gt; | SNG.ONLY.POSTERIOR &lt;dbl&gt; | DBL.BEST.GUESS &lt;chr&gt; | DBL.BEST.LLK &lt;dbl&gt; | DIFF.LLK.SNG.DBL &lt;dbl&gt; |\n",
       "|---|---|---|---|---|---|---|---|---|---|---|---|---|---|---|---|---|---|---|---|---|\n",
       "| AAACCAAAGAAGGGTT-1 |  7 | AAACCAAAGAAGGGTT-1 | 1 | 1 | AMB | 0_0_6_ZBl3,0_0_6_ZBl3,0.00 | -0.06 | 0_0_3_ZBC3,0_0_3_ZBC3,0.00 | -0.71 | 0.65 | -2.9 | 0.85 | 0_0_6_ZBl3 | -0.06 | 0_0_3_ZBC3 | -0.71 | 0.06490 | 0_0_3_ZBC3,0_0_6_ZBl3,0.50 | -0.33 | 0.27 |\n",
       "| AAACCAAAGAATCGTT-1 | 10 | AAACCAAAGAATCGTT-1 | 1 | 1 | AMB | 0_0_1_ZBC1,0_0_1_ZBC1,0.00 | -0.01 | 0_0_2_ZBC2,0_0_2_ZBC2,0.00 | -0.01 | 0.00 | -3.1 | 0.76 | 0_0_1_ZBC1 | -0.01 | 0_0_2_ZBC2 | -0.01 | 0.05666 | 0_0_1_ZBC1,0_0_2_ZBC2,0.50 | -0.01 | 0.00 |\n",
       "| AAACCAAAGCCCTTGC-1 | 37 | AAACCAAAGCCCTTGC-1 | 1 | 1 | AMB | 0_0_1_ZBC1,0_0_1_ZBC1,0.00 | -0.02 | 0_0_2_ZBC2,0_0_2_ZBC2,0.00 | -0.02 | 0.00 | -3.1 | 0.77 | 0_0_1_ZBC1 | -0.02 | 0_0_2_ZBC2 | -0.02 | 0.05783 | 0_0_1_ZBC1,0_0_2_ZBC2,0.50 | -0.02 | 0.00 |\n",
       "| AAACCAAAGCTTAGTG-1 | 56 | AAACCAAAGCTTAGTG-1 | 1 | 1 | AMB | 0_0_1_ZBC1,0_0_1_ZBC1,0.00 | -0.01 | 0_0_2_ZBC2,0_0_2_ZBC2,0.00 | -0.01 | 0.00 | -3.1 | 0.76 | 0_0_1_ZBC1 | -0.01 | 0_0_2_ZBC2 | -0.01 | 0.05666 | 0_0_1_ZBC1,0_0_2_ZBC2,0.50 | -0.01 | 0.00 |\n",
       "| AAACCAAAGGCTACCG-1 | 73 | AAACCAAAGGCTACCG-1 | 2 | 2 | AMB | 0_0_1_ZBC1,0_0_1_ZBC1,0.00 | -0.03 | 0_0_3_ZBC3,0_0_3_ZBC3,0.00 | -0.03 | 0.00 | -3.1 | 0.78 | 0_0_1_ZBC1 | -0.03 | 0_0_3_ZBC3 | -0.03 | 0.05903 | 0_0_1_ZBC1,0_0_3_ZBC3,0.50 | -0.03 | 0.00 |\n",
       "| AAACCAAAGGCTCCAG-1 | 74 | AAACCAAAGGCTCCAG-1 | 1 | 2 | AMB | 0_0_1_ZBC1,0_0_1_ZBC1,0.00 | -0.01 | 0_0_2_ZBC2,0_0_2_ZBC2,0.00 | -0.01 | 0.00 | -3.1 | 0.77 | 0_0_1_ZBC1 | -0.01 | 0_0_2_ZBC2 | -0.01 | 0.05724 | 0_0_1_ZBC1,0_0_2_ZBC2,0.50 | -0.01 | 0.00 |\n",
       "\n"
      ],
      "text/plain": [
       "                   INT_ID barcode            NUM.SNPS NUM.READS DROPLET.TYPE\n",
       "AAACCAAAGAAGGGTT-1  7     AAACCAAAGAAGGGTT-1 1        1         AMB         \n",
       "AAACCAAAGAATCGTT-1 10     AAACCAAAGAATCGTT-1 1        1         AMB         \n",
       "AAACCAAAGCCCTTGC-1 37     AAACCAAAGCCCTTGC-1 1        1         AMB         \n",
       "AAACCAAAGCTTAGTG-1 56     AAACCAAAGCTTAGTG-1 1        1         AMB         \n",
       "AAACCAAAGGCTACCG-1 73     AAACCAAAGGCTACCG-1 2        2         AMB         \n",
       "AAACCAAAGGCTCCAG-1 74     AAACCAAAGGCTCCAG-1 1        2         AMB         \n",
       "                   BEST.GUESS                 BEST.LLK\n",
       "AAACCAAAGAAGGGTT-1 0_0_6_ZBl3,0_0_6_ZBl3,0.00 -0.06   \n",
       "AAACCAAAGAATCGTT-1 0_0_1_ZBC1,0_0_1_ZBC1,0.00 -0.01   \n",
       "AAACCAAAGCCCTTGC-1 0_0_1_ZBC1,0_0_1_ZBC1,0.00 -0.02   \n",
       "AAACCAAAGCTTAGTG-1 0_0_1_ZBC1,0_0_1_ZBC1,0.00 -0.01   \n",
       "AAACCAAAGGCTACCG-1 0_0_1_ZBC1,0_0_1_ZBC1,0.00 -0.03   \n",
       "AAACCAAAGGCTCCAG-1 0_0_1_ZBC1,0_0_1_ZBC1,0.00 -0.01   \n",
       "                   NEXT.GUESS                 NEXT.LLK DIFF.LLK.BEST.NEXT\n",
       "AAACCAAAGAAGGGTT-1 0_0_3_ZBC3,0_0_3_ZBC3,0.00 -0.71    0.65              \n",
       "AAACCAAAGAATCGTT-1 0_0_2_ZBC2,0_0_2_ZBC2,0.00 -0.01    0.00              \n",
       "AAACCAAAGCCCTTGC-1 0_0_2_ZBC2,0_0_2_ZBC2,0.00 -0.02    0.00              \n",
       "AAACCAAAGCTTAGTG-1 0_0_2_ZBC2,0_0_2_ZBC2,0.00 -0.01    0.00              \n",
       "AAACCAAAGGCTACCG-1 0_0_3_ZBC3,0_0_3_ZBC3,0.00 -0.03    0.00              \n",
       "AAACCAAAGGCTCCAG-1 0_0_2_ZBC2,0_0_2_ZBC2,0.00 -0.01    0.00              \n",
       "                   BEST.POSTERIOR SNG.POSTERIOR SNG.BEST.GUESS SNG.BEST.LLK\n",
       "AAACCAAAGAAGGGTT-1 -2.9           0.85          0_0_6_ZBl3     -0.06       \n",
       "AAACCAAAGAATCGTT-1 -3.1           0.76          0_0_1_ZBC1     -0.01       \n",
       "AAACCAAAGCCCTTGC-1 -3.1           0.77          0_0_1_ZBC1     -0.02       \n",
       "AAACCAAAGCTTAGTG-1 -3.1           0.76          0_0_1_ZBC1     -0.01       \n",
       "AAACCAAAGGCTACCG-1 -3.1           0.78          0_0_1_ZBC1     -0.03       \n",
       "AAACCAAAGGCTCCAG-1 -3.1           0.77          0_0_1_ZBC1     -0.01       \n",
       "                   SNG.NEXT.GUESS SNG.NEXT.LLK SNG.ONLY.POSTERIOR\n",
       "AAACCAAAGAAGGGTT-1 0_0_3_ZBC3     -0.71        0.06490           \n",
       "AAACCAAAGAATCGTT-1 0_0_2_ZBC2     -0.01        0.05666           \n",
       "AAACCAAAGCCCTTGC-1 0_0_2_ZBC2     -0.02        0.05783           \n",
       "AAACCAAAGCTTAGTG-1 0_0_2_ZBC2     -0.01        0.05666           \n",
       "AAACCAAAGGCTACCG-1 0_0_3_ZBC3     -0.03        0.05903           \n",
       "AAACCAAAGGCTCCAG-1 0_0_2_ZBC2     -0.01        0.05724           \n",
       "                   DBL.BEST.GUESS             DBL.BEST.LLK DIFF.LLK.SNG.DBL\n",
       "AAACCAAAGAAGGGTT-1 0_0_3_ZBC3,0_0_6_ZBl3,0.50 -0.33        0.27            \n",
       "AAACCAAAGAATCGTT-1 0_0_1_ZBC1,0_0_2_ZBC2,0.50 -0.01        0.00            \n",
       "AAACCAAAGCCCTTGC-1 0_0_1_ZBC1,0_0_2_ZBC2,0.50 -0.02        0.00            \n",
       "AAACCAAAGCTTAGTG-1 0_0_1_ZBC1,0_0_2_ZBC2,0.50 -0.01        0.00            \n",
       "AAACCAAAGGCTACCG-1 0_0_1_ZBC1,0_0_3_ZBC3,0.50 -0.03        0.00            \n",
       "AAACCAAAGGCTCCAG-1 0_0_1_ZBC1,0_0_2_ZBC2,0.50 -0.01        0.00            "
      ]
     },
     "metadata": {},
     "output_type": "display_data"
    }
   ],
   "source": [
    "colnames(demux_lib2_subset)[colnames(demux_lib2_subset) == \"BARCODE\"] <- \"barcode\"\n",
    "\n",
    "\n",
    "head(demux_lib2_subset)"
   ]
  },
  {
   "cell_type": "code",
   "execution_count": 27,
   "id": "a0221e49",
   "metadata": {
    "vscode": {
     "languageId": "r"
    }
   },
   "outputs": [
    {
     "data": {
      "text/html": [
       "<style>\n",
       ".list-inline {list-style: none; margin:0; padding: 0}\n",
       ".list-inline>li {display: inline-block}\n",
       ".list-inline>li:not(:last-child)::after {content: \"\\00b7\"; padding: 0 .5ex}\n",
       "</style>\n",
       "<ol class=list-inline><li>'orig.ident'</li><li>'nCount_RNA'</li><li>'nFeature_RNA'</li></ol>\n"
      ],
      "text/latex": [
       "\\begin{enumerate*}\n",
       "\\item 'orig.ident'\n",
       "\\item 'nCount\\_RNA'\n",
       "\\item 'nFeature\\_RNA'\n",
       "\\end{enumerate*}\n"
      ],
      "text/markdown": [
       "1. 'orig.ident'\n",
       "2. 'nCount_RNA'\n",
       "3. 'nFeature_RNA'\n",
       "\n",
       "\n"
      ],
      "text/plain": [
       "[1] \"orig.ident\"   \"nCount_RNA\"   \"nFeature_RNA\""
      ]
     },
     "metadata": {},
     "output_type": "display_data"
    }
   ],
   "source": [
    "unique(colnames(sobj.lib2@meta.data))"
   ]
  },
  {
   "cell_type": "code",
   "execution_count": 28,
   "id": "c1980c23",
   "metadata": {
    "vscode": {
     "languageId": "r"
    }
   },
   "outputs": [
    {
     "data": {
      "text/html": [
       "<style>\n",
       ".list-inline {list-style: none; margin:0; padding: 0}\n",
       ".list-inline>li {display: inline-block}\n",
       ".list-inline>li:not(:last-child)::after {content: \"\\00b7\"; padding: 0 .5ex}\n",
       "</style>\n",
       "<ol class=list-inline><li>'orig.ident'</li><li>'nCount_RNA'</li><li>'nFeature_RNA'</li><li>'INT_ID'</li><li>'NUM.SNPS'</li><li>'NUM.READS'</li><li>'DROPLET.TYPE'</li><li>'BEST.GUESS'</li><li>'BEST.LLK'</li><li>'NEXT.GUESS'</li><li>'NEXT.LLK'</li><li>'DIFF.LLK.BEST.NEXT'</li><li>'BEST.POSTERIOR'</li><li>'SNG.POSTERIOR'</li><li>'SNG.BEST.GUESS'</li><li>'SNG.BEST.LLK'</li><li>'SNG.NEXT.GUESS'</li><li>'SNG.NEXT.LLK'</li><li>'SNG.ONLY.POSTERIOR'</li><li>'DBL.BEST.GUESS'</li><li>'DBL.BEST.LLK'</li><li>'DIFF.LLK.SNG.DBL'</li></ol>\n"
      ],
      "text/latex": [
       "\\begin{enumerate*}\n",
       "\\item 'orig.ident'\n",
       "\\item 'nCount\\_RNA'\n",
       "\\item 'nFeature\\_RNA'\n",
       "\\item 'INT\\_ID'\n",
       "\\item 'NUM.SNPS'\n",
       "\\item 'NUM.READS'\n",
       "\\item 'DROPLET.TYPE'\n",
       "\\item 'BEST.GUESS'\n",
       "\\item 'BEST.LLK'\n",
       "\\item 'NEXT.GUESS'\n",
       "\\item 'NEXT.LLK'\n",
       "\\item 'DIFF.LLK.BEST.NEXT'\n",
       "\\item 'BEST.POSTERIOR'\n",
       "\\item 'SNG.POSTERIOR'\n",
       "\\item 'SNG.BEST.GUESS'\n",
       "\\item 'SNG.BEST.LLK'\n",
       "\\item 'SNG.NEXT.GUESS'\n",
       "\\item 'SNG.NEXT.LLK'\n",
       "\\item 'SNG.ONLY.POSTERIOR'\n",
       "\\item 'DBL.BEST.GUESS'\n",
       "\\item 'DBL.BEST.LLK'\n",
       "\\item 'DIFF.LLK.SNG.DBL'\n",
       "\\end{enumerate*}\n"
      ],
      "text/markdown": [
       "1. 'orig.ident'\n",
       "2. 'nCount_RNA'\n",
       "3. 'nFeature_RNA'\n",
       "4. 'INT_ID'\n",
       "5. 'NUM.SNPS'\n",
       "6. 'NUM.READS'\n",
       "7. 'DROPLET.TYPE'\n",
       "8. 'BEST.GUESS'\n",
       "9. 'BEST.LLK'\n",
       "10. 'NEXT.GUESS'\n",
       "11. 'NEXT.LLK'\n",
       "12. 'DIFF.LLK.BEST.NEXT'\n",
       "13. 'BEST.POSTERIOR'\n",
       "14. 'SNG.POSTERIOR'\n",
       "15. 'SNG.BEST.GUESS'\n",
       "16. 'SNG.BEST.LLK'\n",
       "17. 'SNG.NEXT.GUESS'\n",
       "18. 'SNG.NEXT.LLK'\n",
       "19. 'SNG.ONLY.POSTERIOR'\n",
       "20. 'DBL.BEST.GUESS'\n",
       "21. 'DBL.BEST.LLK'\n",
       "22. 'DIFF.LLK.SNG.DBL'\n",
       "\n",
       "\n"
      ],
      "text/plain": [
       " [1] \"orig.ident\"         \"nCount_RNA\"         \"nFeature_RNA\"      \n",
       " [4] \"INT_ID\"             \"NUM.SNPS\"           \"NUM.READS\"         \n",
       " [7] \"DROPLET.TYPE\"       \"BEST.GUESS\"         \"BEST.LLK\"          \n",
       "[10] \"NEXT.GUESS\"         \"NEXT.LLK\"           \"DIFF.LLK.BEST.NEXT\"\n",
       "[13] \"BEST.POSTERIOR\"     \"SNG.POSTERIOR\"      \"SNG.BEST.GUESS\"    \n",
       "[16] \"SNG.BEST.LLK\"       \"SNG.NEXT.GUESS\"     \"SNG.NEXT.LLK\"      \n",
       "[19] \"SNG.ONLY.POSTERIOR\" \"DBL.BEST.GUESS\"     \"DBL.BEST.LLK\"      \n",
       "[22] \"DIFF.LLK.SNG.DBL\"  "
      ]
     },
     "metadata": {},
     "output_type": "display_data"
    }
   ],
   "source": [
    "\n",
    "# Join metadata into Seurat object using dplyr's left_join (ensuring alignment)\n",
    "new_metadata <- sobj.lib2@meta.data %>%\n",
    "  tibble::rownames_to_column(var = \"barcode\") %>%\n",
    "  full_join(demux_lib2_subset, by = \"barcode\") %>%\n",
    "  tibble::column_to_rownames(var = \"barcode\")\n",
    "\n",
    "# Assign updated metadata back to Seurat object\n",
    "sobj.lib2 <- AddMetaData(sobj.lib2, new_metadata)\n",
    "\n",
    "# Check if metadata was added correctly\n",
    "unique(colnames(sobj.lib2@meta.data))"
   ]
  },
  {
   "cell_type": "markdown",
   "id": "8dc0f375",
   "metadata": {},
   "source": [
    "## Add data JB_1466"
   ]
  },
  {
   "cell_type": "code",
   "execution_count": 29,
   "id": "c0877314",
   "metadata": {
    "vscode": {
     "languageId": "r"
    }
   },
   "outputs": [],
   "source": [
    "lib3.data <-  Read10X(\"/tscc/projects/ps-epigen/10x_output/250214_IGM/counts_out/snRNA/JB_1466_1_2/outs/raw_feature_bc_matrix\")\n",
    "demux_lib3 <- read.table(\"/tscc/projects/ps-epigen/users/a2jorgensen/sandbox/250225_humanAT2_organoids/data/Demux/250317_AT2_organoid_ZO/popscle_out/JB_1466_1_2.best\", header = TRUE, sep = \"\\t\", stringsAsFactors = FALSE)"
   ]
  },
  {
   "cell_type": "code",
   "execution_count": 30,
   "id": "8a6a8515",
   "metadata": {
    "vscode": {
     "languageId": "r"
    }
   },
   "outputs": [
    {
     "data": {
      "text/plain": [
       "\n",
       "  AMB   DBL   SNG \n",
       "35345   449 14505 "
      ]
     },
     "metadata": {},
     "output_type": "display_data"
    }
   ],
   "source": [
    "table(demux_lib3$DROPLET.TYPE)"
   ]
  },
  {
   "cell_type": "code",
   "execution_count": 31,
   "id": "b7925971",
   "metadata": {
    "vscode": {
     "languageId": "r"
    }
   },
   "outputs": [
    {
     "data": {
      "text/html": [
       "<table class=\"dataframe\">\n",
       "<caption>A data.frame: 6 × 20</caption>\n",
       "<thead>\n",
       "\t<tr><th></th><th scope=col>INT_ID</th><th scope=col>BARCODE</th><th scope=col>NUM.SNPS</th><th scope=col>NUM.READS</th><th scope=col>DROPLET.TYPE</th><th scope=col>BEST.GUESS</th><th scope=col>BEST.LLK</th><th scope=col>NEXT.GUESS</th><th scope=col>NEXT.LLK</th><th scope=col>DIFF.LLK.BEST.NEXT</th><th scope=col>BEST.POSTERIOR</th><th scope=col>SNG.POSTERIOR</th><th scope=col>SNG.BEST.GUESS</th><th scope=col>SNG.BEST.LLK</th><th scope=col>SNG.NEXT.GUESS</th><th scope=col>SNG.NEXT.LLK</th><th scope=col>SNG.ONLY.POSTERIOR</th><th scope=col>DBL.BEST.GUESS</th><th scope=col>DBL.BEST.LLK</th><th scope=col>DIFF.LLK.SNG.DBL</th></tr>\n",
       "\t<tr><th></th><th scope=col>&lt;int&gt;</th><th scope=col>&lt;chr&gt;</th><th scope=col>&lt;int&gt;</th><th scope=col>&lt;int&gt;</th><th scope=col>&lt;chr&gt;</th><th scope=col>&lt;chr&gt;</th><th scope=col>&lt;dbl&gt;</th><th scope=col>&lt;chr&gt;</th><th scope=col>&lt;dbl&gt;</th><th scope=col>&lt;dbl&gt;</th><th scope=col>&lt;dbl&gt;</th><th scope=col>&lt;dbl&gt;</th><th scope=col>&lt;chr&gt;</th><th scope=col>&lt;dbl&gt;</th><th scope=col>&lt;chr&gt;</th><th scope=col>&lt;dbl&gt;</th><th scope=col>&lt;dbl&gt;</th><th scope=col>&lt;chr&gt;</th><th scope=col>&lt;dbl&gt;</th><th scope=col>&lt;dbl&gt;</th></tr>\n",
       "</thead>\n",
       "<tbody>\n",
       "\t<tr><th scope=row>1</th><td> 0</td><td>.                 </td><td>7430</td><td>36605</td><td>DBL</td><td>0_0_2_ZBC2,0_0_3_ZBC3,0.50</td><td>-4079.04</td><td>0_0_3_ZBC3,0_0_2_ZBC2,0.50</td><td>-4079.04</td><td>0</td><td> 0.0</td><td>1.00</td><td>0_0_3_ZBC3</td><td>-6168.48</td><td>0_0_2_ZBC2</td><td>-8007.10</td><td>0.00000</td><td>0_0_2_ZBC2,0_0_3_ZBC3,0.50</td><td>-4079.04</td><td>-2089.44</td></tr>\n",
       "\t<tr><th scope=row>2</th><td> 3</td><td>AAACCAAAGAAGCTAA-1</td><td>   1</td><td>    1</td><td>AMB</td><td>0_0_1_ZBC1,0_0_1_ZBC1,0.00</td><td>   -0.01</td><td>0_0_2_ZBC2,0_0_2_ZBC2,0.00</td><td>   -0.01</td><td>0</td><td>-3.1</td><td>0.76</td><td>0_0_1_ZBC1</td><td>   -0.01</td><td>0_0_2_ZBC2</td><td>   -0.01</td><td>0.05666</td><td>0_0_1_ZBC1,0_0_2_ZBC2,0.50</td><td>   -0.01</td><td>    0.00</td></tr>\n",
       "\t<tr><th scope=row>3</th><td>18</td><td>AAACCAAAGCATCAAT-1</td><td>   1</td><td>    1</td><td>AMB</td><td>0_0_5_ZBl2,0_0_5_ZBl2,0.00</td><td>   -0.06</td><td>0_0_6_ZBl3,0_0_6_ZBl3,0.00</td><td>   -0.06</td><td>0</td><td>-2.9</td><td>0.85</td><td>0_0_5_ZBl2</td><td>   -0.06</td><td>0_0_6_ZBl3</td><td>   -0.06</td><td>0.06490</td><td>0_0_5_ZBl2,0_0_6_ZBl3,0.50</td><td>   -0.06</td><td>    0.00</td></tr>\n",
       "\t<tr><th scope=row>4</th><td>20</td><td>AAACCAAAGCATCTCT-1</td><td>   1</td><td>    1</td><td>AMB</td><td>0_0_1_ZBC1,0_0_1_ZBC1,0.00</td><td>   -0.01</td><td>0_0_2_ZBC2,0_0_2_ZBC2,0.00</td><td>   -0.01</td><td>0</td><td>-3.1</td><td>0.76</td><td>0_0_1_ZBC1</td><td>   -0.01</td><td>0_0_2_ZBC2</td><td>   -0.01</td><td>0.05666</td><td>0_0_1_ZBC1,0_0_2_ZBC2,0.50</td><td>   -0.01</td><td>    0.00</td></tr>\n",
       "\t<tr><th scope=row>5</th><td>24</td><td>AAACCAAAGCCACAGT-1</td><td>   1</td><td>    1</td><td>AMB</td><td>0_0_1_ZBC1,0_0_1_ZBC1,0.00</td><td>   -0.01</td><td>0_0_3_ZBC3,0_0_3_ZBC3,0.00</td><td>   -0.01</td><td>0</td><td>-3.1</td><td>0.76</td><td>0_0_1_ZBC1</td><td>   -0.01</td><td>0_0_3_ZBC3</td><td>   -0.01</td><td>0.05666</td><td>0_0_1_ZBC1,0_0_3_ZBC3,0.50</td><td>   -0.01</td><td>    0.00</td></tr>\n",
       "\t<tr><th scope=row>6</th><td>27</td><td>AAACCAAAGCCGCATG-1</td><td>   1</td><td>    1</td><td>AMB</td><td>0_0_1_ZBC1,0_0_1_ZBC1,0.00</td><td>   -0.01</td><td>0_0_2_ZBC2,0_0_2_ZBC2,0.00</td><td>   -0.01</td><td>0</td><td>-3.1</td><td>0.76</td><td>0_0_1_ZBC1</td><td>   -0.01</td><td>0_0_2_ZBC2</td><td>   -0.01</td><td>0.05666</td><td>0_0_1_ZBC1,0_0_2_ZBC2,0.50</td><td>   -0.01</td><td>    0.00</td></tr>\n",
       "</tbody>\n",
       "</table>\n"
      ],
      "text/latex": [
       "A data.frame: 6 × 20\n",
       "\\begin{tabular}{r|llllllllllllllllllll}\n",
       "  & INT\\_ID & BARCODE & NUM.SNPS & NUM.READS & DROPLET.TYPE & BEST.GUESS & BEST.LLK & NEXT.GUESS & NEXT.LLK & DIFF.LLK.BEST.NEXT & BEST.POSTERIOR & SNG.POSTERIOR & SNG.BEST.GUESS & SNG.BEST.LLK & SNG.NEXT.GUESS & SNG.NEXT.LLK & SNG.ONLY.POSTERIOR & DBL.BEST.GUESS & DBL.BEST.LLK & DIFF.LLK.SNG.DBL\\\\\n",
       "  & <int> & <chr> & <int> & <int> & <chr> & <chr> & <dbl> & <chr> & <dbl> & <dbl> & <dbl> & <dbl> & <chr> & <dbl> & <chr> & <dbl> & <dbl> & <chr> & <dbl> & <dbl>\\\\\n",
       "\\hline\n",
       "\t1 &  0 & .                  & 7430 & 36605 & DBL & 0\\_0\\_2\\_ZBC2,0\\_0\\_3\\_ZBC3,0.50 & -4079.04 & 0\\_0\\_3\\_ZBC3,0\\_0\\_2\\_ZBC2,0.50 & -4079.04 & 0 &  0.0 & 1.00 & 0\\_0\\_3\\_ZBC3 & -6168.48 & 0\\_0\\_2\\_ZBC2 & -8007.10 & 0.00000 & 0\\_0\\_2\\_ZBC2,0\\_0\\_3\\_ZBC3,0.50 & -4079.04 & -2089.44\\\\\n",
       "\t2 &  3 & AAACCAAAGAAGCTAA-1 &    1 &     1 & AMB & 0\\_0\\_1\\_ZBC1,0\\_0\\_1\\_ZBC1,0.00 &    -0.01 & 0\\_0\\_2\\_ZBC2,0\\_0\\_2\\_ZBC2,0.00 &    -0.01 & 0 & -3.1 & 0.76 & 0\\_0\\_1\\_ZBC1 &    -0.01 & 0\\_0\\_2\\_ZBC2 &    -0.01 & 0.05666 & 0\\_0\\_1\\_ZBC1,0\\_0\\_2\\_ZBC2,0.50 &    -0.01 &     0.00\\\\\n",
       "\t3 & 18 & AAACCAAAGCATCAAT-1 &    1 &     1 & AMB & 0\\_0\\_5\\_ZBl2,0\\_0\\_5\\_ZBl2,0.00 &    -0.06 & 0\\_0\\_6\\_ZBl3,0\\_0\\_6\\_ZBl3,0.00 &    -0.06 & 0 & -2.9 & 0.85 & 0\\_0\\_5\\_ZBl2 &    -0.06 & 0\\_0\\_6\\_ZBl3 &    -0.06 & 0.06490 & 0\\_0\\_5\\_ZBl2,0\\_0\\_6\\_ZBl3,0.50 &    -0.06 &     0.00\\\\\n",
       "\t4 & 20 & AAACCAAAGCATCTCT-1 &    1 &     1 & AMB & 0\\_0\\_1\\_ZBC1,0\\_0\\_1\\_ZBC1,0.00 &    -0.01 & 0\\_0\\_2\\_ZBC2,0\\_0\\_2\\_ZBC2,0.00 &    -0.01 & 0 & -3.1 & 0.76 & 0\\_0\\_1\\_ZBC1 &    -0.01 & 0\\_0\\_2\\_ZBC2 &    -0.01 & 0.05666 & 0\\_0\\_1\\_ZBC1,0\\_0\\_2\\_ZBC2,0.50 &    -0.01 &     0.00\\\\\n",
       "\t5 & 24 & AAACCAAAGCCACAGT-1 &    1 &     1 & AMB & 0\\_0\\_1\\_ZBC1,0\\_0\\_1\\_ZBC1,0.00 &    -0.01 & 0\\_0\\_3\\_ZBC3,0\\_0\\_3\\_ZBC3,0.00 &    -0.01 & 0 & -3.1 & 0.76 & 0\\_0\\_1\\_ZBC1 &    -0.01 & 0\\_0\\_3\\_ZBC3 &    -0.01 & 0.05666 & 0\\_0\\_1\\_ZBC1,0\\_0\\_3\\_ZBC3,0.50 &    -0.01 &     0.00\\\\\n",
       "\t6 & 27 & AAACCAAAGCCGCATG-1 &    1 &     1 & AMB & 0\\_0\\_1\\_ZBC1,0\\_0\\_1\\_ZBC1,0.00 &    -0.01 & 0\\_0\\_2\\_ZBC2,0\\_0\\_2\\_ZBC2,0.00 &    -0.01 & 0 & -3.1 & 0.76 & 0\\_0\\_1\\_ZBC1 &    -0.01 & 0\\_0\\_2\\_ZBC2 &    -0.01 & 0.05666 & 0\\_0\\_1\\_ZBC1,0\\_0\\_2\\_ZBC2,0.50 &    -0.01 &     0.00\\\\\n",
       "\\end{tabular}\n"
      ],
      "text/markdown": [
       "\n",
       "A data.frame: 6 × 20\n",
       "\n",
       "| <!--/--> | INT_ID &lt;int&gt; | BARCODE &lt;chr&gt; | NUM.SNPS &lt;int&gt; | NUM.READS &lt;int&gt; | DROPLET.TYPE &lt;chr&gt; | BEST.GUESS &lt;chr&gt; | BEST.LLK &lt;dbl&gt; | NEXT.GUESS &lt;chr&gt; | NEXT.LLK &lt;dbl&gt; | DIFF.LLK.BEST.NEXT &lt;dbl&gt; | BEST.POSTERIOR &lt;dbl&gt; | SNG.POSTERIOR &lt;dbl&gt; | SNG.BEST.GUESS &lt;chr&gt; | SNG.BEST.LLK &lt;dbl&gt; | SNG.NEXT.GUESS &lt;chr&gt; | SNG.NEXT.LLK &lt;dbl&gt; | SNG.ONLY.POSTERIOR &lt;dbl&gt; | DBL.BEST.GUESS &lt;chr&gt; | DBL.BEST.LLK &lt;dbl&gt; | DIFF.LLK.SNG.DBL &lt;dbl&gt; |\n",
       "|---|---|---|---|---|---|---|---|---|---|---|---|---|---|---|---|---|---|---|---|---|\n",
       "| 1 |  0 | .                  | 7430 | 36605 | DBL | 0_0_2_ZBC2,0_0_3_ZBC3,0.50 | -4079.04 | 0_0_3_ZBC3,0_0_2_ZBC2,0.50 | -4079.04 | 0 |  0.0 | 1.00 | 0_0_3_ZBC3 | -6168.48 | 0_0_2_ZBC2 | -8007.10 | 0.00000 | 0_0_2_ZBC2,0_0_3_ZBC3,0.50 | -4079.04 | -2089.44 |\n",
       "| 2 |  3 | AAACCAAAGAAGCTAA-1 |    1 |     1 | AMB | 0_0_1_ZBC1,0_0_1_ZBC1,0.00 |    -0.01 | 0_0_2_ZBC2,0_0_2_ZBC2,0.00 |    -0.01 | 0 | -3.1 | 0.76 | 0_0_1_ZBC1 |    -0.01 | 0_0_2_ZBC2 |    -0.01 | 0.05666 | 0_0_1_ZBC1,0_0_2_ZBC2,0.50 |    -0.01 |     0.00 |\n",
       "| 3 | 18 | AAACCAAAGCATCAAT-1 |    1 |     1 | AMB | 0_0_5_ZBl2,0_0_5_ZBl2,0.00 |    -0.06 | 0_0_6_ZBl3,0_0_6_ZBl3,0.00 |    -0.06 | 0 | -2.9 | 0.85 | 0_0_5_ZBl2 |    -0.06 | 0_0_6_ZBl3 |    -0.06 | 0.06490 | 0_0_5_ZBl2,0_0_6_ZBl3,0.50 |    -0.06 |     0.00 |\n",
       "| 4 | 20 | AAACCAAAGCATCTCT-1 |    1 |     1 | AMB | 0_0_1_ZBC1,0_0_1_ZBC1,0.00 |    -0.01 | 0_0_2_ZBC2,0_0_2_ZBC2,0.00 |    -0.01 | 0 | -3.1 | 0.76 | 0_0_1_ZBC1 |    -0.01 | 0_0_2_ZBC2 |    -0.01 | 0.05666 | 0_0_1_ZBC1,0_0_2_ZBC2,0.50 |    -0.01 |     0.00 |\n",
       "| 5 | 24 | AAACCAAAGCCACAGT-1 |    1 |     1 | AMB | 0_0_1_ZBC1,0_0_1_ZBC1,0.00 |    -0.01 | 0_0_3_ZBC3,0_0_3_ZBC3,0.00 |    -0.01 | 0 | -3.1 | 0.76 | 0_0_1_ZBC1 |    -0.01 | 0_0_3_ZBC3 |    -0.01 | 0.05666 | 0_0_1_ZBC1,0_0_3_ZBC3,0.50 |    -0.01 |     0.00 |\n",
       "| 6 | 27 | AAACCAAAGCCGCATG-1 |    1 |     1 | AMB | 0_0_1_ZBC1,0_0_1_ZBC1,0.00 |    -0.01 | 0_0_2_ZBC2,0_0_2_ZBC2,0.00 |    -0.01 | 0 | -3.1 | 0.76 | 0_0_1_ZBC1 |    -0.01 | 0_0_2_ZBC2 |    -0.01 | 0.05666 | 0_0_1_ZBC1,0_0_2_ZBC2,0.50 |    -0.01 |     0.00 |\n",
       "\n"
      ],
      "text/plain": [
       "  INT_ID BARCODE            NUM.SNPS NUM.READS DROPLET.TYPE\n",
       "1  0     .                  7430     36605     DBL         \n",
       "2  3     AAACCAAAGAAGCTAA-1    1         1     AMB         \n",
       "3 18     AAACCAAAGCATCAAT-1    1         1     AMB         \n",
       "4 20     AAACCAAAGCATCTCT-1    1         1     AMB         \n",
       "5 24     AAACCAAAGCCACAGT-1    1         1     AMB         \n",
       "6 27     AAACCAAAGCCGCATG-1    1         1     AMB         \n",
       "  BEST.GUESS                 BEST.LLK NEXT.GUESS                 NEXT.LLK\n",
       "1 0_0_2_ZBC2,0_0_3_ZBC3,0.50 -4079.04 0_0_3_ZBC3,0_0_2_ZBC2,0.50 -4079.04\n",
       "2 0_0_1_ZBC1,0_0_1_ZBC1,0.00    -0.01 0_0_2_ZBC2,0_0_2_ZBC2,0.00    -0.01\n",
       "3 0_0_5_ZBl2,0_0_5_ZBl2,0.00    -0.06 0_0_6_ZBl3,0_0_6_ZBl3,0.00    -0.06\n",
       "4 0_0_1_ZBC1,0_0_1_ZBC1,0.00    -0.01 0_0_2_ZBC2,0_0_2_ZBC2,0.00    -0.01\n",
       "5 0_0_1_ZBC1,0_0_1_ZBC1,0.00    -0.01 0_0_3_ZBC3,0_0_3_ZBC3,0.00    -0.01\n",
       "6 0_0_1_ZBC1,0_0_1_ZBC1,0.00    -0.01 0_0_2_ZBC2,0_0_2_ZBC2,0.00    -0.01\n",
       "  DIFF.LLK.BEST.NEXT BEST.POSTERIOR SNG.POSTERIOR SNG.BEST.GUESS SNG.BEST.LLK\n",
       "1 0                   0.0           1.00          0_0_3_ZBC3     -6168.48    \n",
       "2 0                  -3.1           0.76          0_0_1_ZBC1        -0.01    \n",
       "3 0                  -2.9           0.85          0_0_5_ZBl2        -0.06    \n",
       "4 0                  -3.1           0.76          0_0_1_ZBC1        -0.01    \n",
       "5 0                  -3.1           0.76          0_0_1_ZBC1        -0.01    \n",
       "6 0                  -3.1           0.76          0_0_1_ZBC1        -0.01    \n",
       "  SNG.NEXT.GUESS SNG.NEXT.LLK SNG.ONLY.POSTERIOR DBL.BEST.GUESS            \n",
       "1 0_0_2_ZBC2     -8007.10     0.00000            0_0_2_ZBC2,0_0_3_ZBC3,0.50\n",
       "2 0_0_2_ZBC2        -0.01     0.05666            0_0_1_ZBC1,0_0_2_ZBC2,0.50\n",
       "3 0_0_6_ZBl3        -0.06     0.06490            0_0_5_ZBl2,0_0_6_ZBl3,0.50\n",
       "4 0_0_2_ZBC2        -0.01     0.05666            0_0_1_ZBC1,0_0_2_ZBC2,0.50\n",
       "5 0_0_3_ZBC3        -0.01     0.05666            0_0_1_ZBC1,0_0_3_ZBC3,0.50\n",
       "6 0_0_2_ZBC2        -0.01     0.05666            0_0_1_ZBC1,0_0_2_ZBC2,0.50\n",
       "  DBL.BEST.LLK DIFF.LLK.SNG.DBL\n",
       "1 -4079.04     -2089.44        \n",
       "2    -0.01         0.00        \n",
       "3    -0.06         0.00        \n",
       "4    -0.01         0.00        \n",
       "5    -0.01         0.00        \n",
       "6    -0.01         0.00        "
      ]
     },
     "metadata": {},
     "output_type": "display_data"
    }
   ],
   "source": [
    "head(demux_lib3)"
   ]
  },
  {
   "cell_type": "code",
   "execution_count": 32,
   "id": "9e5d0ddb",
   "metadata": {
    "vscode": {
     "languageId": "r"
    }
   },
   "outputs": [],
   "source": [
    "sobj.lib3 <- CreateSeuratObject(counts = lib3.data, project = \"JB_1466_1_2_Organoid\")"
   ]
  },
  {
   "cell_type": "code",
   "execution_count": 33,
   "id": "26d62501",
   "metadata": {
    "vscode": {
     "languageId": "r"
    }
   },
   "outputs": [
    {
     "name": "stdout",
     "output_type": "stream",
     "text": [
      "Seurat Barcodes (first 10):\n",
      " [1] \"AAACCAAAGAACCTCA-1\" \"AAACCAAAGAACCTGC-1\" \"AAACCAAAGAACCTTG-1\"\n",
      " [4] \"AAACCAAAGAACGAAC-1\" \"AAACCAAAGAACGATA-1\" \"AAACCAAAGAACGGAT-1\"\n",
      " [7] \"AAACCAAAGAAGCCAG-1\" \"AAACCAAAGAAGCCTC-1\" \"AAACCAAAGAAGCTAA-1\"\n",
      "[10] \"AAACCAAAGAAGCTCC-1\"\n",
      "Demuxlet Barcodes (first 10):\n",
      " [1] \".\"                  \"AAACCAAAGAAGCTAA-1\" \"AAACCAAAGCATCAAT-1\"\n",
      " [4] \"AAACCAAAGCATCTCT-1\" \"AAACCAAAGCCACAGT-1\" \"AAACCAAAGCCGCATG-1\"\n",
      " [7] \"AAACCAAAGCGATCCG-1\" \"AAACCAAAGCTAGTAT-1\" \"AAACCAAAGGAATGAC-1\"\n",
      "[10] \"AAACCAAAGGAGCTTC-1\"\n"
     ]
    }
   ],
   "source": [
    "rownames(demux_lib3) <- demux_lib3$BARCODE\n",
    "# Extract barcodes from Seurat object\n",
    "seurat_barcodes <- rownames(sobj.lib3@meta.data)\n",
    "\n",
    "# Extract barcodes from Demuxlet table\n",
    "demux_barcodes <- rownames(demux_lib3)\n",
    "\n",
    "# Print examples of barcodes\n",
    "cat(\"Seurat Barcodes (first 10):\\n\")\n",
    "print(head(seurat_barcodes, 10))\n",
    "\n",
    "cat(\"Demuxlet Barcodes (first 10):\\n\")\n",
    "print(head(demux_barcodes, 10))"
   ]
  },
  {
   "cell_type": "code",
   "execution_count": 34,
   "id": "ffb280f1",
   "metadata": {
    "vscode": {
     "languageId": "r"
    }
   },
   "outputs": [
    {
     "name": "stdout",
     "output_type": "stream",
     "text": [
      "Barcodes in Demuxlet but not in Seurat:\n",
      "[1] \".\"\n",
      "Barcodes in Seurat but not in Demuxlet:\n",
      " [1] \"AAACCAAAGAACCTCA-1\" \"AAACCAAAGAACCTGC-1\" \"AAACCAAAGAACCTTG-1\"\n",
      " [4] \"AAACCAAAGAACGAAC-1\" \"AAACCAAAGAACGATA-1\" \"AAACCAAAGAACGGAT-1\"\n",
      " [7] \"AAACCAAAGAAGCCAG-1\" \"AAACCAAAGAAGCCTC-1\" \"AAACCAAAGAAGCTCC-1\"\n",
      "[10] \"AAACCAAAGAAGGACT-1\"\n",
      "Number of barcodes in Demuxlet but not in Seurat: 1 \n",
      "Number of barcodes in Seurat but not in Demuxlet: 1196859 \n"
     ]
    }
   ],
   "source": [
    "# Find barcodes in Demuxlet but not in Seurat\n",
    "demux_not_in_seurat <- setdiff(demux_barcodes, seurat_barcodes)\n",
    "\n",
    "# Find barcodes in Seurat but not in Demuxlet\n",
    "seurat_not_in_demux <- setdiff(seurat_barcodes, demux_barcodes)\n",
    "\n",
    "# Print differences\n",
    "cat(\"Barcodes in Demuxlet but not in Seurat:\\n\")\n",
    "print(head(demux_not_in_seurat, 10))  # Show first 10\n",
    "\n",
    "cat(\"Barcodes in Seurat but not in Demuxlet:\\n\")\n",
    "print(head(seurat_not_in_demux, 10))  # Show first 10\n",
    "\n",
    "# Count differences\n",
    "cat(\"Number of barcodes in Demuxlet but not in Seurat:\", length(demux_not_in_seurat), \"\\n\")\n",
    "cat(\"Number of barcodes in Seurat but not in Demuxlet:\", length(seurat_not_in_demux), \"\\n\")"
   ]
  },
  {
   "cell_type": "code",
   "execution_count": 35,
   "id": "e4c9c055",
   "metadata": {
    "vscode": {
     "languageId": "r"
    }
   },
   "outputs": [
    {
     "name": "stdout",
     "output_type": "stream",
     "text": [
      "Final number of matching barcodes: 50298 \n"
     ]
    }
   ],
   "source": [
    "# Keep only rows where barcodes match Seurat object\n",
    "demux_lib3_subset <- demux_lib3[demux_barcodes %in% seurat_barcodes, , drop = FALSE]\n",
    "\n",
    "# Verify barcode alignment\n",
    "cat(\"Final number of matching barcodes:\", nrow(demux_lib3_subset), \"\\n\")"
   ]
  },
  {
   "cell_type": "code",
   "execution_count": 36,
   "id": "008cef84",
   "metadata": {
    "vscode": {
     "languageId": "r"
    }
   },
   "outputs": [],
   "source": [
    "demux_barcodes <-rownames(demux_lib3_subset)"
   ]
  },
  {
   "cell_type": "code",
   "execution_count": 37,
   "id": "92aaf969",
   "metadata": {
    "vscode": {
     "languageId": "r"
    }
   },
   "outputs": [
    {
     "name": "stdout",
     "output_type": "stream",
     "text": [
      "Barcodes in Demuxlet but not in Seurat:\n",
      "character(0)\n",
      "Barcodes in Seurat but not in Demuxlet:\n",
      " [1] \"AAACCAAAGAACCTCA-1\" \"AAACCAAAGAACCTGC-1\" \"AAACCAAAGAACCTTG-1\"\n",
      " [4] \"AAACCAAAGAACGAAC-1\" \"AAACCAAAGAACGATA-1\" \"AAACCAAAGAACGGAT-1\"\n",
      " [7] \"AAACCAAAGAAGCCAG-1\" \"AAACCAAAGAAGCCTC-1\" \"AAACCAAAGAAGCTCC-1\"\n",
      "[10] \"AAACCAAAGAAGGACT-1\"\n",
      "Number of barcodes in Demuxlet but not in Seurat: 0 \n",
      "Number of barcodes in Seurat but not in Demuxlet: 1196859 \n"
     ]
    }
   ],
   "source": [
    "# Find barcodes in Demuxlet but not in Seurat\n",
    "demux_not_in_seurat <- setdiff(demux_barcodes, seurat_barcodes)\n",
    "\n",
    "# Find barcodes in Seurat but not in Demuxlet\n",
    "seurat_not_in_demux <- setdiff(seurat_barcodes, demux_barcodes)\n",
    "\n",
    "# Print differences\n",
    "cat(\"Barcodes in Demuxlet but not in Seurat:\\n\")\n",
    "print(head(demux_not_in_seurat, 10))  # Show first 10\n",
    "\n",
    "cat(\"Barcodes in Seurat but not in Demuxlet:\\n\")\n",
    "print(head(seurat_not_in_demux, 10))  # Show first 10\n",
    "\n",
    "# Count differences\n",
    "cat(\"Number of barcodes in Demuxlet but not in Seurat:\", length(demux_not_in_seurat), \"\\n\")\n",
    "cat(\"Number of barcodes in Seurat but not in Demuxlet:\", length(seurat_not_in_demux), \"\\n\")"
   ]
  },
  {
   "cell_type": "code",
   "execution_count": 38,
   "id": "f13cecaa",
   "metadata": {
    "vscode": {
     "languageId": "r"
    }
   },
   "outputs": [
    {
     "data": {
      "text/html": [
       "<table class=\"dataframe\">\n",
       "<caption>A data.frame: 6 × 1</caption>\n",
       "<thead>\n",
       "\t<tr><th></th><th scope=col>barcode</th></tr>\n",
       "\t<tr><th></th><th scope=col>&lt;chr&gt;</th></tr>\n",
       "</thead>\n",
       "<tbody>\n",
       "\t<tr><th scope=row>1</th><td>AAACCAAAGAACCTCA-1</td></tr>\n",
       "\t<tr><th scope=row>2</th><td>AAACCAAAGAACCTGC-1</td></tr>\n",
       "\t<tr><th scope=row>3</th><td>AAACCAAAGAACCTTG-1</td></tr>\n",
       "\t<tr><th scope=row>4</th><td>AAACCAAAGAACGAAC-1</td></tr>\n",
       "\t<tr><th scope=row>5</th><td>AAACCAAAGAACGATA-1</td></tr>\n",
       "\t<tr><th scope=row>6</th><td>AAACCAAAGAACGGAT-1</td></tr>\n",
       "</tbody>\n",
       "</table>\n"
      ],
      "text/latex": [
       "A data.frame: 6 × 1\n",
       "\\begin{tabular}{r|l}\n",
       "  & barcode\\\\\n",
       "  & <chr>\\\\\n",
       "\\hline\n",
       "\t1 & AAACCAAAGAACCTCA-1\\\\\n",
       "\t2 & AAACCAAAGAACCTGC-1\\\\\n",
       "\t3 & AAACCAAAGAACCTTG-1\\\\\n",
       "\t4 & AAACCAAAGAACGAAC-1\\\\\n",
       "\t5 & AAACCAAAGAACGATA-1\\\\\n",
       "\t6 & AAACCAAAGAACGGAT-1\\\\\n",
       "\\end{tabular}\n"
      ],
      "text/markdown": [
       "\n",
       "A data.frame: 6 × 1\n",
       "\n",
       "| <!--/--> | barcode &lt;chr&gt; |\n",
       "|---|---|\n",
       "| 1 | AAACCAAAGAACCTCA-1 |\n",
       "| 2 | AAACCAAAGAACCTGC-1 |\n",
       "| 3 | AAACCAAAGAACCTTG-1 |\n",
       "| 4 | AAACCAAAGAACGAAC-1 |\n",
       "| 5 | AAACCAAAGAACGATA-1 |\n",
       "| 6 | AAACCAAAGAACGGAT-1 |\n",
       "\n"
      ],
      "text/plain": [
       "  barcode           \n",
       "1 AAACCAAAGAACCTCA-1\n",
       "2 AAACCAAAGAACCTGC-1\n",
       "3 AAACCAAAGAACCTTG-1\n",
       "4 AAACCAAAGAACGAAC-1\n",
       "5 AAACCAAAGAACGATA-1\n",
       "6 AAACCAAAGAACGGAT-1"
      ]
     },
     "metadata": {},
     "output_type": "display_data"
    }
   ],
   "source": [
    "seurat_barcodes<- as.data.frame(seurat_barcodes)\n",
    "colnames(seurat_barcodes) <- \"barcode\"\n",
    "head(seurat_barcodes)"
   ]
  },
  {
   "cell_type": "code",
   "execution_count": 39,
   "id": "799ec2dd",
   "metadata": {
    "vscode": {
     "languageId": "r"
    }
   },
   "outputs": [
    {
     "data": {
      "text/html": [
       "<table class=\"dataframe\">\n",
       "<caption>A data.frame: 6 × 20</caption>\n",
       "<thead>\n",
       "\t<tr><th></th><th scope=col>INT_ID</th><th scope=col>barcode</th><th scope=col>NUM.SNPS</th><th scope=col>NUM.READS</th><th scope=col>DROPLET.TYPE</th><th scope=col>BEST.GUESS</th><th scope=col>BEST.LLK</th><th scope=col>NEXT.GUESS</th><th scope=col>NEXT.LLK</th><th scope=col>DIFF.LLK.BEST.NEXT</th><th scope=col>BEST.POSTERIOR</th><th scope=col>SNG.POSTERIOR</th><th scope=col>SNG.BEST.GUESS</th><th scope=col>SNG.BEST.LLK</th><th scope=col>SNG.NEXT.GUESS</th><th scope=col>SNG.NEXT.LLK</th><th scope=col>SNG.ONLY.POSTERIOR</th><th scope=col>DBL.BEST.GUESS</th><th scope=col>DBL.BEST.LLK</th><th scope=col>DIFF.LLK.SNG.DBL</th></tr>\n",
       "\t<tr><th></th><th scope=col>&lt;int&gt;</th><th scope=col>&lt;chr&gt;</th><th scope=col>&lt;int&gt;</th><th scope=col>&lt;int&gt;</th><th scope=col>&lt;chr&gt;</th><th scope=col>&lt;chr&gt;</th><th scope=col>&lt;dbl&gt;</th><th scope=col>&lt;chr&gt;</th><th scope=col>&lt;dbl&gt;</th><th scope=col>&lt;dbl&gt;</th><th scope=col>&lt;dbl&gt;</th><th scope=col>&lt;dbl&gt;</th><th scope=col>&lt;chr&gt;</th><th scope=col>&lt;dbl&gt;</th><th scope=col>&lt;chr&gt;</th><th scope=col>&lt;dbl&gt;</th><th scope=col>&lt;dbl&gt;</th><th scope=col>&lt;chr&gt;</th><th scope=col>&lt;dbl&gt;</th><th scope=col>&lt;dbl&gt;</th></tr>\n",
       "</thead>\n",
       "<tbody>\n",
       "\t<tr><th scope=row>AAACCAAAGAAGCTAA-1</th><td> 3</td><td>AAACCAAAGAAGCTAA-1</td><td> 1</td><td> 1</td><td>AMB</td><td>0_0_1_ZBC1,0_0_1_ZBC1,0.00</td><td> -0.01</td><td>0_0_2_ZBC2,0_0_2_ZBC2,0.00</td><td> -0.01</td><td>0.0</td><td> -3.1</td><td>0.76</td><td>0_0_1_ZBC1</td><td> -0.01</td><td>0_0_2_ZBC2</td><td> -0.01</td><td>0.05666</td><td>0_0_1_ZBC1,0_0_2_ZBC2,0.50</td><td>-0.01</td><td> 0.00</td></tr>\n",
       "\t<tr><th scope=row>AAACCAAAGCATCAAT-1</th><td>18</td><td>AAACCAAAGCATCAAT-1</td><td> 1</td><td> 1</td><td>AMB</td><td>0_0_5_ZBl2,0_0_5_ZBl2,0.00</td><td> -0.06</td><td>0_0_6_ZBl3,0_0_6_ZBl3,0.00</td><td> -0.06</td><td>0.0</td><td> -2.9</td><td>0.85</td><td>0_0_5_ZBl2</td><td> -0.06</td><td>0_0_6_ZBl3</td><td> -0.06</td><td>0.06490</td><td>0_0_5_ZBl2,0_0_6_ZBl3,0.50</td><td>-0.06</td><td> 0.00</td></tr>\n",
       "\t<tr><th scope=row>AAACCAAAGCATCTCT-1</th><td>20</td><td>AAACCAAAGCATCTCT-1</td><td> 1</td><td> 1</td><td>AMB</td><td>0_0_1_ZBC1,0_0_1_ZBC1,0.00</td><td> -0.01</td><td>0_0_2_ZBC2,0_0_2_ZBC2,0.00</td><td> -0.01</td><td>0.0</td><td> -3.1</td><td>0.76</td><td>0_0_1_ZBC1</td><td> -0.01</td><td>0_0_2_ZBC2</td><td> -0.01</td><td>0.05666</td><td>0_0_1_ZBC1,0_0_2_ZBC2,0.50</td><td>-0.01</td><td> 0.00</td></tr>\n",
       "\t<tr><th scope=row>AAACCAAAGCCACAGT-1</th><td>24</td><td>AAACCAAAGCCACAGT-1</td><td> 1</td><td> 1</td><td>AMB</td><td>0_0_1_ZBC1,0_0_1_ZBC1,0.00</td><td> -0.01</td><td>0_0_3_ZBC3,0_0_3_ZBC3,0.00</td><td> -0.01</td><td>0.0</td><td> -3.1</td><td>0.76</td><td>0_0_1_ZBC1</td><td> -0.01</td><td>0_0_3_ZBC3</td><td> -0.01</td><td>0.05666</td><td>0_0_1_ZBC1,0_0_3_ZBC3,0.50</td><td>-0.01</td><td> 0.00</td></tr>\n",
       "\t<tr><th scope=row>AAACCAAAGCCGCATG-1</th><td>27</td><td>AAACCAAAGCCGCATG-1</td><td> 1</td><td> 1</td><td>AMB</td><td>0_0_1_ZBC1,0_0_1_ZBC1,0.00</td><td> -0.01</td><td>0_0_2_ZBC2,0_0_2_ZBC2,0.00</td><td> -0.01</td><td>0.0</td><td> -3.1</td><td>0.76</td><td>0_0_1_ZBC1</td><td> -0.01</td><td>0_0_2_ZBC2</td><td> -0.01</td><td>0.05666</td><td>0_0_1_ZBC1,0_0_2_ZBC2,0.50</td><td>-0.01</td><td> 0.00</td></tr>\n",
       "\t<tr><th scope=row>AAACCAAAGCGATCCG-1</th><td>33</td><td>AAACCAAAGCGATCCG-1</td><td>29</td><td>64</td><td>AMB</td><td>0_0_1_ZBC1,0_0_1_ZBC1,0.00</td><td>-10.13</td><td>0_0_3_ZBC3,0_0_3_ZBC3,0.00</td><td>-10.22</td><td>0.1</td><td>-13.0</td><td>1.00</td><td>0_0_1_ZBC1</td><td>-10.13</td><td>0_0_3_ZBC3</td><td>-10.22</td><td>0.00000</td><td>0_0_1_ZBC1,0_0_3_ZBC3,0.50</td><td>-8.78</td><td>-1.35</td></tr>\n",
       "</tbody>\n",
       "</table>\n"
      ],
      "text/latex": [
       "A data.frame: 6 × 20\n",
       "\\begin{tabular}{r|llllllllllllllllllll}\n",
       "  & INT\\_ID & barcode & NUM.SNPS & NUM.READS & DROPLET.TYPE & BEST.GUESS & BEST.LLK & NEXT.GUESS & NEXT.LLK & DIFF.LLK.BEST.NEXT & BEST.POSTERIOR & SNG.POSTERIOR & SNG.BEST.GUESS & SNG.BEST.LLK & SNG.NEXT.GUESS & SNG.NEXT.LLK & SNG.ONLY.POSTERIOR & DBL.BEST.GUESS & DBL.BEST.LLK & DIFF.LLK.SNG.DBL\\\\\n",
       "  & <int> & <chr> & <int> & <int> & <chr> & <chr> & <dbl> & <chr> & <dbl> & <dbl> & <dbl> & <dbl> & <chr> & <dbl> & <chr> & <dbl> & <dbl> & <chr> & <dbl> & <dbl>\\\\\n",
       "\\hline\n",
       "\tAAACCAAAGAAGCTAA-1 &  3 & AAACCAAAGAAGCTAA-1 &  1 &  1 & AMB & 0\\_0\\_1\\_ZBC1,0\\_0\\_1\\_ZBC1,0.00 &  -0.01 & 0\\_0\\_2\\_ZBC2,0\\_0\\_2\\_ZBC2,0.00 &  -0.01 & 0.0 &  -3.1 & 0.76 & 0\\_0\\_1\\_ZBC1 &  -0.01 & 0\\_0\\_2\\_ZBC2 &  -0.01 & 0.05666 & 0\\_0\\_1\\_ZBC1,0\\_0\\_2\\_ZBC2,0.50 & -0.01 &  0.00\\\\\n",
       "\tAAACCAAAGCATCAAT-1 & 18 & AAACCAAAGCATCAAT-1 &  1 &  1 & AMB & 0\\_0\\_5\\_ZBl2,0\\_0\\_5\\_ZBl2,0.00 &  -0.06 & 0\\_0\\_6\\_ZBl3,0\\_0\\_6\\_ZBl3,0.00 &  -0.06 & 0.0 &  -2.9 & 0.85 & 0\\_0\\_5\\_ZBl2 &  -0.06 & 0\\_0\\_6\\_ZBl3 &  -0.06 & 0.06490 & 0\\_0\\_5\\_ZBl2,0\\_0\\_6\\_ZBl3,0.50 & -0.06 &  0.00\\\\\n",
       "\tAAACCAAAGCATCTCT-1 & 20 & AAACCAAAGCATCTCT-1 &  1 &  1 & AMB & 0\\_0\\_1\\_ZBC1,0\\_0\\_1\\_ZBC1,0.00 &  -0.01 & 0\\_0\\_2\\_ZBC2,0\\_0\\_2\\_ZBC2,0.00 &  -0.01 & 0.0 &  -3.1 & 0.76 & 0\\_0\\_1\\_ZBC1 &  -0.01 & 0\\_0\\_2\\_ZBC2 &  -0.01 & 0.05666 & 0\\_0\\_1\\_ZBC1,0\\_0\\_2\\_ZBC2,0.50 & -0.01 &  0.00\\\\\n",
       "\tAAACCAAAGCCACAGT-1 & 24 & AAACCAAAGCCACAGT-1 &  1 &  1 & AMB & 0\\_0\\_1\\_ZBC1,0\\_0\\_1\\_ZBC1,0.00 &  -0.01 & 0\\_0\\_3\\_ZBC3,0\\_0\\_3\\_ZBC3,0.00 &  -0.01 & 0.0 &  -3.1 & 0.76 & 0\\_0\\_1\\_ZBC1 &  -0.01 & 0\\_0\\_3\\_ZBC3 &  -0.01 & 0.05666 & 0\\_0\\_1\\_ZBC1,0\\_0\\_3\\_ZBC3,0.50 & -0.01 &  0.00\\\\\n",
       "\tAAACCAAAGCCGCATG-1 & 27 & AAACCAAAGCCGCATG-1 &  1 &  1 & AMB & 0\\_0\\_1\\_ZBC1,0\\_0\\_1\\_ZBC1,0.00 &  -0.01 & 0\\_0\\_2\\_ZBC2,0\\_0\\_2\\_ZBC2,0.00 &  -0.01 & 0.0 &  -3.1 & 0.76 & 0\\_0\\_1\\_ZBC1 &  -0.01 & 0\\_0\\_2\\_ZBC2 &  -0.01 & 0.05666 & 0\\_0\\_1\\_ZBC1,0\\_0\\_2\\_ZBC2,0.50 & -0.01 &  0.00\\\\\n",
       "\tAAACCAAAGCGATCCG-1 & 33 & AAACCAAAGCGATCCG-1 & 29 & 64 & AMB & 0\\_0\\_1\\_ZBC1,0\\_0\\_1\\_ZBC1,0.00 & -10.13 & 0\\_0\\_3\\_ZBC3,0\\_0\\_3\\_ZBC3,0.00 & -10.22 & 0.1 & -13.0 & 1.00 & 0\\_0\\_1\\_ZBC1 & -10.13 & 0\\_0\\_3\\_ZBC3 & -10.22 & 0.00000 & 0\\_0\\_1\\_ZBC1,0\\_0\\_3\\_ZBC3,0.50 & -8.78 & -1.35\\\\\n",
       "\\end{tabular}\n"
      ],
      "text/markdown": [
       "\n",
       "A data.frame: 6 × 20\n",
       "\n",
       "| <!--/--> | INT_ID &lt;int&gt; | barcode &lt;chr&gt; | NUM.SNPS &lt;int&gt; | NUM.READS &lt;int&gt; | DROPLET.TYPE &lt;chr&gt; | BEST.GUESS &lt;chr&gt; | BEST.LLK &lt;dbl&gt; | NEXT.GUESS &lt;chr&gt; | NEXT.LLK &lt;dbl&gt; | DIFF.LLK.BEST.NEXT &lt;dbl&gt; | BEST.POSTERIOR &lt;dbl&gt; | SNG.POSTERIOR &lt;dbl&gt; | SNG.BEST.GUESS &lt;chr&gt; | SNG.BEST.LLK &lt;dbl&gt; | SNG.NEXT.GUESS &lt;chr&gt; | SNG.NEXT.LLK &lt;dbl&gt; | SNG.ONLY.POSTERIOR &lt;dbl&gt; | DBL.BEST.GUESS &lt;chr&gt; | DBL.BEST.LLK &lt;dbl&gt; | DIFF.LLK.SNG.DBL &lt;dbl&gt; |\n",
       "|---|---|---|---|---|---|---|---|---|---|---|---|---|---|---|---|---|---|---|---|---|\n",
       "| AAACCAAAGAAGCTAA-1 |  3 | AAACCAAAGAAGCTAA-1 |  1 |  1 | AMB | 0_0_1_ZBC1,0_0_1_ZBC1,0.00 |  -0.01 | 0_0_2_ZBC2,0_0_2_ZBC2,0.00 |  -0.01 | 0.0 |  -3.1 | 0.76 | 0_0_1_ZBC1 |  -0.01 | 0_0_2_ZBC2 |  -0.01 | 0.05666 | 0_0_1_ZBC1,0_0_2_ZBC2,0.50 | -0.01 |  0.00 |\n",
       "| AAACCAAAGCATCAAT-1 | 18 | AAACCAAAGCATCAAT-1 |  1 |  1 | AMB | 0_0_5_ZBl2,0_0_5_ZBl2,0.00 |  -0.06 | 0_0_6_ZBl3,0_0_6_ZBl3,0.00 |  -0.06 | 0.0 |  -2.9 | 0.85 | 0_0_5_ZBl2 |  -0.06 | 0_0_6_ZBl3 |  -0.06 | 0.06490 | 0_0_5_ZBl2,0_0_6_ZBl3,0.50 | -0.06 |  0.00 |\n",
       "| AAACCAAAGCATCTCT-1 | 20 | AAACCAAAGCATCTCT-1 |  1 |  1 | AMB | 0_0_1_ZBC1,0_0_1_ZBC1,0.00 |  -0.01 | 0_0_2_ZBC2,0_0_2_ZBC2,0.00 |  -0.01 | 0.0 |  -3.1 | 0.76 | 0_0_1_ZBC1 |  -0.01 | 0_0_2_ZBC2 |  -0.01 | 0.05666 | 0_0_1_ZBC1,0_0_2_ZBC2,0.50 | -0.01 |  0.00 |\n",
       "| AAACCAAAGCCACAGT-1 | 24 | AAACCAAAGCCACAGT-1 |  1 |  1 | AMB | 0_0_1_ZBC1,0_0_1_ZBC1,0.00 |  -0.01 | 0_0_3_ZBC3,0_0_3_ZBC3,0.00 |  -0.01 | 0.0 |  -3.1 | 0.76 | 0_0_1_ZBC1 |  -0.01 | 0_0_3_ZBC3 |  -0.01 | 0.05666 | 0_0_1_ZBC1,0_0_3_ZBC3,0.50 | -0.01 |  0.00 |\n",
       "| AAACCAAAGCCGCATG-1 | 27 | AAACCAAAGCCGCATG-1 |  1 |  1 | AMB | 0_0_1_ZBC1,0_0_1_ZBC1,0.00 |  -0.01 | 0_0_2_ZBC2,0_0_2_ZBC2,0.00 |  -0.01 | 0.0 |  -3.1 | 0.76 | 0_0_1_ZBC1 |  -0.01 | 0_0_2_ZBC2 |  -0.01 | 0.05666 | 0_0_1_ZBC1,0_0_2_ZBC2,0.50 | -0.01 |  0.00 |\n",
       "| AAACCAAAGCGATCCG-1 | 33 | AAACCAAAGCGATCCG-1 | 29 | 64 | AMB | 0_0_1_ZBC1,0_0_1_ZBC1,0.00 | -10.13 | 0_0_3_ZBC3,0_0_3_ZBC3,0.00 | -10.22 | 0.1 | -13.0 | 1.00 | 0_0_1_ZBC1 | -10.13 | 0_0_3_ZBC3 | -10.22 | 0.00000 | 0_0_1_ZBC1,0_0_3_ZBC3,0.50 | -8.78 | -1.35 |\n",
       "\n"
      ],
      "text/plain": [
       "                   INT_ID barcode            NUM.SNPS NUM.READS DROPLET.TYPE\n",
       "AAACCAAAGAAGCTAA-1  3     AAACCAAAGAAGCTAA-1  1        1        AMB         \n",
       "AAACCAAAGCATCAAT-1 18     AAACCAAAGCATCAAT-1  1        1        AMB         \n",
       "AAACCAAAGCATCTCT-1 20     AAACCAAAGCATCTCT-1  1        1        AMB         \n",
       "AAACCAAAGCCACAGT-1 24     AAACCAAAGCCACAGT-1  1        1        AMB         \n",
       "AAACCAAAGCCGCATG-1 27     AAACCAAAGCCGCATG-1  1        1        AMB         \n",
       "AAACCAAAGCGATCCG-1 33     AAACCAAAGCGATCCG-1 29       64        AMB         \n",
       "                   BEST.GUESS                 BEST.LLK\n",
       "AAACCAAAGAAGCTAA-1 0_0_1_ZBC1,0_0_1_ZBC1,0.00  -0.01  \n",
       "AAACCAAAGCATCAAT-1 0_0_5_ZBl2,0_0_5_ZBl2,0.00  -0.06  \n",
       "AAACCAAAGCATCTCT-1 0_0_1_ZBC1,0_0_1_ZBC1,0.00  -0.01  \n",
       "AAACCAAAGCCACAGT-1 0_0_1_ZBC1,0_0_1_ZBC1,0.00  -0.01  \n",
       "AAACCAAAGCCGCATG-1 0_0_1_ZBC1,0_0_1_ZBC1,0.00  -0.01  \n",
       "AAACCAAAGCGATCCG-1 0_0_1_ZBC1,0_0_1_ZBC1,0.00 -10.13  \n",
       "                   NEXT.GUESS                 NEXT.LLK DIFF.LLK.BEST.NEXT\n",
       "AAACCAAAGAAGCTAA-1 0_0_2_ZBC2,0_0_2_ZBC2,0.00  -0.01   0.0               \n",
       "AAACCAAAGCATCAAT-1 0_0_6_ZBl3,0_0_6_ZBl3,0.00  -0.06   0.0               \n",
       "AAACCAAAGCATCTCT-1 0_0_2_ZBC2,0_0_2_ZBC2,0.00  -0.01   0.0               \n",
       "AAACCAAAGCCACAGT-1 0_0_3_ZBC3,0_0_3_ZBC3,0.00  -0.01   0.0               \n",
       "AAACCAAAGCCGCATG-1 0_0_2_ZBC2,0_0_2_ZBC2,0.00  -0.01   0.0               \n",
       "AAACCAAAGCGATCCG-1 0_0_3_ZBC3,0_0_3_ZBC3,0.00 -10.22   0.1               \n",
       "                   BEST.POSTERIOR SNG.POSTERIOR SNG.BEST.GUESS SNG.BEST.LLK\n",
       "AAACCAAAGAAGCTAA-1  -3.1          0.76          0_0_1_ZBC1      -0.01      \n",
       "AAACCAAAGCATCAAT-1  -2.9          0.85          0_0_5_ZBl2      -0.06      \n",
       "AAACCAAAGCATCTCT-1  -3.1          0.76          0_0_1_ZBC1      -0.01      \n",
       "AAACCAAAGCCACAGT-1  -3.1          0.76          0_0_1_ZBC1      -0.01      \n",
       "AAACCAAAGCCGCATG-1  -3.1          0.76          0_0_1_ZBC1      -0.01      \n",
       "AAACCAAAGCGATCCG-1 -13.0          1.00          0_0_1_ZBC1     -10.13      \n",
       "                   SNG.NEXT.GUESS SNG.NEXT.LLK SNG.ONLY.POSTERIOR\n",
       "AAACCAAAGAAGCTAA-1 0_0_2_ZBC2      -0.01       0.05666           \n",
       "AAACCAAAGCATCAAT-1 0_0_6_ZBl3      -0.06       0.06490           \n",
       "AAACCAAAGCATCTCT-1 0_0_2_ZBC2      -0.01       0.05666           \n",
       "AAACCAAAGCCACAGT-1 0_0_3_ZBC3      -0.01       0.05666           \n",
       "AAACCAAAGCCGCATG-1 0_0_2_ZBC2      -0.01       0.05666           \n",
       "AAACCAAAGCGATCCG-1 0_0_3_ZBC3     -10.22       0.00000           \n",
       "                   DBL.BEST.GUESS             DBL.BEST.LLK DIFF.LLK.SNG.DBL\n",
       "AAACCAAAGAAGCTAA-1 0_0_1_ZBC1,0_0_2_ZBC2,0.50 -0.01         0.00           \n",
       "AAACCAAAGCATCAAT-1 0_0_5_ZBl2,0_0_6_ZBl3,0.50 -0.06         0.00           \n",
       "AAACCAAAGCATCTCT-1 0_0_1_ZBC1,0_0_2_ZBC2,0.50 -0.01         0.00           \n",
       "AAACCAAAGCCACAGT-1 0_0_1_ZBC1,0_0_3_ZBC3,0.50 -0.01         0.00           \n",
       "AAACCAAAGCCGCATG-1 0_0_1_ZBC1,0_0_2_ZBC2,0.50 -0.01         0.00           \n",
       "AAACCAAAGCGATCCG-1 0_0_1_ZBC1,0_0_3_ZBC3,0.50 -8.78        -1.35           "
      ]
     },
     "metadata": {},
     "output_type": "display_data"
    }
   ],
   "source": [
    "colnames(demux_lib3_subset)[colnames(demux_lib3_subset) == \"BARCODE\"] <- \"barcode\"\n",
    "\n",
    "\n",
    "head(demux_lib3_subset)"
   ]
  },
  {
   "cell_type": "code",
   "execution_count": 40,
   "id": "6c63646c",
   "metadata": {
    "vscode": {
     "languageId": "r"
    }
   },
   "outputs": [
    {
     "data": {
      "text/html": [
       "<style>\n",
       ".list-inline {list-style: none; margin:0; padding: 0}\n",
       ".list-inline>li {display: inline-block}\n",
       ".list-inline>li:not(:last-child)::after {content: \"\\00b7\"; padding: 0 .5ex}\n",
       "</style>\n",
       "<ol class=list-inline><li>'orig.ident'</li><li>'nCount_RNA'</li><li>'nFeature_RNA'</li></ol>\n"
      ],
      "text/latex": [
       "\\begin{enumerate*}\n",
       "\\item 'orig.ident'\n",
       "\\item 'nCount\\_RNA'\n",
       "\\item 'nFeature\\_RNA'\n",
       "\\end{enumerate*}\n"
      ],
      "text/markdown": [
       "1. 'orig.ident'\n",
       "2. 'nCount_RNA'\n",
       "3. 'nFeature_RNA'\n",
       "\n",
       "\n"
      ],
      "text/plain": [
       "[1] \"orig.ident\"   \"nCount_RNA\"   \"nFeature_RNA\""
      ]
     },
     "metadata": {},
     "output_type": "display_data"
    }
   ],
   "source": [
    "unique(colnames(sobj.lib3@meta.data))"
   ]
  },
  {
   "cell_type": "code",
   "execution_count": 41,
   "id": "fec33409",
   "metadata": {
    "vscode": {
     "languageId": "r"
    }
   },
   "outputs": [
    {
     "data": {
      "text/html": [
       "<style>\n",
       ".list-inline {list-style: none; margin:0; padding: 0}\n",
       ".list-inline>li {display: inline-block}\n",
       ".list-inline>li:not(:last-child)::after {content: \"\\00b7\"; padding: 0 .5ex}\n",
       "</style>\n",
       "<ol class=list-inline><li>'orig.ident'</li><li>'nCount_RNA'</li><li>'nFeature_RNA'</li><li>'INT_ID'</li><li>'NUM.SNPS'</li><li>'NUM.READS'</li><li>'DROPLET.TYPE'</li><li>'BEST.GUESS'</li><li>'BEST.LLK'</li><li>'NEXT.GUESS'</li><li>'NEXT.LLK'</li><li>'DIFF.LLK.BEST.NEXT'</li><li>'BEST.POSTERIOR'</li><li>'SNG.POSTERIOR'</li><li>'SNG.BEST.GUESS'</li><li>'SNG.BEST.LLK'</li><li>'SNG.NEXT.GUESS'</li><li>'SNG.NEXT.LLK'</li><li>'SNG.ONLY.POSTERIOR'</li><li>'DBL.BEST.GUESS'</li><li>'DBL.BEST.LLK'</li><li>'DIFF.LLK.SNG.DBL'</li></ol>\n"
      ],
      "text/latex": [
       "\\begin{enumerate*}\n",
       "\\item 'orig.ident'\n",
       "\\item 'nCount\\_RNA'\n",
       "\\item 'nFeature\\_RNA'\n",
       "\\item 'INT\\_ID'\n",
       "\\item 'NUM.SNPS'\n",
       "\\item 'NUM.READS'\n",
       "\\item 'DROPLET.TYPE'\n",
       "\\item 'BEST.GUESS'\n",
       "\\item 'BEST.LLK'\n",
       "\\item 'NEXT.GUESS'\n",
       "\\item 'NEXT.LLK'\n",
       "\\item 'DIFF.LLK.BEST.NEXT'\n",
       "\\item 'BEST.POSTERIOR'\n",
       "\\item 'SNG.POSTERIOR'\n",
       "\\item 'SNG.BEST.GUESS'\n",
       "\\item 'SNG.BEST.LLK'\n",
       "\\item 'SNG.NEXT.GUESS'\n",
       "\\item 'SNG.NEXT.LLK'\n",
       "\\item 'SNG.ONLY.POSTERIOR'\n",
       "\\item 'DBL.BEST.GUESS'\n",
       "\\item 'DBL.BEST.LLK'\n",
       "\\item 'DIFF.LLK.SNG.DBL'\n",
       "\\end{enumerate*}\n"
      ],
      "text/markdown": [
       "1. 'orig.ident'\n",
       "2. 'nCount_RNA'\n",
       "3. 'nFeature_RNA'\n",
       "4. 'INT_ID'\n",
       "5. 'NUM.SNPS'\n",
       "6. 'NUM.READS'\n",
       "7. 'DROPLET.TYPE'\n",
       "8. 'BEST.GUESS'\n",
       "9. 'BEST.LLK'\n",
       "10. 'NEXT.GUESS'\n",
       "11. 'NEXT.LLK'\n",
       "12. 'DIFF.LLK.BEST.NEXT'\n",
       "13. 'BEST.POSTERIOR'\n",
       "14. 'SNG.POSTERIOR'\n",
       "15. 'SNG.BEST.GUESS'\n",
       "16. 'SNG.BEST.LLK'\n",
       "17. 'SNG.NEXT.GUESS'\n",
       "18. 'SNG.NEXT.LLK'\n",
       "19. 'SNG.ONLY.POSTERIOR'\n",
       "20. 'DBL.BEST.GUESS'\n",
       "21. 'DBL.BEST.LLK'\n",
       "22. 'DIFF.LLK.SNG.DBL'\n",
       "\n",
       "\n"
      ],
      "text/plain": [
       " [1] \"orig.ident\"         \"nCount_RNA\"         \"nFeature_RNA\"      \n",
       " [4] \"INT_ID\"             \"NUM.SNPS\"           \"NUM.READS\"         \n",
       " [7] \"DROPLET.TYPE\"       \"BEST.GUESS\"         \"BEST.LLK\"          \n",
       "[10] \"NEXT.GUESS\"         \"NEXT.LLK\"           \"DIFF.LLK.BEST.NEXT\"\n",
       "[13] \"BEST.POSTERIOR\"     \"SNG.POSTERIOR\"      \"SNG.BEST.GUESS\"    \n",
       "[16] \"SNG.BEST.LLK\"       \"SNG.NEXT.GUESS\"     \"SNG.NEXT.LLK\"      \n",
       "[19] \"SNG.ONLY.POSTERIOR\" \"DBL.BEST.GUESS\"     \"DBL.BEST.LLK\"      \n",
       "[22] \"DIFF.LLK.SNG.DBL\"  "
      ]
     },
     "metadata": {},
     "output_type": "display_data"
    }
   ],
   "source": [
    "\n",
    "# Join metadata into Seurat object using dplyr's left_join (ensuring alignment)\n",
    "new_metadata <- sobj.lib3@meta.data %>%\n",
    "  tibble::rownames_to_column(var = \"barcode\") %>%\n",
    "  full_join(demux_lib3_subset, by = \"barcode\") %>%\n",
    "  tibble::column_to_rownames(var = \"barcode\")\n",
    "\n",
    "# Assign updated metadata back to Seurat object\n",
    "sobj.lib3 <- AddMetaData(sobj.lib3, new_metadata)\n",
    "\n",
    "# Check if metadata was added correctly\n",
    "unique(colnames(sobj.lib3@meta.data))"
   ]
  },
  {
   "cell_type": "code",
   "execution_count": 42,
   "id": "3ddba7f0",
   "metadata": {
    "vscode": {
     "languageId": "r"
    }
   },
   "outputs": [
    {
     "data": {
      "text/plain": [
       "\n",
       "0_0_1_ZBC1 0_0_2_ZBC2 0_0_3_ZBC3 0_0_4_ZBl1 0_0_5_ZBl2 0_0_6_ZBl3 \n",
       "     28108       6429       9318       1648       3168       1627 "
      ]
     },
     "metadata": {},
     "output_type": "display_data"
    }
   ],
   "source": [
    "table(sobj.lib3$SNG.BEST.GUESS)"
   ]
  },
  {
   "cell_type": "code",
   "execution_count": 43,
   "id": "da99d4d0",
   "metadata": {
    "vscode": {
     "languageId": "r"
    }
   },
   "outputs": [
    {
     "data": {
      "text/plain": [
       "\n",
       "  AMB   DBL   SNG \n",
       "35345   448 14505 "
      ]
     },
     "metadata": {},
     "output_type": "display_data"
    }
   ],
   "source": [
    "table(sobj.lib3$DROPLET.TYPE)"
   ]
  },
  {
   "cell_type": "code",
   "execution_count": 44,
   "id": "fe8b8580",
   "metadata": {
    "vscode": {
     "languageId": "r"
    }
   },
   "outputs": [
    {
     "data": {
      "text/plain": [
       "\n",
       "0_0_1_ZBC1 0_0_2_ZBC2 0_0_3_ZBC3 0_0_4_ZBl1 0_0_5_ZBl2 0_0_6_ZBl3 \n",
       "     32862       4685       1646       4207       1726       1375 "
      ]
     },
     "metadata": {},
     "output_type": "display_data"
    }
   ],
   "source": [
    "table(sobj.lib2$SNG.BEST.GUESS)"
   ]
  },
  {
   "cell_type": "code",
   "execution_count": 45,
   "id": "342a3146",
   "metadata": {
    "vscode": {
     "languageId": "r"
    }
   },
   "outputs": [
    {
     "data": {
      "text/plain": [
       "\n",
       "  AMB   DBL   SNG \n",
       "36206   180 10115 "
      ]
     },
     "metadata": {},
     "output_type": "display_data"
    }
   ],
   "source": [
    "table(sobj.lib2$DROPLET.TYPE)"
   ]
  },
  {
   "cell_type": "code",
   "execution_count": 46,
   "id": "bb10b6b7",
   "metadata": {
    "vscode": {
     "languageId": "r"
    }
   },
   "outputs": [
    {
     "data": {
      "text/plain": [
       "\n",
       "0_0_1_ZBC1 0_0_2_ZBC2 0_0_3_ZBC3 0_0_4_ZBl1 0_0_5_ZBl2 0_0_6_ZBl3 \n",
       "     22162       9601       2770       3367       1396        736 "
      ]
     },
     "metadata": {},
     "output_type": "display_data"
    }
   ],
   "source": [
    "table(sobj.lib1$SNG.BEST.GUESS)"
   ]
  },
  {
   "cell_type": "code",
   "execution_count": 47,
   "metadata": {
    "vscode": {
     "languageId": "r"
    }
   },
   "outputs": [
    {
     "data": {
      "text/plain": [
       "\n",
       "  AMB   DBL   SNG \n",
       "29622   197 10213 "
      ]
     },
     "metadata": {},
     "output_type": "display_data"
    }
   ],
   "source": [
    "table(sobj.lib1$DROPLET.TYPE)"
   ]
  },
  {
   "cell_type": "code",
   "execution_count": 48,
   "id": "8204c6ec",
   "metadata": {
    "vscode": {
     "languageId": "r"
    }
   },
   "outputs": [],
   "source": [
    "sobj <- merge(sobj.lib1, y = list(sobj.lib2, sobj.lib3), add.cell.ids = c(\"JB_1495\", \"JB_1496\", \"JB_1466_1_2\"), project = \"AT2_Organoid\")"
   ]
  },
  {
   "cell_type": "code",
   "execution_count": 49,
   "id": "3124499e",
   "metadata": {
    "vscode": {
     "languageId": "r"
    }
   },
   "outputs": [
    {
     "data": {
      "text/plain": [
       "An object of class Seurat \n",
       "33538 features across 4211640 samples within 1 assay \n",
       "Active assay: RNA (33538 features, 0 variable features)\n",
       " 3 layers present: counts.JB_1495_Organoid, counts.JB_1496_Organoid, counts.JB_1466_1_2_Organoid"
      ]
     },
     "metadata": {},
     "output_type": "display_data"
    }
   ],
   "source": [
    "sobj"
   ]
  },
  {
   "cell_type": "code",
   "execution_count": 50,
   "id": "076fab7a",
   "metadata": {
    "vscode": {
     "languageId": "r"
    }
   },
   "outputs": [
    {
     "data": {
      "text/plain": [
       "\n",
       "   AMB    DBL    SNG \n",
       "101173    825  34833 "
      ]
     },
     "metadata": {},
     "output_type": "display_data"
    }
   ],
   "source": [
    "table(sobj$DROPLET.TYPE)"
   ]
  },
  {
   "cell_type": "markdown",
   "id": "e99b57f9",
   "metadata": {},
   "source": [
    "## Saving all lib objs"
   ]
  },
  {
   "cell_type": "code",
   "execution_count": 51,
   "id": "13fd6e87",
   "metadata": {
    "vscode": {
     "languageId": "r"
    }
   },
   "outputs": [],
   "source": [
    "setwd(\"/tscc/projects/ps-epigen/users/a2jorgensen/sandbox/250225_humanAT2_organoids/data/rds_objs/proper_demux_add/\")"
   ]
  },
  {
   "cell_type": "code",
   "execution_count": 52,
   "id": "c1c0aa32",
   "metadata": {
    "vscode": {
     "languageId": "r"
    }
   },
   "outputs": [],
   "source": [
    "saveRDS(sobj.lib1, \"JB_1495_w_demux_data.RDS\")"
   ]
  },
  {
   "cell_type": "code",
   "execution_count": 53,
   "id": "70fa738c",
   "metadata": {
    "vscode": {
     "languageId": "r"
    }
   },
   "outputs": [],
   "source": [
    "saveRDS(sobj.lib2, \"JB_1496_w_demux_data.RDS\")"
   ]
  },
  {
   "cell_type": "code",
   "execution_count": 54,
   "id": "099c37f5",
   "metadata": {
    "vscode": {
     "languageId": "r"
    }
   },
   "outputs": [],
   "source": [
    "saveRDS(sobj.lib3, \"JB_1466_w_demux_data.RDS\")"
   ]
  },
  {
   "cell_type": "code",
   "execution_count": 55,
   "id": "0eb598a6",
   "metadata": {
    "vscode": {
     "languageId": "r"
    }
   },
   "outputs": [],
   "source": [
    "saveRDS(sobj, \"250506_3_libs_w_demux.RDS\")"
   ]
  }
 ],
 "metadata": {
  "kernelspec": {
   "display_name": "R",
   "language": "R",
   "name": "ir"
  },
  "language_info": {
   "codemirror_mode": "r",
   "file_extension": ".r",
   "mimetype": "text/x-r-source",
   "name": "R",
   "pygments_lexer": "r",
   "version": "4.4.1"
  }
 },
 "nbformat": 4,
 "nbformat_minor": 5
}
