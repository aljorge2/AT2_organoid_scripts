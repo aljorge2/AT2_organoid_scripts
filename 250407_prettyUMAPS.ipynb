{
 "cells": [
  {
   "cell_type": "code",
   "execution_count": 37,
   "metadata": {
    "vscode": {
     "languageId": "r"
    }
   },
   "outputs": [],
   "source": [
    "library(Seurat)\n",
    "library(Signac)\n",
    "library(CellChat)\n",
    "library(patchwork)\n",
    "library(argparse)\n",
    "source(\"/tscc/projects/ps-epigen/users/kdang/eye_final/source_FunFig.R\")\n",
    "library(dplyr)                                                               \n",
    "library(devtools)\n",
    "library(hdf5r)\n",
    "source(\"/tscc/projects/ps-epigen/bpToolbox/utils.R\")\n",
    "source(\"/tscc/nfs/home/a2jorgensen/toolbox/BpdToolbox/qc_report.R\")\n",
    "library(reshape2)\n",
    "library(Nebulosa)\n",
    "library(stringr)\n",
    "library(harmony)"
   ]
  },
  {
   "cell_type": "code",
   "execution_count": 38,
   "metadata": {
    "vscode": {
     "languageId": "r"
    }
   },
   "outputs": [],
   "source": [
    "setwd(\"/tscc/projects/ps-epigen/users/a2jorgensen/sandbox/250225_humanAT2_organoids/data/Clustering/JB_1466/\")"
   ]
  },
  {
   "cell_type": "code",
   "execution_count": 39,
   "metadata": {
    "vscode": {
     "languageId": "r"
    }
   },
   "outputs": [],
   "source": [
    "sobj<- readRDS(\"JB_1466_w_demux_cond_&_day.RDS\")"
   ]
  },
  {
   "cell_type": "code",
   "execution_count": 40,
   "metadata": {
    "vscode": {
     "languageId": "r"
    }
   },
   "outputs": [
    {
     "data": {
      "text/plain": [
       "An object of class Seurat \n",
       "44696 features across 16556 samples within 2 assays \n",
       "Active assay: SCT (21631 features, 5000 variable features)\n",
       " 3 layers present: counts, data, scale.data\n",
       " 1 other assay present: RNA\n",
       " 3 dimensional reductions calculated: pca, umap.rna, harm.pca"
      ]
     },
     "metadata": {},
     "output_type": "display_data"
    }
   ],
   "source": [
    "sobj"
   ]
  },
  {
   "cell_type": "code",
   "execution_count": 41,
   "metadata": {
    "vscode": {
     "languageId": "r"
    }
   },
   "outputs": [
    {
     "data": {
      "text/html": [
       "<style>\n",
       ".list-inline {list-style: none; margin:0; padding: 0}\n",
       ".list-inline>li {display: inline-block}\n",
       ".list-inline>li:not(:last-child)::after {content: \"\\00b7\"; padding: 0 .5ex}\n",
       "</style>\n",
       "<ol class=list-inline><li>'orig.ident'</li><li>'nCount_RNA'</li><li>'nFeature_RNA'</li><li>'percent.mt'</li><li>'nCount_SCT'</li><li>'nFeature_SCT'</li><li>'SCT_snn_res.1'</li><li>'seurat_clusters'</li><li>'INT_ID'</li><li>'NUM.SNPS'</li><li>'NUM.READS'</li><li>'DROPLET.TYPE'</li><li>'BEST.GUESS'</li><li>'BEST.LLK'</li><li>'NEXT.GUESS'</li><li>'NEXT.LLK'</li><li>'DIFF.LLK.BEST.NEXT'</li><li>'BEST.POSTERIOR'</li><li>'SNG.POSTERIOR'</li><li>'SNG.BEST.GUESS'</li><li>'SNG.BEST.LLK'</li><li>'SNG.NEXT.GUESS'</li><li>'SNG.NEXT.LLK'</li><li>'SNG.ONLY.POSTERIOR'</li><li>'DBL.BEST.GUESS'</li><li>'DBL.BEST.LLK'</li><li>'DIFF.LLK.SNG.DBL'</li><li>'Day'</li><li>'cond.day'</li><li>'condition'</li></ol>\n"
      ],
      "text/latex": [
       "\\begin{enumerate*}\n",
       "\\item 'orig.ident'\n",
       "\\item 'nCount\\_RNA'\n",
       "\\item 'nFeature\\_RNA'\n",
       "\\item 'percent.mt'\n",
       "\\item 'nCount\\_SCT'\n",
       "\\item 'nFeature\\_SCT'\n",
       "\\item 'SCT\\_snn\\_res.1'\n",
       "\\item 'seurat\\_clusters'\n",
       "\\item 'INT\\_ID'\n",
       "\\item 'NUM.SNPS'\n",
       "\\item 'NUM.READS'\n",
       "\\item 'DROPLET.TYPE'\n",
       "\\item 'BEST.GUESS'\n",
       "\\item 'BEST.LLK'\n",
       "\\item 'NEXT.GUESS'\n",
       "\\item 'NEXT.LLK'\n",
       "\\item 'DIFF.LLK.BEST.NEXT'\n",
       "\\item 'BEST.POSTERIOR'\n",
       "\\item 'SNG.POSTERIOR'\n",
       "\\item 'SNG.BEST.GUESS'\n",
       "\\item 'SNG.BEST.LLK'\n",
       "\\item 'SNG.NEXT.GUESS'\n",
       "\\item 'SNG.NEXT.LLK'\n",
       "\\item 'SNG.ONLY.POSTERIOR'\n",
       "\\item 'DBL.BEST.GUESS'\n",
       "\\item 'DBL.BEST.LLK'\n",
       "\\item 'DIFF.LLK.SNG.DBL'\n",
       "\\item 'Day'\n",
       "\\item 'cond.day'\n",
       "\\item 'condition'\n",
       "\\end{enumerate*}\n"
      ],
      "text/markdown": [
       "1. 'orig.ident'\n",
       "2. 'nCount_RNA'\n",
       "3. 'nFeature_RNA'\n",
       "4. 'percent.mt'\n",
       "5. 'nCount_SCT'\n",
       "6. 'nFeature_SCT'\n",
       "7. 'SCT_snn_res.1'\n",
       "8. 'seurat_clusters'\n",
       "9. 'INT_ID'\n",
       "10. 'NUM.SNPS'\n",
       "11. 'NUM.READS'\n",
       "12. 'DROPLET.TYPE'\n",
       "13. 'BEST.GUESS'\n",
       "14. 'BEST.LLK'\n",
       "15. 'NEXT.GUESS'\n",
       "16. 'NEXT.LLK'\n",
       "17. 'DIFF.LLK.BEST.NEXT'\n",
       "18. 'BEST.POSTERIOR'\n",
       "19. 'SNG.POSTERIOR'\n",
       "20. 'SNG.BEST.GUESS'\n",
       "21. 'SNG.BEST.LLK'\n",
       "22. 'SNG.NEXT.GUESS'\n",
       "23. 'SNG.NEXT.LLK'\n",
       "24. 'SNG.ONLY.POSTERIOR'\n",
       "25. 'DBL.BEST.GUESS'\n",
       "26. 'DBL.BEST.LLK'\n",
       "27. 'DIFF.LLK.SNG.DBL'\n",
       "28. 'Day'\n",
       "29. 'cond.day'\n",
       "30. 'condition'\n",
       "\n",
       "\n"
      ],
      "text/plain": [
       " [1] \"orig.ident\"         \"nCount_RNA\"         \"nFeature_RNA\"      \n",
       " [4] \"percent.mt\"         \"nCount_SCT\"         \"nFeature_SCT\"      \n",
       " [7] \"SCT_snn_res.1\"      \"seurat_clusters\"    \"INT_ID\"            \n",
       "[10] \"NUM.SNPS\"           \"NUM.READS\"          \"DROPLET.TYPE\"      \n",
       "[13] \"BEST.GUESS\"         \"BEST.LLK\"           \"NEXT.GUESS\"        \n",
       "[16] \"NEXT.LLK\"           \"DIFF.LLK.BEST.NEXT\" \"BEST.POSTERIOR\"    \n",
       "[19] \"SNG.POSTERIOR\"      \"SNG.BEST.GUESS\"     \"SNG.BEST.LLK\"      \n",
       "[22] \"SNG.NEXT.GUESS\"     \"SNG.NEXT.LLK\"       \"SNG.ONLY.POSTERIOR\"\n",
       "[25] \"DBL.BEST.GUESS\"     \"DBL.BEST.LLK\"       \"DIFF.LLK.SNG.DBL\"  \n",
       "[28] \"Day\"                \"cond.day\"           \"condition\"         "
      ]
     },
     "metadata": {},
     "output_type": "display_data"
    }
   ],
   "source": [
    "unique(colnames(sobj@meta.data))"
   ]
  },
  {
   "cell_type": "code",
   "execution_count": 42,
   "metadata": {
    "vscode": {
     "languageId": "r"
    }
   },
   "outputs": [],
   "source": [
    "Idents(sobj) <- \"seurat_clusters\""
   ]
  },
  {
   "cell_type": "code",
   "execution_count": 43,
   "metadata": {
    "vscode": {
     "languageId": "r"
    }
   },
   "outputs": [],
   "source": [
    "sobj <- RenameIdents(object = sobj, \n",
    "                     \"0\" = \"Mature AT2\", \n",
    "                     \"1\" = \"Aberrant Basal\", \n",
    "                     \"2\" = \"Mature AT2\", \n",
    "                     \"3\" = \"Mature AT2\", \n",
    "                     \"4\" = \"Fresh AT2\", \n",
    "                     \"5\" = \"Mature AT2\", \n",
    "                     \"6\" = \"Mature AT2\", \n",
    "                     \"7\" = \"Mature AT2\", \n",
    "                     \"8\" = \"Aberrant Basal\", \n",
    "                     \"9\" = \"Aberrant Basal\", \n",
    "                     \"10\" = \"Fresh AT2\", \n",
    "                     \"11\" = \"Aberrant Basal\", \n",
    "                     \"12\" = \"Mature AT2\", \n",
    "                     \"13\" = \"Mature AT2\", \n",
    "                     \"14\" = \"Mature AT2\", \n",
    "                     \"15\" = \"Mature AT2\", \n",
    "                     \"16\" = \"Aberrant Basal\", \n",
    "                     \"17\" = \"Mature AT2\", \n",
    "                     \"18\" = \"Mature AT2\", \n",
    "                     \"19\" = \"Mature AT2\", \n",
    "                     \"20\" = \"Mature AT2\", \n",
    "                     \"21\" = \"Fresh AT2\", \n",
    "                     \"22\" = \"Fresh AT2\", \n",
    "                     \"23\" = \"Aberrant Basal\", \n",
    "                     \"24\" = \"Mature AT2\")\n"
   ]
  },
  {
   "cell_type": "code",
   "execution_count": 44,
   "metadata": {
    "vscode": {
     "languageId": "r"
    }
   },
   "outputs": [
    {
     "data": {
      "text/html": [
       "<style>\n",
       ".list-inline {list-style: none; margin:0; padding: 0}\n",
       ".list-inline>li {display: inline-block}\n",
       ".list-inline>li:not(:last-child)::after {content: \"\\00b7\"; padding: 0 .5ex}\n",
       "</style>\n",
       "<ol class=list-inline><li>Mature AT2</li><li>Aberrant Basal</li><li>Fresh AT2</li></ol>\n",
       "\n",
       "<details>\n",
       "\t<summary style=display:list-item;cursor:pointer>\n",
       "\t\t<strong>Levels</strong>:\n",
       "\t</summary>\n",
       "\t<style>\n",
       "\t.list-inline {list-style: none; margin:0; padding: 0}\n",
       "\t.list-inline>li {display: inline-block}\n",
       "\t.list-inline>li:not(:last-child)::after {content: \"\\00b7\"; padding: 0 .5ex}\n",
       "\t</style>\n",
       "\t<ol class=list-inline><li>'Mature AT2'</li><li>'Aberrant Basal'</li><li>'Fresh AT2'</li></ol>\n",
       "</details>"
      ],
      "text/latex": [
       "\\begin{enumerate*}\n",
       "\\item Mature AT2\n",
       "\\item Aberrant Basal\n",
       "\\item Fresh AT2\n",
       "\\end{enumerate*}\n",
       "\n",
       "\\emph{Levels}: \\begin{enumerate*}\n",
       "\\item 'Mature AT2'\n",
       "\\item 'Aberrant Basal'\n",
       "\\item 'Fresh AT2'\n",
       "\\end{enumerate*}\n"
      ],
      "text/markdown": [
       "1. Mature AT2\n",
       "2. Aberrant Basal\n",
       "3. Fresh AT2\n",
       "\n",
       "\n",
       "\n",
       "**Levels**: 1. 'Mature AT2'\n",
       "2. 'Aberrant Basal'\n",
       "3. 'Fresh AT2'\n",
       "\n",
       "\n"
      ],
      "text/plain": [
       "[1] Mature AT2     Aberrant Basal Fresh AT2     \n",
       "Levels: Mature AT2 Aberrant Basal Fresh AT2"
      ]
     },
     "metadata": {},
     "output_type": "display_data"
    }
   ],
   "source": [
    "unique(Idents(sobj))"
   ]
  },
  {
   "cell_type": "code",
   "execution_count": 45,
   "metadata": {
    "vscode": {
     "languageId": "r"
    }
   },
   "outputs": [],
   "source": [
    "sobj <- StashIdent(object = sobj, save.name = \"broad_anno\")"
   ]
  },
  {
   "cell_type": "code",
   "execution_count": 46,
   "metadata": {
    "vscode": {
     "languageId": "r"
    }
   },
   "outputs": [
    {
     "data": {
      "text/html": [
       "<style>\n",
       ".list-inline {list-style: none; margin:0; padding: 0}\n",
       ".list-inline>li {display: inline-block}\n",
       ".list-inline>li:not(:last-child)::after {content: \"\\00b7\"; padding: 0 .5ex}\n",
       "</style>\n",
       "<ol class=list-inline><li>'orig.ident'</li><li>'nCount_RNA'</li><li>'nFeature_RNA'</li><li>'percent.mt'</li><li>'nCount_SCT'</li><li>'nFeature_SCT'</li><li>'SCT_snn_res.1'</li><li>'seurat_clusters'</li><li>'INT_ID'</li><li>'NUM.SNPS'</li><li>'NUM.READS'</li><li>'DROPLET.TYPE'</li><li>'BEST.GUESS'</li><li>'BEST.LLK'</li><li>'NEXT.GUESS'</li><li>'NEXT.LLK'</li><li>'DIFF.LLK.BEST.NEXT'</li><li>'BEST.POSTERIOR'</li><li>'SNG.POSTERIOR'</li><li>'SNG.BEST.GUESS'</li><li>'SNG.BEST.LLK'</li><li>'SNG.NEXT.GUESS'</li><li>'SNG.NEXT.LLK'</li><li>'SNG.ONLY.POSTERIOR'</li><li>'DBL.BEST.GUESS'</li><li>'DBL.BEST.LLK'</li><li>'DIFF.LLK.SNG.DBL'</li><li>'Day'</li><li>'cond.day'</li><li>'condition'</li><li>'broad_anno'</li></ol>\n"
      ],
      "text/latex": [
       "\\begin{enumerate*}\n",
       "\\item 'orig.ident'\n",
       "\\item 'nCount\\_RNA'\n",
       "\\item 'nFeature\\_RNA'\n",
       "\\item 'percent.mt'\n",
       "\\item 'nCount\\_SCT'\n",
       "\\item 'nFeature\\_SCT'\n",
       "\\item 'SCT\\_snn\\_res.1'\n",
       "\\item 'seurat\\_clusters'\n",
       "\\item 'INT\\_ID'\n",
       "\\item 'NUM.SNPS'\n",
       "\\item 'NUM.READS'\n",
       "\\item 'DROPLET.TYPE'\n",
       "\\item 'BEST.GUESS'\n",
       "\\item 'BEST.LLK'\n",
       "\\item 'NEXT.GUESS'\n",
       "\\item 'NEXT.LLK'\n",
       "\\item 'DIFF.LLK.BEST.NEXT'\n",
       "\\item 'BEST.POSTERIOR'\n",
       "\\item 'SNG.POSTERIOR'\n",
       "\\item 'SNG.BEST.GUESS'\n",
       "\\item 'SNG.BEST.LLK'\n",
       "\\item 'SNG.NEXT.GUESS'\n",
       "\\item 'SNG.NEXT.LLK'\n",
       "\\item 'SNG.ONLY.POSTERIOR'\n",
       "\\item 'DBL.BEST.GUESS'\n",
       "\\item 'DBL.BEST.LLK'\n",
       "\\item 'DIFF.LLK.SNG.DBL'\n",
       "\\item 'Day'\n",
       "\\item 'cond.day'\n",
       "\\item 'condition'\n",
       "\\item 'broad\\_anno'\n",
       "\\end{enumerate*}\n"
      ],
      "text/markdown": [
       "1. 'orig.ident'\n",
       "2. 'nCount_RNA'\n",
       "3. 'nFeature_RNA'\n",
       "4. 'percent.mt'\n",
       "5. 'nCount_SCT'\n",
       "6. 'nFeature_SCT'\n",
       "7. 'SCT_snn_res.1'\n",
       "8. 'seurat_clusters'\n",
       "9. 'INT_ID'\n",
       "10. 'NUM.SNPS'\n",
       "11. 'NUM.READS'\n",
       "12. 'DROPLET.TYPE'\n",
       "13. 'BEST.GUESS'\n",
       "14. 'BEST.LLK'\n",
       "15. 'NEXT.GUESS'\n",
       "16. 'NEXT.LLK'\n",
       "17. 'DIFF.LLK.BEST.NEXT'\n",
       "18. 'BEST.POSTERIOR'\n",
       "19. 'SNG.POSTERIOR'\n",
       "20. 'SNG.BEST.GUESS'\n",
       "21. 'SNG.BEST.LLK'\n",
       "22. 'SNG.NEXT.GUESS'\n",
       "23. 'SNG.NEXT.LLK'\n",
       "24. 'SNG.ONLY.POSTERIOR'\n",
       "25. 'DBL.BEST.GUESS'\n",
       "26. 'DBL.BEST.LLK'\n",
       "27. 'DIFF.LLK.SNG.DBL'\n",
       "28. 'Day'\n",
       "29. 'cond.day'\n",
       "30. 'condition'\n",
       "31. 'broad_anno'\n",
       "\n",
       "\n"
      ],
      "text/plain": [
       " [1] \"orig.ident\"         \"nCount_RNA\"         \"nFeature_RNA\"      \n",
       " [4] \"percent.mt\"         \"nCount_SCT\"         \"nFeature_SCT\"      \n",
       " [7] \"SCT_snn_res.1\"      \"seurat_clusters\"    \"INT_ID\"            \n",
       "[10] \"NUM.SNPS\"           \"NUM.READS\"          \"DROPLET.TYPE\"      \n",
       "[13] \"BEST.GUESS\"         \"BEST.LLK\"           \"NEXT.GUESS\"        \n",
       "[16] \"NEXT.LLK\"           \"DIFF.LLK.BEST.NEXT\" \"BEST.POSTERIOR\"    \n",
       "[19] \"SNG.POSTERIOR\"      \"SNG.BEST.GUESS\"     \"SNG.BEST.LLK\"      \n",
       "[22] \"SNG.NEXT.GUESS\"     \"SNG.NEXT.LLK\"       \"SNG.ONLY.POSTERIOR\"\n",
       "[25] \"DBL.BEST.GUESS\"     \"DBL.BEST.LLK\"       \"DIFF.LLK.SNG.DBL\"  \n",
       "[28] \"Day\"                \"cond.day\"           \"condition\"         \n",
       "[31] \"broad_anno\"        "
      ]
     },
     "metadata": {},
     "output_type": "display_data"
    }
   ],
   "source": [
    "unique(colnames(sobj@meta.data))"
   ]
  },
  {
   "cell_type": "code",
   "execution_count": 47,
   "metadata": {
    "vscode": {
     "languageId": "r"
    }
   },
   "outputs": [],
   "source": [
    "sobj.0 <- subset(sobj, subset = Day %in% \"Day.0\")\n",
    "sobj.4 <- subset(sobj, subset = Day %in% \"Day.4\")\n",
    "sobj.7 <- subset(sobj, subset = Day %in% \"Day.7\")"
   ]
  },
  {
   "cell_type": "code",
   "execution_count": 51,
   "metadata": {
    "vscode": {
     "languageId": "r"
    }
   },
   "outputs": [],
   "source": [
    "norm_cellquant_bplot2.0 <- function (sobj, dset.col = \"orig.ident\", xlab = \"seurat_clusters\", stack.by = \"condition\", rand.cols = FALSE){\n",
    "    # Create table of cells observed for our dataset and xaxis variable\n",
    "    table <- table(sobj@meta.data[[dset.col]], sobj@meta.data[[xlab]])\n",
    "    \n",
    "    # Normalize the table by dataset cell quantity\n",
    "    nmax <- max(rowSums(table))\n",
    "    norm.df <- data.frame(row.names = rownames(table))\n",
    "    for (r in seq(1, nrow(table))) {\n",
    "        rsum <- sum(table[r, ])\n",
    "        cfactor <- nmax / rsum\n",
    "        trow <- table[r, ] * cfactor\n",
    "        trow <- trow / sum(trow) * 100\n",
    "        norm.df <- rbind(norm.df, trow)\n",
    "    }\n",
    "    \n",
    "    colnames(norm.df) <- colnames(table)\n",
    "    rownames(norm.df) <- rownames(table)\n",
    "    \n",
    "    # Add the stack.by variable\n",
    "    vars <- c()\n",
    "    for (r in rownames(norm.df)){\n",
    "        var <- sobj@meta.data[sobj@meta.data[[dset.col]] == r, stack.by][1]\n",
    "        vars <- append(vars, var)\n",
    "    }\n",
    "    norm.df[[stack.by]] <- vars\n",
    "    \n",
    "    # Melt dataframe for ggplot\n",
    "    norm.df.m <- melt(norm.df, id = stack.by)\n",
    "    \n",
    "    # Create ggplot\n",
    "    cols <- c(\"cadetblue4\", \"lightgoldenrod\", \"salmon\", \"paleturquoise3\", \"palegreen3\", \"mediumpurple1\", \n",
    "              \"salmon\", \"lightblue4\", \"navajowhite1\", \"magenta\", \"coral2\", \"mediumorchid1\", \"midnightblue\", \n",
    "              \"lightgoldenrodyellow\", \"black\", \"lightgrey\", \"mistyrose4\", \"darkcyan\", \"steelblue2\", \n",
    "              \"darkolivegreen3\", \"mediumpurple1\", \"lightskyblue\", \"firebrick2\", \"burlywood\", \"chartreuse1\", \n",
    "              \"deeppink2\", \"khaki\", \"powderblue\", \"slategrey\", \"springgreen\", \"yellow3\", \"orange2\", \n",
    "              \"lightsteelblue3\", \"tomato3\", \"palegreen4\", \"grey27\", \"darkseagreen\", \"blue\", \"darkorchid\", \n",
    "              \"snow2\", \"peachpuff2\", \"magenta2\", \"yellowgreen\", \"cornflowerblue\", \"chocolate\", \"blueviolet\", \n",
    "              \"lightblue1\", \"plum2\", \"gold\", \"orangered\", \"darkslateblue\", \"aquamarine3\", \"mediumseagreen\", \n",
    "              \"lightsalmon\", \"darkgoldenrod\", \"peru\", \"lavender\", \"turquoise\", \"deeppink\", \"tomato\", \"plum\", \n",
    "              \"seashell\", \"springgreen4\", \"lightyellow\", \"chartreuse3\", \"royalblue\", \"lightpink\", \"lightgreen\", \n",
    "              \"seashell2\", \"bisque\", \"lightcoral\", \"forestgreen\", \"slateblue\", \"darkkhaki\", \"darkslategray\", \n",
    "              \"darkgray\", \"hotpink\", \"mediumvioletred\", \"dodgerblue\", \"indianred1\", \"yellow2\", \"greenyellow\", \n",
    "              \"darkturquoise\", \"darkred\", \"mediumslateblue\", \"#DC143C\", \"goldenrod\", \"green4\", \"powderblue\", \n",
    "              \"antiquewhite\", \"lightseagreen\", \"darkviolet\", \"mistyrose\", \"thistle\", \"wheat\", \"firebrick\", \n",
    "              \"forestgreen\", \"mediumorchid\", \"lightskyblue2\", \"slategray\", \"lightsteelblue\", \"cornflower\", \n",
    "              \"indigo\", \"darkviolet\", \"burlywood4\", \"mediumaquamarine\", \"fuchsia\", \"chartreuse\", \"gainsboro\", \n",
    "              \"ivory\", \"tan\", \"oldlace\")\n",
    "   \n",
    "    # Randomize colors for fun\n",
    "    if (rand.cols == TRUE){\n",
    "        cols <- sample(x = cols, size = ncol(norm.df), replace = F)\n",
    "    }\n",
    "    \n",
    "    # Create ggplot\n",
    "    bp <- ggplot(norm.df.m, aes(fill = .data[[stack.by]], y = value, x = variable)) + \n",
    "        geom_bar(position=\"fill\", stat=\"identity\") + \n",
    "        scale_fill_manual(values = cols) +\n",
    "        theme(axis.text.x = element_text(angle = 40, vjust = 0.5, hjust=1)) + \n",
    "        ggtitle(\"Normalized Stacked Barplot\") + \n",
    "        xlab(xlab) + \n",
    "        ylab(\"pct.cell.quantity\")\n",
    "    \n",
    "    return(list(plot = bp, summary_table = norm.df))\n",
    "}\n"
   ]
  },
  {
   "cell_type": "code",
   "execution_count": 68,
   "metadata": {
    "vscode": {
     "languageId": "r"
    }
   },
   "outputs": [
    {
     "name": "stdout",
     "output_type": "stream",
     "text": [
      "[1] \"Day 0 -- ZBC1 = Control samples at day 0 ZBI1 = IPF samples at day 0\"\n"
     ]
    },
    {
     "data": {
      "text/html": [
       "<table class=\"dataframe\">\n",
       "<caption>A data.frame: 2 × 4</caption>\n",
       "<thead>\n",
       "\t<tr><th></th><th scope=col>Mature AT2</th><th scope=col>Aberrant Basal</th><th scope=col>Fresh AT2</th><th scope=col>broad_anno</th></tr>\n",
       "\t<tr><th></th><th scope=col>&lt;dbl&gt;</th><th scope=col>&lt;dbl&gt;</th><th scope=col>&lt;dbl&gt;</th><th scope=col>&lt;fct&gt;</th></tr>\n",
       "</thead>\n",
       "<tbody>\n",
       "\t<tr><th scope=row>0_0_1_ZBC1</th><td>37.867888</td><td>11.8378025</td><td>50.29431</td><td>Mature AT2</td></tr>\n",
       "\t<tr><th scope=row>0_0_4_ZBl1</th><td> 5.869797</td><td> 0.1067236</td><td>94.02348</td><td>Fresh AT2 </td></tr>\n",
       "</tbody>\n",
       "</table>\n"
      ],
      "text/latex": [
       "A data.frame: 2 × 4\n",
       "\\begin{tabular}{r|llll}\n",
       "  & Mature AT2 & Aberrant Basal & Fresh AT2 & broad\\_anno\\\\\n",
       "  & <dbl> & <dbl> & <dbl> & <fct>\\\\\n",
       "\\hline\n",
       "\t0\\_0\\_1\\_ZBC1 & 37.867888 & 11.8378025 & 50.29431 & Mature AT2\\\\\n",
       "\t0\\_0\\_4\\_ZBl1 &  5.869797 &  0.1067236 & 94.02348 & Fresh AT2 \\\\\n",
       "\\end{tabular}\n"
      ],
      "text/markdown": [
       "\n",
       "A data.frame: 2 × 4\n",
       "\n",
       "| <!--/--> | Mature AT2 &lt;dbl&gt; | Aberrant Basal &lt;dbl&gt; | Fresh AT2 &lt;dbl&gt; | broad_anno &lt;fct&gt; |\n",
       "|---|---|---|---|---|\n",
       "| 0_0_1_ZBC1 | 37.867888 | 11.8378025 | 50.29431 | Mature AT2 |\n",
       "| 0_0_4_ZBl1 |  5.869797 |  0.1067236 | 94.02348 | Fresh AT2  |\n",
       "\n"
      ],
      "text/plain": [
       "           Mature AT2 Aberrant Basal Fresh AT2 broad_anno\n",
       "0_0_1_ZBC1 37.867888  11.8378025     50.29431  Mature AT2\n",
       "0_0_4_ZBl1  5.869797   0.1067236     94.02348  Fresh AT2 "
      ]
     },
     "metadata": {},
     "output_type": "display_data"
    },
    {
     "name": "stdout",
     "output_type": "stream",
     "text": [
      "[1] \"Day 4 -- ZBC2 = Control samples at day 4 ZBI3 = IPF samples at day 4 \"\n"
     ]
    },
    {
     "data": {
      "text/html": [
       "<table class=\"dataframe\">\n",
       "<caption>A data.frame: 2 × 4</caption>\n",
       "<thead>\n",
       "\t<tr><th></th><th scope=col>Mature AT2</th><th scope=col>Aberrant Basal</th><th scope=col>Fresh AT2</th><th scope=col>broad_anno</th></tr>\n",
       "\t<tr><th></th><th scope=col>&lt;dbl&gt;</th><th scope=col>&lt;dbl&gt;</th><th scope=col>&lt;dbl&gt;</th><th scope=col>&lt;fct&gt;</th></tr>\n",
       "</thead>\n",
       "<tbody>\n",
       "\t<tr><th scope=row>0_0_2_ZBC2</th><td>87.282835</td><td> 6.254343</td><td>6.462821</td><td>Mature AT2    </td></tr>\n",
       "\t<tr><th scope=row>0_0_6_ZBl3</th><td> 1.890034</td><td>92.869416</td><td>5.240550</td><td>Aberrant Basal</td></tr>\n",
       "</tbody>\n",
       "</table>\n"
      ],
      "text/latex": [
       "A data.frame: 2 × 4\n",
       "\\begin{tabular}{r|llll}\n",
       "  & Mature AT2 & Aberrant Basal & Fresh AT2 & broad\\_anno\\\\\n",
       "  & <dbl> & <dbl> & <dbl> & <fct>\\\\\n",
       "\\hline\n",
       "\t0\\_0\\_2\\_ZBC2 & 87.282835 &  6.254343 & 6.462821 & Mature AT2    \\\\\n",
       "\t0\\_0\\_6\\_ZBl3 &  1.890034 & 92.869416 & 5.240550 & Aberrant Basal\\\\\n",
       "\\end{tabular}\n"
      ],
      "text/markdown": [
       "\n",
       "A data.frame: 2 × 4\n",
       "\n",
       "| <!--/--> | Mature AT2 &lt;dbl&gt; | Aberrant Basal &lt;dbl&gt; | Fresh AT2 &lt;dbl&gt; | broad_anno &lt;fct&gt; |\n",
       "|---|---|---|---|---|\n",
       "| 0_0_2_ZBC2 | 87.282835 |  6.254343 | 6.462821 | Mature AT2     |\n",
       "| 0_0_6_ZBl3 |  1.890034 | 92.869416 | 5.240550 | Aberrant Basal |\n",
       "\n"
      ],
      "text/plain": [
       "           Mature AT2 Aberrant Basal Fresh AT2 broad_anno    \n",
       "0_0_2_ZBC2 87.282835   6.254343      6.462821  Mature AT2    \n",
       "0_0_6_ZBl3  1.890034  92.869416      5.240550  Aberrant Basal"
      ]
     },
     "metadata": {},
     "output_type": "display_data"
    },
    {
     "name": "stdout",
     "output_type": "stream",
     "text": [
      "[1] \"Day 7 -- ZBC3 =  Control samples at day 7 ZBI2 = IPF samples at day 7\"\n"
     ]
    },
    {
     "data": {
      "text/html": [
       "<table class=\"dataframe\">\n",
       "<caption>A data.frame: 2 × 4</caption>\n",
       "<thead>\n",
       "\t<tr><th></th><th scope=col>Mature AT2</th><th scope=col>Aberrant Basal</th><th scope=col>Fresh AT2</th><th scope=col>broad_anno</th></tr>\n",
       "\t<tr><th></th><th scope=col>&lt;dbl&gt;</th><th scope=col>&lt;dbl&gt;</th><th scope=col>&lt;dbl&gt;</th><th scope=col>&lt;fct&gt;</th></tr>\n",
       "</thead>\n",
       "<tbody>\n",
       "\t<tr><th scope=row>0_0_3_ZBC3</th><td>86.44216</td><td>11.73010</td><td>1.827742</td><td>Mature AT2    </td></tr>\n",
       "\t<tr><th scope=row>0_0_5_ZBl2</th><td> 4.61165</td><td>90.38835</td><td>5.000000</td><td>Aberrant Basal</td></tr>\n",
       "</tbody>\n",
       "</table>\n"
      ],
      "text/latex": [
       "A data.frame: 2 × 4\n",
       "\\begin{tabular}{r|llll}\n",
       "  & Mature AT2 & Aberrant Basal & Fresh AT2 & broad\\_anno\\\\\n",
       "  & <dbl> & <dbl> & <dbl> & <fct>\\\\\n",
       "\\hline\n",
       "\t0\\_0\\_3\\_ZBC3 & 86.44216 & 11.73010 & 1.827742 & Mature AT2    \\\\\n",
       "\t0\\_0\\_5\\_ZBl2 &  4.61165 & 90.38835 & 5.000000 & Aberrant Basal\\\\\n",
       "\\end{tabular}\n"
      ],
      "text/markdown": [
       "\n",
       "A data.frame: 2 × 4\n",
       "\n",
       "| <!--/--> | Mature AT2 &lt;dbl&gt; | Aberrant Basal &lt;dbl&gt; | Fresh AT2 &lt;dbl&gt; | broad_anno &lt;fct&gt; |\n",
       "|---|---|---|---|---|\n",
       "| 0_0_3_ZBC3 | 86.44216 | 11.73010 | 1.827742 | Mature AT2     |\n",
       "| 0_0_5_ZBl2 |  4.61165 | 90.38835 | 5.000000 | Aberrant Basal |\n",
       "\n"
      ],
      "text/plain": [
       "           Mature AT2 Aberrant Basal Fresh AT2 broad_anno    \n",
       "0_0_3_ZBC3 86.44216   11.73010       1.827742  Mature AT2    \n",
       "0_0_5_ZBl2  4.61165   90.38835       5.000000  Aberrant Basal"
      ]
     },
     "metadata": {},
     "output_type": "display_data"
    }
   ],
   "source": [
    "result<- norm_cellquant_bplot2.0(sobj.0, dset.col = \"SNG.BEST.GUESS\", xlab = \"broad_anno\", stack.by = \"broad_anno\", rand.cols = TRUE)\n",
    "\n",
    "plot <- result$plot\n",
    "summary_table <- result$summary_table\n",
    "print(\"Day 0 -- ZBC1 = Control samples at day 0 ZBI1 = IPF samples at day 0\")\n",
    "summary_table\n",
    "result<- norm_cellquant_bplot2.0(sobj.4, dset.col = \"SNG.BEST.GUESS\", xlab = \"broad_anno\", stack.by = \"broad_anno\", rand.cols = TRUE)\n",
    "\n",
    "plot <- result$plot\n",
    "summary_table <- result$summary_table\n",
    "print(\"Day 4 -- ZBC2 = Control samples at day 4 ZBI3 = IPF samples at day 4 \")\n",
    "summary_table\n",
    "\n",
    "result<- norm_cellquant_bplot2.0(sobj.7, dset.col = \"SNG.BEST.GUESS\", xlab = \"broad_anno\", stack.by = \"broad_anno\", rand.cols = TRUE)\n",
    "\n",
    "plot <- result$plot\n",
    "summary_table <- result$summary_table\n",
    "print(\"Day 7 -- ZBC3 =  Control samples at day 7 ZBI2 = IPF samples at day 7\")\n",
    "summary_table\n",
    "\n",
    "\n"
   ]
  },
  {
   "cell_type": "code",
   "execution_count": 62,
   "metadata": {
    "vscode": {
     "languageId": "r"
    }
   },
   "outputs": [
    {
     "data": {
      "text/plain": [
       "\n",
       "0_0_1_ZBC1 0_0_4_ZBl1 \n",
       "      1529        937 "
      ]
     },
     "metadata": {},
     "output_type": "display_data"
    },
    {
     "data": {
      "text/plain": [
       "\n",
       "0_0_2_ZBC2 0_0_6_ZBl3 \n",
       "      2878       1164 "
      ]
     },
     "metadata": {},
     "output_type": "display_data"
    },
    {
     "data": {
      "text/plain": [
       "\n",
       "0_0_3_ZBC3 0_0_5_ZBl2 \n",
       "      7988       2060 "
      ]
     },
     "metadata": {},
     "output_type": "display_data"
    }
   ],
   "source": [
    "table(sobj.0$SNG.BEST.GUESS)\n",
    "table(sobj.4$SNG.BEST.GUESS)\n",
    "table(sobj.7$SNG.BEST.GUESS)"
   ]
  },
  {
   "cell_type": "code",
   "execution_count": null,
   "metadata": {
    "vscode": {
     "languageId": "r"
    }
   },
   "outputs": [],
   "source": [
    "colors<- read.csv(\"../colors_CIRM.csv\", header = TRUE, sep = \",\", stringsAsFactors = FALSE)"
   ]
  },
  {
   "cell_type": "code",
   "execution_count": null,
   "metadata": {
    "vscode": {
     "languageId": "r"
    }
   },
   "outputs": [],
   "source": [
    "colors<- data_frame(c(\"\"))"
   ]
  },
  {
   "cell_type": "code",
   "execution_count": null,
   "metadata": {
    "vscode": {
     "languageId": "r"
    }
   },
   "outputs": [],
   "source": [
    "colors"
   ]
  },
  {
   "cell_type": "code",
   "execution_count": null,
   "metadata": {
    "vscode": {
     "languageId": "r"
    }
   },
   "outputs": [],
   "source": []
  },
  {
   "cell_type": "code",
   "execution_count": null,
   "metadata": {
    "vscode": {
     "languageId": "r"
    }
   },
   "outputs": [],
   "source": [
    "unique(sobj$broad_anno)"
   ]
  },
  {
   "cell_type": "code",
   "execution_count": null,
   "metadata": {
    "vscode": {
     "languageId": "r"
    }
   },
   "outputs": [],
   "source": [
    "colors <- data.frame(\n",
    "  cell_type = c(\"Aberrant Basal\", \"Mature AT2\", \"Fresh AT2\"),\n",
    "  color = c(\"#00CD00\", \"#4169E1\", \"#63B8FF\")\n",
    ")\n"
   ]
  },
  {
   "cell_type": "code",
   "execution_count": null,
   "metadata": {
    "vscode": {
     "languageId": "r"
    }
   },
   "outputs": [],
   "source": [
    "options(repr.plot.width=9, repr.plot.height=8)\n",
    "umap1<- DimPlot(sobj, reduction = \"umap.rna\", group.by = \"broad_anno\") + NoLegend() + scale_color_manual(values = setNames(colors$color, colors$cell_type))\n"
   ]
  },
  {
   "cell_type": "code",
   "execution_count": null,
   "metadata": {
    "vscode": {
     "languageId": "r"
    }
   },
   "outputs": [],
   "source": [
    "umap1"
   ]
  },
  {
   "cell_type": "code",
   "execution_count": null,
   "metadata": {
    "vscode": {
     "languageId": "r"
    }
   },
   "outputs": [],
   "source": [
    " pdf(\"unlabeled.broad.anno.UMAP.pdf\", width = 9, height = 8)\n",
    " print(umap1)\n",
    " dev.off()"
   ]
  },
  {
   "cell_type": "code",
   "execution_count": null,
   "metadata": {
    "vscode": {
     "languageId": "r"
    }
   },
   "outputs": [],
   "source": [
    "9/8"
   ]
  },
  {
   "cell_type": "code",
   "execution_count": null,
   "metadata": {
    "vscode": {
     "languageId": "r"
    }
   },
   "outputs": [],
   "source": [
    "colors <- data.frame(\n",
    "  cell_type = c(\"IPF\", \"control\"),\n",
    "  color = c(\"#A020F0\", \"#CD9B1D\" )\n",
    ")"
   ]
  },
  {
   "cell_type": "code",
   "execution_count": null,
   "metadata": {
    "vscode": {
     "languageId": "r"
    }
   },
   "outputs": [],
   "source": [
    "options(repr.plot.width=20, repr.plot.height=8)\n",
    "umap2<- DimPlot(sobj, reduction = \"umap.rna\", group.by = \"condition\", split.by = \"Day\", ncol = 3) + scale_color_manual(values = setNames(colors$color, colors$cell_type))"
   ]
  },
  {
   "cell_type": "code",
   "execution_count": null,
   "metadata": {
    "vscode": {
     "languageId": "r"
    }
   },
   "outputs": [],
   "source": [
    " pdf(\"split.by.day.condition.UMAP.pdf\", width = 20, height = 8)\n",
    " print(umap2)\n",
    " dev.off()"
   ]
  },
  {
   "cell_type": "code",
   "execution_count": null,
   "metadata": {
    "vscode": {
     "languageId": "r"
    }
   },
   "outputs": [],
   "source": [
    "umap2"
   ]
  },
  {
   "cell_type": "code",
   "execution_count": null,
   "metadata": {
    "vscode": {
     "languageId": "r"
    }
   },
   "outputs": [],
   "source": [
    "20/8"
   ]
  },
  {
   "cell_type": "code",
   "execution_count": null,
   "metadata": {
    "vscode": {
     "languageId": "r"
    }
   },
   "outputs": [],
   "source": [
    "8/20"
   ]
  },
  {
   "cell_type": "code",
   "execution_count": null,
   "metadata": {
    "vscode": {
     "languageId": "r"
    }
   },
   "outputs": [],
   "source": [
    "options(repr.plot.width=20, repr.plot.height=8)\n",
    "# Load the necessary library\n",
    "library(cowplot)\n",
    "\n",
    "# Combine the plots side by side\n",
    "plot_grid(umap1, umap2, ncol = 2)\n"
   ]
  },
  {
   "cell_type": "code",
   "execution_count": null,
   "metadata": {
    "vscode": {
     "languageId": "r"
    }
   },
   "outputs": [],
   "source": [
    "options(repr.plot.width=30, repr.plot.height=8)\n",
    "\n",
    "# Load necessary libraries\n",
    "library(ggplot2)\n",
    "library(gridExtra)\n",
    "library(cowplot)\n",
    "\n",
    "colors <- data.frame(\n",
    "  cell_type = c(\"Aberrant Basal\", \"Mature AT2\", \"Fresh AT2\"),\n",
    "  color = c(\"#00CD00\", \"#4169E1\", \"#63B8FF\")\n",
    ")\n",
    "\n",
    "# Plot 1 with locked aspect ratio\n",
    "umap1 <- DimPlot(sobj, reduction = \"umap.rna\", group.by = \"broad_anno\") + \n",
    "  NoLegend() + \n",
    "  scale_color_manual(values = setNames(colors$color, colors$cell_type)) + \n",
    "  coord_fixed(ratio = 1.125)  # Lock the aspect ratio\n",
    "\n",
    "\n",
    "colors <- data.frame(\n",
    "  cell_type = c(\"IPF\", \"control\"),\n",
    "  color = c(\"#A020F0\", \"#CD9B1D\" )\n",
    ")\n",
    "\n",
    "# Plot 2 with locked aspect ratio\n",
    "umap2 <- DimPlot(sobj, reduction = \"umap.rna\", group.by = \"condition\", split.by = \"Day\", ncol = 3) + \n",
    "  NoLegend() + \n",
    "  scale_color_manual(values = setNames(colors$color, colors$cell_type)) + \n",
    "  coord_fixed(ratio = 1)  # Lock the aspect ratio\n",
    "\n",
    "# Combine the two plots side by side while preserving aspect ratio\n",
    "grid.arrange(umap1, umap2, ncol = 2)\n"
   ]
  },
  {
   "cell_type": "code",
   "execution_count": null,
   "metadata": {
    "vscode": {
     "languageId": "r"
    }
   },
   "outputs": [],
   "source": [
    "colors<- read.table(file = \"../colors_CIRM.csv\")"
   ]
  }
 ],
 "metadata": {
  "kernelspec": {
   "display_name": "R",
   "language": "R",
   "name": "ir"
  },
  "language_info": {
   "codemirror_mode": "r",
   "file_extension": ".r",
   "mimetype": "text/x-r-source",
   "name": "R",
   "pygments_lexer": "r",
   "version": "4.4.1"
  }
 },
 "nbformat": 4,
 "nbformat_minor": 2
}
